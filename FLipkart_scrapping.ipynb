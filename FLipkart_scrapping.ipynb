{
 "cells": [
  {
   "cell_type": "code",
   "execution_count": 1,
   "metadata": {},
   "outputs": [],
   "source": [
    "from bs4 import BeautifulSoup as soup"
   ]
  },
  {
   "cell_type": "code",
   "execution_count": 2,
   "metadata": {},
   "outputs": [],
   "source": [
    "from urllib.request import urlopen as uReq"
   ]
  },
  {
   "cell_type": "code",
   "execution_count": 3,
   "metadata": {},
   "outputs": [],
   "source": [
    "my_url='https://www.flipkart.com/search?q=iphone&otracker=search&otracker1=search&marketplace=FLIPKART&as-show=on&as=off'"
   ]
  },
  {
   "cell_type": "code",
   "execution_count": 4,
   "metadata": {},
   "outputs": [],
   "source": [
    "uClient =uReq(my_url)\n",
    "page_html=uClient.read()\n",
    "uClient.close()\n",
    "page_soup=soup(page_html, \"html.parser\")"
   ]
  },
  {
   "cell_type": "code",
   "execution_count": 5,
   "metadata": {},
   "outputs": [],
   "source": [
    "container=page_soup.find_all(\"div\", {\"class\": \"_3liAhj\"})"
   ]
  },
  {
   "cell_type": "code",
   "execution_count": 6,
   "metadata": {},
   "outputs": [
    {
     "name": "stdout",
     "output_type": "stream",
     "text": [
      "40\n"
     ]
    }
   ],
   "source": [
    "print(len(container))"
   ]
  },
  {
   "cell_type": "code",
   "execution_count": 7,
   "metadata": {},
   "outputs": [
    {
     "name": "stdout",
     "output_type": "stream",
     "text": [
      "<div class=\"_3liAhj\">\n",
      " <a class=\"Zhf2z-\" href=\"/apple-iphone-xr-black-64-gb/p/itmf9z7zxu4uqyz2?pid=MOBF9Z7ZPHGV4GNH&amp;lid=LSTMOBF9Z7ZPHGV4GNH9IFADQ&amp;marketplace=FLIPKART&amp;srno=s_1_40&amp;otracker=search&amp;otracker1=search&amp;fm=organic&amp;iid=a5e9223c-a5dd-4d24-b179-54e2151b7fef.MOBF9Z7ZPHGV4GNH.SEARCH&amp;ssid=lr400x1khs0000001590561314911&amp;qH=0b3f45b266a97d70\" rel=\"noopener noreferrer\" target=\"_blank\">\n",
      "  <div style=\"-webkit-filter:grayscale(1);-moz-filter:grayscale(1);-o-filter:grayscale(1);-ms-filter:grayscale(1);filter:grayscale(1);opacity:0.6\">\n",
      "   <div>\n",
      "    <div class=\"_3BTv9X\" style=\"height:280px;width:200px\">\n",
      "     <img alt=\"Apple iPhone XR (Black, 64 GB)\" class=\"_1Nyybr\" src=\"//img1a.flixcart.com/www/linchpin/fk-cp-zion/img/placeholder_9951d0.svg\"/>\n",
      "    </div>\n",
      "   </div>\n",
      "  </div>\n",
      "  <div class=\"_3aV9Tq\">\n",
      "   <span class=\"_1GJ2ZM\">\n",
      "    Not Deliverable\n",
      "   </span>\n",
      "  </div>\n",
      "  <div class=\"_3gDSOa _3iGnbq\">\n",
      "   <div class=\"DsQ2eg\">\n",
      "    <svg class=\"_2oLiqr\" height=\"16\" viewbox=\"0 0 20 16\" width=\"16\" xmlns=\"http://www.w3.org/2000/svg\">\n",
      "     <path class=\"_35Y7Yo\" d=\"M8.695 16.682C4.06 12.382 1 9.536 1 6.065 1 3.219 3.178 1 5.95 1c1.566 0 3.069.746 4.05 1.915C10.981 1.745 12.484 1 14.05 1 16.822 1 19 3.22 19 6.065c0 3.471-3.06 6.316-7.695 10.617L10 17.897l-1.305-1.215z\" fill=\"#2874F0\" fill-rule=\"evenodd\" opacity=\".9\" stroke=\"#FFF\">\n",
      "     </path>\n",
      "    </svg>\n",
      "   </div>\n",
      "  </div>\n",
      " </a>\n",
      " <a class=\"_2cLu-l\" href=\"/apple-iphone-xr-black-64-gb/p/itmf9z7zxu4uqyz2?pid=MOBF9Z7ZPHGV4GNH&amp;lid=LSTMOBF9Z7ZPHGV4GNH9IFADQ&amp;marketplace=FLIPKART&amp;srno=s_1_40&amp;otracker=search&amp;otracker1=search&amp;fm=organic&amp;iid=a5e9223c-a5dd-4d24-b179-54e2151b7fef.MOBF9Z7ZPHGV4GNH.SEARCH&amp;ssid=lr400x1khs0000001590561314911&amp;qH=0b3f45b266a97d70\" rel=\"noopener noreferrer\" target=\"_blank\" title=\"Apple iPhone XR (Black, 64 GB)\">\n",
      "  Apple iPhone XR (Black, 64 GB)\n",
      " </a>\n",
      " <div class=\"niH0FQ _36Fcw_\">\n",
      "  <span class=\"_2_KrJI\" id=\"productRating_LSTMOBF9Z7ZPHGV4GNH9IFADQ_MOBF9Z7ZPHGV4GNH_\">\n",
      "   <div class=\"hGSR34\">\n",
      "    4.6\n",
      "    <img class=\"_2lQ_WZ\" src=\"data:image/svg+xml;base64,PHN2ZyB4bWxucz0iaHR0cDovL3d3dy53My5vcmcvMjAwMC9zdmciIHdpZHRoPSIxMyIgaGVpZ2h0PSIxMiI+PHBhdGggZmlsbD0iI0ZGRiIgZD0iTTYuNSA5LjQzOWwtMy42NzQgMi4yMy45NC00LjI2LTMuMjEtMi44ODMgNC4yNTQtLjQwNEw2LjUuMTEybDEuNjkgNC4wMSA0LjI1NC40MDQtMy4yMSAyLjg4Mi45NCA0LjI2eiIvPjwvc3ZnPg==\"/>\n",
      "   </div>\n",
      "  </span>\n",
      "  <span class=\"_38sUEc\">\n",
      "   (9,024)\n",
      "  </span>\n",
      " </div>\n",
      " <div class=\"_3LWrw9\">\n",
      "  <img height=\"21\" src=\"//img1a.flixcart.com/www/linchpin/fk-cp-zion/img/fa_8b4b59.png\"/>\n",
      " </div>\n",
      " <a class=\"_1Vfi6u\" href=\"/apple-iphone-xr-black-64-gb/p/itmf9z7zxu4uqyz2?pid=MOBF9Z7ZPHGV4GNH&amp;lid=LSTMOBF9Z7ZPHGV4GNH9IFADQ&amp;marketplace=FLIPKART&amp;srno=s_1_40&amp;otracker=search&amp;otracker1=search&amp;fm=organic&amp;iid=a5e9223c-a5dd-4d24-b179-54e2151b7fef.MOBF9Z7ZPHGV4GNH.SEARCH&amp;ssid=lr400x1khs0000001590561314911&amp;qH=0b3f45b266a97d70\" rel=\"noopener noreferrer\" target=\"_blank\">\n",
      "  <div class=\"_1uv9Cb\">\n",
      "   <div class=\"_1vC4OE\">\n",
      "    ₹52,500\n",
      "   </div>\n",
      "  </div>\n",
      " </a>\n",
      " <div class=\"_2nE8_R\">\n",
      "  <div class=\"_3_G5Wj\" style=\"color:#000000;font-size:14px;font-family:inherit;font-weight:normal\">\n",
      "   Upto\n",
      "  </div>\n",
      "  <div class=\"_3_G5Wj\" style=\"color:#000000;font-size:14px;font-family:inherit;font-weight:bold\">\n",
      "   ₹13,250\n",
      "  </div>\n",
      "  <div class=\"_3_G5Wj\" style=\"color:#000000;font-size:14px;font-family:inherit;font-weight:normal\">\n",
      "   Off on Exchange\n",
      "  </div>\n",
      " </div>\n",
      " <div class=\"_3ighFh\">\n",
      "  <div class=\"_34CFgI\">\n",
      "   <div class=\"_1O_CiZ\">\n",
      "    <span class=\"_1iHA1p\">\n",
      "     <div class=\"_2kFyHg\">\n",
      "      <label>\n",
      "       <input class=\"_3uUUD5\" readonly=\"\" type=\"checkbox\"/>\n",
      "       <div class=\"_1p7h2j\">\n",
      "       </div>\n",
      "      </label>\n",
      "     </div>\n",
      "    </span>\n",
      "    <label class=\"_10TB-Q\">\n",
      "     <span>\n",
      "      Add to Compare\n",
      "     </span>\n",
      "    </label>\n",
      "   </div>\n",
      "  </div>\n",
      " </div>\n",
      "</div>\n"
     ]
    }
   ],
   "source": [
    "#when we have to get all the informations, lets see how the 1st container looks like\n",
    "print(soup.prettify(container[39]))"
   ]
  },
  {
   "cell_type": "code",
   "execution_count": 8,
   "metadata": {},
   "outputs": [],
   "source": [
    "cnt=container[39]"
   ]
  },
  {
   "cell_type": "code",
   "execution_count": 9,
   "metadata": {},
   "outputs": [
    {
     "name": "stdout",
     "output_type": "stream",
     "text": [
      "Apple iPhone XR (Black, 64 GB)\n",
      "<class 'str'>\n"
     ]
    }
   ],
   "source": [
    "#let's print the title of the phone\n",
    "print(cnt.div.img['alt']) \n",
    "print(type(cnt.div.img['alt']))\n",
    "#div since name is in div tag\n",
    "#img since in div, in img tag the name is there in alt="
   ]
  },
  {
   "cell_type": "code",
   "execution_count": 10,
   "metadata": {},
   "outputs": [
    {
     "name": "stdout",
     "output_type": "stream",
     "text": [
      "₹52,500\n"
     ]
    }
   ],
   "source": [
    "#now lets go for price\n",
    "price=cnt.find_all(\"div\", {\"class\": \"_1vC4OE\"})\n",
    "print(price[0].text) #to get pure price or to get the only element required\n",
    "#and since the price isnt in any tag particular"
   ]
  },
  {
   "cell_type": "code",
   "execution_count": 11,
   "metadata": {},
   "outputs": [
    {
     "name": "stdout",
     "output_type": "stream",
     "text": [
      "4.6\n"
     ]
    }
   ],
   "source": [
    "rating=cnt.find_all(\"div\",{\"class\": \"hGSR34\"})\n",
    "print(rating[0].text)"
   ]
  },
  {
   "cell_type": "code",
   "execution_count": 12,
   "metadata": {},
   "outputs": [],
   "source": [
    "#creating a file to store all the data\n",
    "filename=\"procucts0.csv\"\n",
    "f=open(filename,\"w\")"
   ]
  },
  {
   "cell_type": "code",
   "execution_count": 13,
   "metadata": {},
   "outputs": [
    {
     "data": {
      "text/plain": [
       "28"
      ]
     },
     "execution_count": 13,
     "metadata": {},
     "output_type": "execute_result"
    }
   ],
   "source": [
    "headers=\"Product_name,Pricing,Rating\\n\" #setting up columns name\n",
    "f.write(headers)"
   ]
  },
  {
   "cell_type": "code",
   "execution_count": 14,
   "metadata": {},
   "outputs": [
    {
     "name": "stdout",
     "output_type": "stream",
     "text": [
      "1\n",
      "Apple iPhone SE (Black| 64 GB),42500,4.7\n",
      "\n",
      "2\n",
      "Apple iPhone SE (White| 64 GB),42500,4.7\n",
      "\n",
      "3\n",
      "Apple iPhone 7 (Black| 32 GB),29499,4.5\n",
      "\n",
      "4\n",
      "Apple iPhone SE (Red| 64 GB),42500,4.7\n",
      "\n",
      "5\n",
      "Apple iPhone SE (Black| 128 GB),47800,4.7\n",
      "\n",
      "6\n",
      "Apple iPhone SE (White| 128 GB),47800,4.7\n",
      "\n",
      "7\n",
      "Apple iPhone SE (Red| 128 GB),47800,4.7\n",
      "\n",
      "8\n",
      "Apple iPhone 7 Plus (Black| 32 GB),36999,4.5\n",
      "\n",
      "9\n",
      "Apple iPhone XS (Space Grey| 64 GB),62999,4.7\n",
      "\n",
      "10\n",
      "Apple iPhone 11 (Black| 128 GB),73600,4.7\n",
      "\n",
      "11\n",
      "Apple iPhone 11 (Black| 64 GB),68300,4.7\n",
      "\n",
      "12\n",
      "Apple iPhone 11 (Purple| 64 GB),68300,4.7\n",
      "\n",
      "13\n",
      "Flipkart SmartBuy Tempered Glass Guard for Apple iPhone SE| Apple iPhone SE 2020,219,3.4\n",
      "\n",
      "14\n",
      "Apple iPhone 11 (White| 128 GB),73600,4.7\n",
      "\n",
      "15\n",
      "Apple iPhone 7 Plus (Rose Gold| 32 GB),36999,4.5\n",
      "\n",
      "16\n",
      "Apple iPhone 11 (Purple| 128 GB),73600,4.7\n",
      "\n",
      "17\n",
      "Apple iPhone XS (Gold| 64 GB),62999,4.7\n",
      "\n",
      "18\n",
      "Apple iPhone 11 (White| 64 GB),68300,4.7\n",
      "\n",
      "19\n",
      "Apple iPhone XS (Silver| 64 GB),62999,4.7\n",
      "\n",
      "20\n",
      "Apple iPhone XR (Black| 128 GB),57800,4.6\n",
      "\n",
      "21\n",
      "Apple iPhone 7 Plus (Gold| 32 GB),36999,4.5\n",
      "\n",
      "22\n",
      "Apple iPhone 8 (Silver| 64 GB),38999,4.5\n",
      "\n",
      "23\n",
      "Apple iPhone XR (White| 128 GB),57800,4.6\n",
      "\n",
      "24\n",
      "Apple iPhone XR (Yellow| 64 GB),52500,4.6\n",
      "\n",
      "25\n",
      "Apple iPhone 11 (Red| 64 GB),68300,4.7\n",
      "\n",
      "26\n",
      "Dainty Tempered Glass Guard for Apple iPhone SE 2020| Apple iPhone SE 2| Apple iphone 7| Apple iPhone 8,179,3.9\n",
      "\n",
      "27\n",
      "Apple iPhone 11 (Green| 128 GB),73600,4.7\n",
      "\n",
      "28\n",
      "Apple iPhone XR (Blue| 64 GB),52500,4.6\n",
      "\n",
      "29\n",
      "Apple iPhone SE (Black| 256 GB),58300,4.7\n",
      "\n",
      "30\n",
      "Apple iPhone XR (Coral| 128 GB),57800,4.6\n",
      "\n",
      "31\n",
      "Apple iPhone 8 (Space Grey| 64 GB),38999,4.5\n",
      "\n",
      "32\n",
      "Apple iPhone 11 (Yellow| 128 GB),73600,4.7\n",
      "\n",
      "33\n",
      "Apple iPhone 11 (Red| 128 GB),73600,4.7\n",
      "\n",
      "34\n",
      "Apple iPhone XR (Coral| 64 GB),52500,4.6\n",
      "\n",
      "35\n",
      "Apple iPhone SE (Red| 256 GB),58300,4.7\n",
      "\n",
      "36\n",
      "Apple iPhone 7 (Rose Gold| 32 GB),29499,4.5\n",
      "\n",
      "37\n",
      "Apple iPhone XR ((PRODUCT)RED| 128 GB),57800,4.6\n",
      "\n",
      "38\n",
      "Apple iPhone 7 Plus (Silver| 32 GB),36999,4.5\n",
      "\n",
      "39\n",
      "Knotyy Tempered Glass Guard for Apple iPhone SE| Apple iPhone Se 2020,199,1.7\n",
      "\n",
      "40\n",
      "Apple iPhone XR (Black| 64 GB),52500,4.6\n",
      "\n"
     ]
    }
   ],
   "source": [
    "a=0\n",
    "for i in container:\n",
    "    p_name=i.div.img['alt']\n",
    "    p_c=i.find_all(\"div\", {\"class\": \"_1vC4OE\"})\n",
    "    price=p_c[0].text.strip() #to remove unnecessary things\n",
    "    price=price[1:]\n",
    "    r_c=i.find_all(\"div\", {\"class\": \"hGSR34\"})\n",
    "    #rating=r_c[0].text.strip()\n",
    "    #print(\"name: \",p_name)\n",
    "    #print(\"price: \", price)\n",
    "    #print(\"rating: \"+ rating)\n",
    "    a+=1\n",
    "    print(a)\n",
    "    print(p_name.replace(\",\",\"|\")+\",\"+price.replace(\",\",\"\")+\",\"+r_c[0].text.strip()+\"\\n\")\n",
    "    f.write(p_name.replace(\",\",\"|\")+\",\"+price.replace(\",\",\"\")+\",\"+r_c[0].text.strip()+\"\\n\")\n",
    "f.close()"
   ]
  },
  {
   "cell_type": "code",
   "execution_count": null,
   "metadata": {},
   "outputs": [],
   "source": []
  }
 ],
 "metadata": {
  "kernelspec": {
   "display_name": "Python 3",
   "language": "python",
   "name": "python3"
  },
  "language_info": {
   "codemirror_mode": {
    "name": "ipython",
    "version": 3
   },
   "file_extension": ".py",
   "mimetype": "text/x-python",
   "name": "python",
   "nbconvert_exporter": "python",
   "pygments_lexer": "ipython3",
   "version": "3.7.6"
  }
 },
 "nbformat": 4,
 "nbformat_minor": 4
}
