{
 "cells": [
  {
   "cell_type": "code",
   "execution_count": 1,
   "id": "f20189ee",
   "metadata": {},
   "outputs": [],
   "source": [
    "import charade"
   ]
  },
  {
   "cell_type": "code",
   "execution_count": 2,
   "id": "82f1d63c",
   "metadata": {},
   "outputs": [],
   "source": [
    "string = 'E751785A03CF6AF2 3375AF4C2056A59C'"
   ]
  },
  {
   "cell_type": "code",
   "execution_count": 6,
   "id": "2656a15b",
   "metadata": {},
   "outputs": [],
   "source": [
    "result1 = string.encode()"
   ]
  },
  {
   "cell_type": "code",
   "execution_count": 9,
   "id": "0241bd87",
   "metadata": {},
   "outputs": [
    {
     "ename": "NameError",
     "evalue": "name 'detect' is not defined",
     "output_type": "error",
     "traceback": [
      "\u001b[1;31m---------------------------------------------------------------------------\u001b[0m",
      "\u001b[1;31mNameError\u001b[0m                                 Traceback (most recent call last)",
      "\u001b[1;32m<ipython-input-9-9965a8a42ce9>\u001b[0m in \u001b[0;36m<module>\u001b[1;34m\u001b[0m\n\u001b[1;32m----> 1\u001b[1;33m \u001b[0mresult2\u001b[0m \u001b[1;33m=\u001b[0m \u001b[0mdetect\u001b[0m\u001b[1;33m(\u001b[0m\u001b[0mresult1\u001b[0m\u001b[1;33m)\u001b[0m\u001b[1;33m[\u001b[0m\u001b[1;34m'encoding'\u001b[0m\u001b[1;33m]\u001b[0m\u001b[1;33m\u001b[0m\u001b[1;33m\u001b[0m\u001b[0m\n\u001b[0m",
      "\u001b[1;31mNameError\u001b[0m: name 'detect' is not defined"
     ]
    }
   ],
   "source": [
    "result2 = detect(result1)['encoding']"
   ]
  },
  {
   "cell_type": "code",
   "execution_count": 10,
   "id": "75cc51f2",
   "metadata": {},
   "outputs": [
    {
     "name": "stdout",
     "output_type": "stream",
     "text": [
      "Help on package charade:\n",
      "\n",
      "NAME\n",
      "    charade\n",
      "\n",
      "DESCRIPTION\n",
      "    ######################## BEGIN LICENSE BLOCK ########################\n",
      "    # This library is free software; you can redistribute it and/or\n",
      "    # modify it under the terms of the GNU Lesser General Public\n",
      "    # License as published by the Free Software Foundation; either\n",
      "    # version 2.1 of the License, or (at your option) any later version.\n",
      "    #\n",
      "    # This library is distributed in the hope that it will be useful,\n",
      "    # but WITHOUT ANY WARRANTY; without even the implied warranty of\n",
      "    # MERCHANTABILITY or FITNESS FOR A PARTICULAR PURPOSE.  See the GNU\n",
      "    # Lesser General Public License for more details.\n",
      "    #\n",
      "    # You should have received a copy of the GNU Lesser General Public\n",
      "    # License along with this library; if not, write to the Free Software\n",
      "    # Foundation, Inc., 51 Franklin St, Fifth Floor, Boston, MA\n",
      "    # 02110-1301  USA\n",
      "    ######################### END LICENSE BLOCK #########################\n",
      "\n",
      "PACKAGE CONTENTS\n",
      "    big5freq\n",
      "    big5prober\n",
      "    chardistribution\n",
      "    charsetgroupprober\n",
      "    charsetprober\n",
      "    codingstatemachine\n",
      "    compat\n",
      "    constants\n",
      "    escprober\n",
      "    escsm\n",
      "    eucjpprober\n",
      "    euckrfreq\n",
      "    euckrprober\n",
      "    euctwfreq\n",
      "    euctwprober\n",
      "    gb2312freq\n",
      "    gb2312prober\n",
      "    hebrewprober\n",
      "    jisfreq\n",
      "    jpcntx\n",
      "    langbulgarianmodel\n",
      "    langcyrillicmodel\n",
      "    langgreekmodel\n",
      "    langhebrewmodel\n",
      "    langhungarianmodel\n",
      "    langthaimodel\n",
      "    latin1prober\n",
      "    mbcharsetprober\n",
      "    mbcsgroupprober\n",
      "    mbcssm\n",
      "    sbcharsetprober\n",
      "    sbcsgroupprober\n",
      "    sjisprober\n",
      "    universaldetector\n",
      "    utf8prober\n",
      "\n",
      "FUNCTIONS\n",
      "    detect(aBuf)\n",
      "\n",
      "VERSION\n",
      "    1.0.3\n",
      "\n",
      "FILE\n",
      "    c:\\users\\shivleon\\anaconda3\\lib\\site-packages\\charade\\__init__.py\n",
      "\n",
      "\n"
     ]
    }
   ],
   "source": [
    "help(charade)"
   ]
  },
  {
   "cell_type": "code",
   "execution_count": 12,
   "id": "aeb5188e",
   "metadata": {},
   "outputs": [
    {
     "data": {
      "text/plain": [
       "['EscCharSetProber',\n",
       " 'Latin1Prober',\n",
       " 'MBCSGroupProber',\n",
       " 'MINIMUM_THRESHOLD',\n",
       " 'SBCSGroupProber',\n",
       " 'UniversalDetector',\n",
       " '__builtins__',\n",
       " '__cached__',\n",
       " '__doc__',\n",
       " '__file__',\n",
       " '__loader__',\n",
       " '__name__',\n",
       " '__package__',\n",
       " '__spec__',\n",
       " 'codecs',\n",
       " 'constants',\n",
       " 'eEscAscii',\n",
       " 'eHighbyte',\n",
       " 'ePureAscii',\n",
       " 're',\n",
       " 'sys']"
      ]
     },
     "execution_count": 12,
     "metadata": {},
     "output_type": "execute_result"
    }
   ],
   "source": [
    "dir(charade.universaldetector)"
   ]
  },
  {
   "cell_type": "code",
   "execution_count": 16,
   "id": "06379db1",
   "metadata": {},
   "outputs": [
    {
     "data": {
      "text/plain": [
       "['__call__',\n",
       " '__class__',\n",
       " '__delattr__',\n",
       " '__dir__',\n",
       " '__doc__',\n",
       " '__eq__',\n",
       " '__format__',\n",
       " '__ge__',\n",
       " '__getattribute__',\n",
       " '__gt__',\n",
       " '__hash__',\n",
       " '__init__',\n",
       " '__init_subclass__',\n",
       " '__le__',\n",
       " '__lt__',\n",
       " '__module__',\n",
       " '__name__',\n",
       " '__ne__',\n",
       " '__new__',\n",
       " '__qualname__',\n",
       " '__reduce__',\n",
       " '__reduce_ex__',\n",
       " '__repr__',\n",
       " '__self__',\n",
       " '__setattr__',\n",
       " '__sizeof__',\n",
       " '__str__',\n",
       " '__subclasshook__',\n",
       " '__text_signature__']"
      ]
     },
     "execution_count": 16,
     "metadata": {},
     "output_type": "execute_result"
    }
   ],
   "source": [
    "dir(charade.universaldetector.ePureAscii.conjugate)"
   ]
  },
  {
   "cell_type": "code",
   "execution_count": 21,
   "id": "c59d0a2c",
   "metadata": {},
   "outputs": [],
   "source": [
    "detector = charade.universaldetector.UniversalDetector()"
   ]
  },
  {
   "cell_type": "code",
   "execution_count": 22,
   "id": "ac7c5bfd",
   "metadata": {},
   "outputs": [
    {
     "data": {
      "text/plain": [
       "<charade.universaldetector.UniversalDetector at 0x263e6aa0348>"
      ]
     },
     "execution_count": 22,
     "metadata": {},
     "output_type": "execute_result"
    }
   ],
   "source": [
    "detector"
   ]
  },
  {
   "cell_type": "code",
   "execution_count": 31,
   "id": "00313d49",
   "metadata": {},
   "outputs": [
    {
     "data": {
      "text/plain": [
       "<charade.universaldetector.UniversalDetector at 0x263e6aa0fc8>"
      ]
     },
     "execution_count": 31,
     "metadata": {},
     "output_type": "execute_result"
    }
   ],
   "source": [
    "charade.universaldetector.UniversalDetector()"
   ]
  },
  {
   "cell_type": "code",
   "execution_count": 32,
   "id": "a06bae01",
   "metadata": {},
   "outputs": [],
   "source": [
    "def detectEncoding(self, parseMeta=True, chardet=True):\n",
    "        # First look for a BOM\n",
    "        # This will also read past the BOM if present\n",
    "        encoding = self.detectBOM()\n",
    "        confidence = \"certain\"\n",
    "        # If there is no BOM need to look for meta elements with encoding\n",
    "        # information\n",
    "        if encoding is None and parseMeta:\n",
    "            encoding = self.detectEncodingMeta()\n",
    "            confidence = \"tentative\"\n",
    "        # Guess with chardet, if avaliable\n",
    "        if encoding is None and chardet:\n",
    "            confidence = \"tentative\"\n",
    "            try:\n",
    "                try:\n",
    "                    from charade.universaldetector import UniversalDetector\n",
    "                except ImportError:\n",
    "                    from chardet.universaldetector import UniversalDetector\n",
    "                buffers = []\n",
    "                detector = UniversalDetector()\n",
    "                while not detector.done:\n",
    "                    buffer = self.rawStream.read(self.numBytesChardet)\n",
    "                    assert isinstance(buffer, bytes)\n",
    "                    if not buffer:\n",
    "                        break\n",
    "                    buffers.append(buffer)\n",
    "                    detector.feed(buffer)\n",
    "                detector.close()\n",
    "                encoding = detector.result['encoding']\n",
    "                self.rawStream.seek(0)\n",
    "            except ImportError:\n",
    "                pass\n",
    "        # If all else fails use the default encoding\n",
    "        if encoding is None:\n",
    "            confidence = \"tentative\"\n",
    "            encoding = self.defaultEncoding\n",
    "\n",
    "        # Substitute for equivalent encodings:\n",
    "        encodingSub = {\"iso-8859-1\": \"windows-1252\"}\n",
    "\n",
    "        if encoding.lower() in encodingSub:\n",
    "            encoding = encodingSub[encoding.lower()]\n",
    "\n",
    "        return encoding, confidence "
   ]
  },
  {
   "cell_type": "code",
   "execution_count": 33,
   "id": "cef5bb8f",
   "metadata": {},
   "outputs": [
    {
     "ename": "AttributeError",
     "evalue": "'str' object has no attribute 'detectBOM'",
     "output_type": "error",
     "traceback": [
      "\u001b[1;31m---------------------------------------------------------------------------\u001b[0m",
      "\u001b[1;31mAttributeError\u001b[0m                            Traceback (most recent call last)",
      "\u001b[1;32m<ipython-input-33-9a4a79fd6f78>\u001b[0m in \u001b[0;36m<module>\u001b[1;34m\u001b[0m\n\u001b[1;32m----> 1\u001b[1;33m \u001b[0mdetectEncoding\u001b[0m\u001b[1;33m(\u001b[0m\u001b[0mstring\u001b[0m\u001b[1;33m)\u001b[0m\u001b[1;33m\u001b[0m\u001b[1;33m\u001b[0m\u001b[0m\n\u001b[0m",
      "\u001b[1;32m<ipython-input-32-12d1f67476cf>\u001b[0m in \u001b[0;36mdetectEncoding\u001b[1;34m(self, parseMeta, chardet)\u001b[0m\n\u001b[0;32m      2\u001b[0m         \u001b[1;31m# First look for a BOM\u001b[0m\u001b[1;33m\u001b[0m\u001b[1;33m\u001b[0m\u001b[1;33m\u001b[0m\u001b[0m\n\u001b[0;32m      3\u001b[0m         \u001b[1;31m# This will also read past the BOM if present\u001b[0m\u001b[1;33m\u001b[0m\u001b[1;33m\u001b[0m\u001b[1;33m\u001b[0m\u001b[0m\n\u001b[1;32m----> 4\u001b[1;33m         \u001b[0mencoding\u001b[0m \u001b[1;33m=\u001b[0m \u001b[0mself\u001b[0m\u001b[1;33m.\u001b[0m\u001b[0mdetectBOM\u001b[0m\u001b[1;33m(\u001b[0m\u001b[1;33m)\u001b[0m\u001b[1;33m\u001b[0m\u001b[1;33m\u001b[0m\u001b[0m\n\u001b[0m\u001b[0;32m      5\u001b[0m         \u001b[0mconfidence\u001b[0m \u001b[1;33m=\u001b[0m \u001b[1;34m\"certain\"\u001b[0m\u001b[1;33m\u001b[0m\u001b[1;33m\u001b[0m\u001b[0m\n\u001b[0;32m      6\u001b[0m         \u001b[1;31m# If there is no BOM need to look for meta elements with encoding\u001b[0m\u001b[1;33m\u001b[0m\u001b[1;33m\u001b[0m\u001b[1;33m\u001b[0m\u001b[0m\n",
      "\u001b[1;31mAttributeError\u001b[0m: 'str' object has no attribute 'detectBOM'"
     ]
    }
   ],
   "source": [
    "detectEncoding(string)"
   ]
  },
  {
   "cell_type": "code",
   "execution_count": null,
   "id": "cf33f0bc",
   "metadata": {},
   "outputs": [],
   "source": []
  }
 ],
 "metadata": {
  "kernelspec": {
   "display_name": "Python 3",
   "language": "python",
   "name": "python3"
  },
  "language_info": {
   "codemirror_mode": {
    "name": "ipython",
    "version": 3
   },
   "file_extension": ".py",
   "mimetype": "text/x-python",
   "name": "python",
   "nbconvert_exporter": "python",
   "pygments_lexer": "ipython3",
   "version": "3.7.6"
  }
 },
 "nbformat": 4,
 "nbformat_minor": 5
}
