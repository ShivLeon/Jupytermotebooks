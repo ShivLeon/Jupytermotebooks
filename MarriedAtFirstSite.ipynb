{
 "cells": [
  {
   "cell_type": "code",
   "execution_count": 1,
   "metadata": {},
   "outputs": [
    {
     "data": {
      "text/plain": [
       "\"The Lifetime reality television show and social experiment, Married at First Sight, \\nfeatures men and women who sign up to marry a complete stranger they've never met before. \\nExperts pair couples based on tests and interviews. \\nAfter marriage, couples have only a few short weeks together to decide if they want to stay married or get a divorce. \\nThere have been 10 full seasons so far which provides interesting data to look at what factors may or may not \\nplay a role in their \\ndecisions at the end of eight weeks as well as longer-term outcomes since the show aired.\""
      ]
     },
     "execution_count": 1,
     "metadata": {},
     "output_type": "execute_result"
    }
   ],
   "source": [
    "#Married At First Site\n",
    "\"\"\"The Lifetime reality television show and social experiment, Married at First Sight, \n",
    "features men and women who sign up to marry a complete stranger they've never met before. \n",
    "Experts pair couples based on tests and interviews. \n",
    "After marriage, couples have only a few short weeks together to decide if they want to stay married or get a divorce. \n",
    "There have been 10 full seasons so far which provides interesting data to look at what factors may or may not \n",
    "play a role in their \n",
    "decisions at the end of eight weeks as well as longer-term outcomes since the show aired.\"\"\""
   ]
  },
  {
   "cell_type": "code",
   "execution_count": 2,
   "metadata": {},
   "outputs": [],
   "source": [
    "#importing necessary libraries\n",
    "import pandas as pd\n",
    "import numpy as np\n",
    "import matplotlib.pyplot as plt\n",
    "import seaborn as sns"
   ]
  },
  {
   "cell_type": "code",
   "execution_count": 3,
   "metadata": {
    "scrolled": true
   },
   "outputs": [
    {
     "data": {
      "text/html": [
       "<div>\n",
       "<style scoped>\n",
       "    .dataframe tbody tr th:only-of-type {\n",
       "        vertical-align: middle;\n",
       "    }\n",
       "\n",
       "    .dataframe tbody tr th {\n",
       "        vertical-align: top;\n",
       "    }\n",
       "\n",
       "    .dataframe thead th {\n",
       "        text-align: right;\n",
       "    }\n",
       "</style>\n",
       "<table border=\"1\" class=\"dataframe\">\n",
       "  <thead>\n",
       "    <tr style=\"text-align: right;\">\n",
       "      <th></th>\n",
       "      <th>Couple</th>\n",
       "      <th>Season</th>\n",
       "      <th>Location</th>\n",
       "      <th>Name</th>\n",
       "      <th>Age</th>\n",
       "      <th>Gender</th>\n",
       "      <th>Occupation</th>\n",
       "      <th>Decision</th>\n",
       "      <th>Status</th>\n",
       "      <th>DrPepperSchwartz</th>\n",
       "      <th>DrLoganLevkoff</th>\n",
       "      <th>DrJosephCilona</th>\n",
       "      <th>ChaplainGregEpstein</th>\n",
       "      <th>PastorCalvinRoberson</th>\n",
       "      <th>RachelDeAlto</th>\n",
       "      <th>DrJessicaGriffin</th>\n",
       "      <th>DrVivianaColes</th>\n",
       "    </tr>\n",
       "  </thead>\n",
       "  <tbody>\n",
       "    <tr>\n",
       "      <th>0</th>\n",
       "      <td>1</td>\n",
       "      <td>1</td>\n",
       "      <td>New York City and Northern New Jersey</td>\n",
       "      <td>Jamie Otis-Hehner</td>\n",
       "      <td>27</td>\n",
       "      <td>F</td>\n",
       "      <td>Nurse</td>\n",
       "      <td>Yes</td>\n",
       "      <td>Married</td>\n",
       "      <td>1</td>\n",
       "      <td>1</td>\n",
       "      <td>1</td>\n",
       "      <td>1</td>\n",
       "      <td>0</td>\n",
       "      <td>0</td>\n",
       "      <td>0</td>\n",
       "      <td>0</td>\n",
       "    </tr>\n",
       "    <tr>\n",
       "      <th>1</th>\n",
       "      <td>1</td>\n",
       "      <td>1</td>\n",
       "      <td>New York City and Northern New Jersey</td>\n",
       "      <td>Doug Hehner</td>\n",
       "      <td>31</td>\n",
       "      <td>M</td>\n",
       "      <td>Software salesman</td>\n",
       "      <td>Yes</td>\n",
       "      <td>Married</td>\n",
       "      <td>1</td>\n",
       "      <td>1</td>\n",
       "      <td>1</td>\n",
       "      <td>1</td>\n",
       "      <td>0</td>\n",
       "      <td>0</td>\n",
       "      <td>0</td>\n",
       "      <td>0</td>\n",
       "    </tr>\n",
       "    <tr>\n",
       "      <th>2</th>\n",
       "      <td>2</td>\n",
       "      <td>1</td>\n",
       "      <td>New York City and Northern New Jersey</td>\n",
       "      <td>Cortney Hendrix</td>\n",
       "      <td>26</td>\n",
       "      <td>F</td>\n",
       "      <td>Make-up artist</td>\n",
       "      <td>Yes</td>\n",
       "      <td>Divorced</td>\n",
       "      <td>1</td>\n",
       "      <td>1</td>\n",
       "      <td>1</td>\n",
       "      <td>1</td>\n",
       "      <td>0</td>\n",
       "      <td>0</td>\n",
       "      <td>0</td>\n",
       "      <td>0</td>\n",
       "    </tr>\n",
       "    <tr>\n",
       "      <th>3</th>\n",
       "      <td>2</td>\n",
       "      <td>1</td>\n",
       "      <td>New York City and Northern New Jersey</td>\n",
       "      <td>Jason Carrion</td>\n",
       "      <td>27</td>\n",
       "      <td>M</td>\n",
       "      <td>Fireman</td>\n",
       "      <td>Yes</td>\n",
       "      <td>Divorced</td>\n",
       "      <td>1</td>\n",
       "      <td>1</td>\n",
       "      <td>1</td>\n",
       "      <td>1</td>\n",
       "      <td>0</td>\n",
       "      <td>0</td>\n",
       "      <td>0</td>\n",
       "      <td>0</td>\n",
       "    </tr>\n",
       "    <tr>\n",
       "      <th>4</th>\n",
       "      <td>3</td>\n",
       "      <td>1</td>\n",
       "      <td>New York City and Northern New Jersey</td>\n",
       "      <td>Monet Bell</td>\n",
       "      <td>33</td>\n",
       "      <td>F</td>\n",
       "      <td>Product development manager</td>\n",
       "      <td>No</td>\n",
       "      <td>Divorced</td>\n",
       "      <td>1</td>\n",
       "      <td>1</td>\n",
       "      <td>1</td>\n",
       "      <td>1</td>\n",
       "      <td>0</td>\n",
       "      <td>0</td>\n",
       "      <td>0</td>\n",
       "      <td>0</td>\n",
       "    </tr>\n",
       "  </tbody>\n",
       "</table>\n",
       "</div>"
      ],
      "text/plain": [
       "   Couple  Season                               Location               Name  \\\n",
       "0       1       1  New York City and Northern New Jersey  Jamie Otis-Hehner   \n",
       "1       1       1  New York City and Northern New Jersey        Doug Hehner   \n",
       "2       2       1  New York City and Northern New Jersey    Cortney Hendrix   \n",
       "3       2       1  New York City and Northern New Jersey      Jason Carrion   \n",
       "4       3       1  New York City and Northern New Jersey         Monet Bell   \n",
       "\n",
       "   Age Gender                   Occupation Decision    Status  \\\n",
       "0   27      F                        Nurse      Yes   Married   \n",
       "1   31      M            Software salesman      Yes   Married   \n",
       "2   26      F               Make-up artist      Yes  Divorced   \n",
       "3   27      M                      Fireman      Yes  Divorced   \n",
       "4   33      F  Product development manager       No  Divorced   \n",
       "\n",
       "   DrPepperSchwartz  DrLoganLevkoff  DrJosephCilona  ChaplainGregEpstein  \\\n",
       "0                 1               1               1                    1   \n",
       "1                 1               1               1                    1   \n",
       "2                 1               1               1                    1   \n",
       "3                 1               1               1                    1   \n",
       "4                 1               1               1                    1   \n",
       "\n",
       "   PastorCalvinRoberson  RachelDeAlto  DrJessicaGriffin  DrVivianaColes  \n",
       "0                     0             0                 0               0  \n",
       "1                     0             0                 0               0  \n",
       "2                     0             0                 0               0  \n",
       "3                     0             0                 0               0  \n",
       "4                     0             0                 0               0  "
      ]
     },
     "execution_count": 3,
     "metadata": {},
     "output_type": "execute_result"
    }
   ],
   "source": [
    "mafs=pd.read_csv(\"D:/Spyder/Data-Envelopment-Analysis-Excel/Data/Married/married-at-first-sight/mafs.csv\")\n",
    "mafs.head()"
   ]
  },
  {
   "cell_type": "code",
   "execution_count": 4,
   "metadata": {},
   "outputs": [
    {
     "name": "stdout",
     "output_type": "stream",
     "text": [
      "(68, 17)\n",
      "2\n",
      "1156\n",
      "Index(['Couple', 'Season', 'Location', 'Name', 'Age', 'Gender', 'Occupation',\n",
      "       'Decision', 'Status', 'DrPepperSchwartz', 'DrLoganLevkoff',\n",
      "       'DrJosephCilona', 'ChaplainGregEpstein', 'PastorCalvinRoberson',\n",
      "       'RachelDeAlto', 'DrJessicaGriffin', 'DrVivianaColes'],\n",
      "      dtype='object')\n"
     ]
    }
   ],
   "source": [
    "#lets get shape and size and more\n",
    "print(mafs.shape)\n",
    "print(mafs.ndim)\n",
    "print(mafs.size)\n",
    "print(mafs.columns)"
   ]
  },
  {
   "cell_type": "code",
   "execution_count": 5,
   "metadata": {},
   "outputs": [],
   "source": [
    "#lets know unique values of the tables.\n",
    "\n",
    "def uniqueincsv(data):\n",
    "    for i in data:\n",
    "        print(i,\"=\",data[i].unique(),end=\"\\n\\n\")"
   ]
  },
  {
   "cell_type": "code",
   "execution_count": 6,
   "metadata": {},
   "outputs": [
    {
     "name": "stdout",
     "output_type": "stream",
     "text": [
      "Couple = [ 1  2  3  4  5  6  7  8  9 10 11 12 13 14 15 16 17 18 19 20 21 22 23 24\n",
      " 25 26 27 28 29 30 31 32 33 34]\n",
      "\n",
      "Season = [ 1  2  3  4  5  6  7  8  9 10]\n",
      "\n",
      "Location = ['New York City and Northern New Jersey' 'Atlanta, Georgia'\n",
      " 'South Florida' 'Chicago, Illinois' 'Boston, Massachusetts'\n",
      " 'Dallas, Texas' 'Philadelphia, Pennsylvania' 'Charlotte, North Carolina'\n",
      " 'Washington D.C.']\n",
      "\n",
      "Name = ['Jamie Otis-Hehner' 'Doug Hehner' 'Cortney Hendrix' 'Jason Carrion'\n",
      " 'Monet Bell' 'Vaughn Copeland' 'Jaclyn Methuen' 'Ryan Ranellone'\n",
      " 'Davina Kullar (now Davis)' 'Sean Varricchio' 'Jessica Castro'\n",
      " 'Ryan DeNino/Oehl' 'Vanessa Nelson' 'Tres Russell' 'Ashley Doherty'\n",
      " 'David Norton' 'Samantha Role' 'Neil Bowlus' 'Sonia Granados'\n",
      " 'Nick Pendergrast' 'Heather Seidel' 'Derek Schwartz' 'Lillian Vilchez'\n",
      " 'Tom Wilson' 'Danielle DeGroot' 'Cody Knapek' 'Sheila Downs' 'Nate Duhon'\n",
      " 'Ashley Petta' \"Anthony D'Amico\" 'Shawniece Jackson' 'Jephte Pierre'\n",
      " 'Molly Duff' 'Jonathan Francetic' 'Jaclyn Schwartzberg' 'Ryan Buckley'\n",
      " 'Mia Bally' 'Tristan Thompson' 'Danielle Bergman-Dodd' 'Bobby Dodd'\n",
      " 'Amber Martorana' 'Dave Flaherty' 'Stephanie Sersen' 'AJ Vollmoeller'\n",
      " 'Jasmine McGriff' 'Will Guess' 'Kate Sisk' 'Luke Cuccurullo'\n",
      " 'Kristine Killingsworth' 'Keith Dewar' 'Iris Caldwell' 'Keith Manley'\n",
      " 'Elizabeth Bice' 'Jamie Thompson' 'Deonna McNeill' 'Gregory Okotie'\n",
      " 'Amber Bowles' 'Matthew Gwynne' 'Katie Conrad' 'Derek Sherman'\n",
      " 'Jessica Studer' 'Austin Hurd' 'Taylor Dunklin' 'Brandon Reid'\n",
      " 'Meka Jones' 'Michael Watson' 'Mindy Shiben' 'Zach Justice']\n",
      "\n",
      "Age = [27 31 26 33 30 28 34 35 29 32 24 25 36 37]\n",
      "\n",
      "Gender = ['F' 'M']\n",
      "\n",
      "Occupation = ['Nurse' 'Software salesman' 'Make-up artist' 'Fireman'\n",
      " 'Product development manager' 'Field service technician'\n",
      " 'Vodka saleswoman' 'Real estate agent' 'Pharmaceutical saleswoman'\n",
      " 'Trauma nurse' 'Receptionist' 'Businessman' 'Event manager'\n",
      " 'Luxury car salesman' 'Nursing student' 'Software account executive'\n",
      " 'Bank manager' 'Compliance specialist' 'Social worker'\n",
      " 'Vacation rental manager' 'Flight attendant' 'Account executive'\n",
      " 'Realtor' 'Boat interior designer' 'Dietician' 'Trainer / gym owner'\n",
      " 'School district facility director'\n",
      " 'Branch manager of a car rental company'\n",
      " 'Manager of family-owned bar & grill' 'Sale account executive'\n",
      " 'Cosmetologist' '2nd grade school teacher'\n",
      " 'Commercial insurance adjuster' 'Financial associate'\n",
      " 'Technical sales representative' 'Firefighter'\n",
      " 'International recruiter of an airline' 'Tutoring club owner'\n",
      " 'Software saleswoman' 'Construction project manager'\n",
      " 'Senior title analyst' 'High yield bond trader' 'Financial consultant'\n",
      " 'President & CEO of a staffing & recruiting company' 'Assistant director'\n",
      " 'Financial analyst' 'Hotel marketing specialist'\n",
      " 'Civil and environmental engineer' 'Residential real estate agent'\n",
      " 'Kidney dialysis patient care technician'\n",
      " 'Non-Profit Program Coordinator' 'Mentor/Coach' 'Account Executive'\n",
      " 'Financial Technician' 'Operations Manager' 'Math Learning Center Owner'\n",
      " 'Middle School Teacher' 'Ex Professional Basketball Player'\n",
      " 'Mental Health Professional' 'Cyber Security Engineer' 'Nurse Manager'\n",
      " 'Network Technician' 'Research Scientist' 'Sales Manager'\n",
      " 'Category Analyst' 'Education Director' 'Figure Skating Coach'\n",
      " 'Fitness Professional']\n",
      "\n",
      "Decision = ['Yes' 'No']\n",
      "\n",
      "Status = ['Married' 'Divorced']\n",
      "\n",
      "DrPepperSchwartz = [1]\n",
      "\n",
      "DrLoganLevkoff = [1 0]\n",
      "\n",
      "DrJosephCilona = [1 0]\n",
      "\n",
      "ChaplainGregEpstein = [1 0]\n",
      "\n",
      "PastorCalvinRoberson = [0 1]\n",
      "\n",
      "RachelDeAlto = [0 1]\n",
      "\n",
      "DrJessicaGriffin = [0 1]\n",
      "\n",
      "DrVivianaColes = [0 1]\n",
      "\n"
     ]
    }
   ],
   "source": [
    "uniqueincsv(mafs)"
   ]
  },
  {
   "cell_type": "code",
   "execution_count": 7,
   "metadata": {},
   "outputs": [],
   "source": [
    "#lets make a deep copy first\n",
    "mafs1=mafs.copy(deep=True)"
   ]
  },
  {
   "cell_type": "code",
   "execution_count": 8,
   "metadata": {},
   "outputs": [
    {
     "data": {
      "text/plain": [
       "(1, 10)"
      ]
     },
     "execution_count": 8,
     "metadata": {},
     "output_type": "execute_result"
    },
    {
     "data": {
      "image/png": "[encoded data removed]",
      "text/plain": [
       "<Figure size 432x288 with 1 Axes>"
      ]
     },
     "metadata": {
      "needs_background": "light"
     },
     "output_type": "display_data"
    }
   ],
   "source": [
    "#lets see the number of participants in each season using a histogram\n",
    "plt.figure()\n",
    "g=sns.distplot(mafs1[\"Season\"], kde=False, bins=10, hist_kws=dict(edgecolor=\"k\", linewidth=2))\n",
    "g.set_title(\"Number of Seasons with Number of Participants\")\n",
    "plt.xlim([1,10])"
   ]
  },
  {
   "cell_type": "code",
   "execution_count": 9,
   "metadata": {},
   "outputs": [
    {
     "data": {
      "image/png": "[encoded data removed]",
      "text/plain": [
       "<Figure size 432x288 with 1 Axes>"
      ]
     },
     "metadata": {
      "needs_background": "light"
     },
     "output_type": "display_data"
    }
   ],
   "source": [
    "#Lets see the age variation using a histogram\n",
    "plt.figure()\n",
    "A=plt.hist(mafs1[\"Age\"], edgecolor=\"red\")"
   ]
  },
  {
   "cell_type": "code",
   "execution_count": 10,
   "metadata": {},
   "outputs": [
    {
     "data": {
      "text/plain": [
       "([0, 1, 2, 3, 4, 5, 6, 7, 8], <a list of 9 Text xticklabel objects>)"
      ]
     },
     "execution_count": 10,
     "metadata": {},
     "output_type": "execute_result"
    },
    {
     "data": {
      "image/png": "[encoded data removed]",
      "text/plain": [
       "<Figure size 1152x288 with 1 Axes>"
      ]
     },
     "metadata": {
      "needs_background": "light"
     },
     "output_type": "display_data"
    }
   ],
   "source": [
    "#lets see in which city, a particular season was shot.\n",
    "#We will achieve this by making a bar chat\n",
    "plt.figure(figsize=(16,4))\n",
    "m=plt.bar(mafs1[\"Location\"], mafs1[\"Season\"])\n",
    "plt.xticks(rotation=90)"
   ]
  },
  {
   "cell_type": "code",
   "execution_count": 11,
   "metadata": {},
   "outputs": [
    {
     "data": {
      "text/html": [
       "<div>\n",
       "<style scoped>\n",
       "    .dataframe tbody tr th:only-of-type {\n",
       "        vertical-align: middle;\n",
       "    }\n",
       "\n",
       "    .dataframe tbody tr th {\n",
       "        vertical-align: top;\n",
       "    }\n",
       "\n",
       "    .dataframe thead th {\n",
       "        text-align: right;\n",
       "    }\n",
       "</style>\n",
       "<table border=\"1\" class=\"dataframe\">\n",
       "  <thead>\n",
       "    <tr style=\"text-align: right;\">\n",
       "      <th></th>\n",
       "      <th>No</th>\n",
       "      <th>Yes</th>\n",
       "    </tr>\n",
       "  </thead>\n",
       "  <tbody>\n",
       "    <tr>\n",
       "      <th>0</th>\n",
       "      <td>0</td>\n",
       "      <td>1</td>\n",
       "    </tr>\n",
       "    <tr>\n",
       "      <th>1</th>\n",
       "      <td>0</td>\n",
       "      <td>1</td>\n",
       "    </tr>\n",
       "    <tr>\n",
       "      <th>2</th>\n",
       "      <td>0</td>\n",
       "      <td>1</td>\n",
       "    </tr>\n",
       "    <tr>\n",
       "      <th>3</th>\n",
       "      <td>0</td>\n",
       "      <td>1</td>\n",
       "    </tr>\n",
       "    <tr>\n",
       "      <th>4</th>\n",
       "      <td>1</td>\n",
       "      <td>0</td>\n",
       "    </tr>\n",
       "    <tr>\n",
       "      <th>...</th>\n",
       "      <td>...</td>\n",
       "      <td>...</td>\n",
       "    </tr>\n",
       "    <tr>\n",
       "      <th>63</th>\n",
       "      <td>1</td>\n",
       "      <td>0</td>\n",
       "    </tr>\n",
       "    <tr>\n",
       "      <th>64</th>\n",
       "      <td>1</td>\n",
       "      <td>0</td>\n",
       "    </tr>\n",
       "    <tr>\n",
       "      <th>65</th>\n",
       "      <td>0</td>\n",
       "      <td>1</td>\n",
       "    </tr>\n",
       "    <tr>\n",
       "      <th>66</th>\n",
       "      <td>1</td>\n",
       "      <td>0</td>\n",
       "    </tr>\n",
       "    <tr>\n",
       "      <th>67</th>\n",
       "      <td>1</td>\n",
       "      <td>0</td>\n",
       "    </tr>\n",
       "  </tbody>\n",
       "</table>\n",
       "<p>68 rows × 2 columns</p>\n",
       "</div>"
      ],
      "text/plain": [
       "    No  Yes\n",
       "0    0    1\n",
       "1    0    1\n",
       "2    0    1\n",
       "3    0    1\n",
       "4    1    0\n",
       "..  ..  ...\n",
       "63   1    0\n",
       "64   1    0\n",
       "65   0    1\n",
       "66   1    0\n",
       "67   1    0\n",
       "\n",
       "[68 rows x 2 columns]"
      ]
     },
     "execution_count": 11,
     "metadata": {},
     "output_type": "execute_result"
    }
   ],
   "source": [
    "#Decision leads to status, if both Male and Female agrees, the they stay married.\n",
    "#If either disagrees, then both get divorced\n",
    "#Let us see how many males and females said yes or no. \n",
    "#I am gonna convert decision column into dummy\n",
    "dummydes=pd.get_dummies(mafs1[\"Decision\"])\n",
    "dummydes"
   ]
  },
  {
   "cell_type": "code",
   "execution_count": 12,
   "metadata": {},
   "outputs": [
    {
     "data": {
      "text/html": [
       "<div>\n",
       "<style scoped>\n",
       "    .dataframe tbody tr th:only-of-type {\n",
       "        vertical-align: middle;\n",
       "    }\n",
       "\n",
       "    .dataframe tbody tr th {\n",
       "        vertical-align: top;\n",
       "    }\n",
       "\n",
       "    .dataframe thead th {\n",
       "        text-align: right;\n",
       "    }\n",
       "</style>\n",
       "<table border=\"1\" class=\"dataframe\">\n",
       "  <thead>\n",
       "    <tr style=\"text-align: right;\">\n",
       "      <th></th>\n",
       "      <th>Couple</th>\n",
       "      <th>Season</th>\n",
       "      <th>Location</th>\n",
       "      <th>Name</th>\n",
       "      <th>Age</th>\n",
       "      <th>Gender</th>\n",
       "      <th>Occupation</th>\n",
       "      <th>Status</th>\n",
       "      <th>DrPepperSchwartz</th>\n",
       "      <th>DrLoganLevkoff</th>\n",
       "      <th>DrJosephCilona</th>\n",
       "      <th>ChaplainGregEpstein</th>\n",
       "      <th>PastorCalvinRoberson</th>\n",
       "      <th>RachelDeAlto</th>\n",
       "      <th>DrJessicaGriffin</th>\n",
       "      <th>DrVivianaColes</th>\n",
       "      <th>Yes</th>\n",
       "    </tr>\n",
       "  </thead>\n",
       "  <tbody>\n",
       "    <tr>\n",
       "      <th>0</th>\n",
       "      <td>1</td>\n",
       "      <td>1</td>\n",
       "      <td>New York City and Northern New Jersey</td>\n",
       "      <td>Jamie Otis-Hehner</td>\n",
       "      <td>27</td>\n",
       "      <td>F</td>\n",
       "      <td>Nurse</td>\n",
       "      <td>Married</td>\n",
       "      <td>1</td>\n",
       "      <td>1</td>\n",
       "      <td>1</td>\n",
       "      <td>1</td>\n",
       "      <td>0</td>\n",
       "      <td>0</td>\n",
       "      <td>0</td>\n",
       "      <td>0</td>\n",
       "      <td>1</td>\n",
       "    </tr>\n",
       "    <tr>\n",
       "      <th>1</th>\n",
       "      <td>1</td>\n",
       "      <td>1</td>\n",
       "      <td>New York City and Northern New Jersey</td>\n",
       "      <td>Doug Hehner</td>\n",
       "      <td>31</td>\n",
       "      <td>M</td>\n",
       "      <td>Software salesman</td>\n",
       "      <td>Married</td>\n",
       "      <td>1</td>\n",
       "      <td>1</td>\n",
       "      <td>1</td>\n",
       "      <td>1</td>\n",
       "      <td>0</td>\n",
       "      <td>0</td>\n",
       "      <td>0</td>\n",
       "      <td>0</td>\n",
       "      <td>1</td>\n",
       "    </tr>\n",
       "    <tr>\n",
       "      <th>2</th>\n",
       "      <td>2</td>\n",
       "      <td>1</td>\n",
       "      <td>New York City and Northern New Jersey</td>\n",
       "      <td>Cortney Hendrix</td>\n",
       "      <td>26</td>\n",
       "      <td>F</td>\n",
       "      <td>Make-up artist</td>\n",
       "      <td>Divorced</td>\n",
       "      <td>1</td>\n",
       "      <td>1</td>\n",
       "      <td>1</td>\n",
       "      <td>1</td>\n",
       "      <td>0</td>\n",
       "      <td>0</td>\n",
       "      <td>0</td>\n",
       "      <td>0</td>\n",
       "      <td>1</td>\n",
       "    </tr>\n",
       "    <tr>\n",
       "      <th>3</th>\n",
       "      <td>2</td>\n",
       "      <td>1</td>\n",
       "      <td>New York City and Northern New Jersey</td>\n",
       "      <td>Jason Carrion</td>\n",
       "      <td>27</td>\n",
       "      <td>M</td>\n",
       "      <td>Fireman</td>\n",
       "      <td>Divorced</td>\n",
       "      <td>1</td>\n",
       "      <td>1</td>\n",
       "      <td>1</td>\n",
       "      <td>1</td>\n",
       "      <td>0</td>\n",
       "      <td>0</td>\n",
       "      <td>0</td>\n",
       "      <td>0</td>\n",
       "      <td>1</td>\n",
       "    </tr>\n",
       "    <tr>\n",
       "      <th>4</th>\n",
       "      <td>3</td>\n",
       "      <td>1</td>\n",
       "      <td>New York City and Northern New Jersey</td>\n",
       "      <td>Monet Bell</td>\n",
       "      <td>33</td>\n",
       "      <td>F</td>\n",
       "      <td>Product development manager</td>\n",
       "      <td>Divorced</td>\n",
       "      <td>1</td>\n",
       "      <td>1</td>\n",
       "      <td>1</td>\n",
       "      <td>1</td>\n",
       "      <td>0</td>\n",
       "      <td>0</td>\n",
       "      <td>0</td>\n",
       "      <td>0</td>\n",
       "      <td>0</td>\n",
       "    </tr>\n",
       "    <tr>\n",
       "      <th>...</th>\n",
       "      <td>...</td>\n",
       "      <td>...</td>\n",
       "      <td>...</td>\n",
       "      <td>...</td>\n",
       "      <td>...</td>\n",
       "      <td>...</td>\n",
       "      <td>...</td>\n",
       "      <td>...</td>\n",
       "      <td>...</td>\n",
       "      <td>...</td>\n",
       "      <td>...</td>\n",
       "      <td>...</td>\n",
       "      <td>...</td>\n",
       "      <td>...</td>\n",
       "      <td>...</td>\n",
       "      <td>...</td>\n",
       "      <td>...</td>\n",
       "    </tr>\n",
       "    <tr>\n",
       "      <th>63</th>\n",
       "      <td>32</td>\n",
       "      <td>10</td>\n",
       "      <td>Washington D.C.</td>\n",
       "      <td>Brandon Reid</td>\n",
       "      <td>34</td>\n",
       "      <td>M</td>\n",
       "      <td>Sales Manager</td>\n",
       "      <td>Divorced</td>\n",
       "      <td>1</td>\n",
       "      <td>0</td>\n",
       "      <td>0</td>\n",
       "      <td>0</td>\n",
       "      <td>1</td>\n",
       "      <td>0</td>\n",
       "      <td>0</td>\n",
       "      <td>1</td>\n",
       "      <td>0</td>\n",
       "    </tr>\n",
       "    <tr>\n",
       "      <th>64</th>\n",
       "      <td>33</td>\n",
       "      <td>10</td>\n",
       "      <td>Washington D.C.</td>\n",
       "      <td>Meka Jones</td>\n",
       "      <td>25</td>\n",
       "      <td>F</td>\n",
       "      <td>Category Analyst</td>\n",
       "      <td>Divorced</td>\n",
       "      <td>1</td>\n",
       "      <td>0</td>\n",
       "      <td>0</td>\n",
       "      <td>0</td>\n",
       "      <td>1</td>\n",
       "      <td>0</td>\n",
       "      <td>0</td>\n",
       "      <td>1</td>\n",
       "      <td>0</td>\n",
       "    </tr>\n",
       "    <tr>\n",
       "      <th>65</th>\n",
       "      <td>33</td>\n",
       "      <td>10</td>\n",
       "      <td>Washington D.C.</td>\n",
       "      <td>Michael Watson</td>\n",
       "      <td>31</td>\n",
       "      <td>M</td>\n",
       "      <td>Education Director</td>\n",
       "      <td>Divorced</td>\n",
       "      <td>1</td>\n",
       "      <td>0</td>\n",
       "      <td>0</td>\n",
       "      <td>0</td>\n",
       "      <td>1</td>\n",
       "      <td>0</td>\n",
       "      <td>0</td>\n",
       "      <td>1</td>\n",
       "      <td>1</td>\n",
       "    </tr>\n",
       "    <tr>\n",
       "      <th>66</th>\n",
       "      <td>34</td>\n",
       "      <td>10</td>\n",
       "      <td>Washington D.C.</td>\n",
       "      <td>Mindy Shiben</td>\n",
       "      <td>34</td>\n",
       "      <td>F</td>\n",
       "      <td>Figure Skating Coach</td>\n",
       "      <td>Divorced</td>\n",
       "      <td>1</td>\n",
       "      <td>0</td>\n",
       "      <td>0</td>\n",
       "      <td>0</td>\n",
       "      <td>1</td>\n",
       "      <td>0</td>\n",
       "      <td>0</td>\n",
       "      <td>1</td>\n",
       "      <td>0</td>\n",
       "    </tr>\n",
       "    <tr>\n",
       "      <th>67</th>\n",
       "      <td>34</td>\n",
       "      <td>10</td>\n",
       "      <td>Washington D.C.</td>\n",
       "      <td>Zach Justice</td>\n",
       "      <td>32</td>\n",
       "      <td>M</td>\n",
       "      <td>Fitness Professional</td>\n",
       "      <td>Divorced</td>\n",
       "      <td>1</td>\n",
       "      <td>0</td>\n",
       "      <td>0</td>\n",
       "      <td>0</td>\n",
       "      <td>1</td>\n",
       "      <td>0</td>\n",
       "      <td>0</td>\n",
       "      <td>1</td>\n",
       "      <td>0</td>\n",
       "    </tr>\n",
       "  </tbody>\n",
       "</table>\n",
       "<p>68 rows × 17 columns</p>\n",
       "</div>"
      ],
      "text/plain": [
       "    Couple  Season                               Location               Name  \\\n",
       "0        1       1  New York City and Northern New Jersey  Jamie Otis-Hehner   \n",
       "1        1       1  New York City and Northern New Jersey        Doug Hehner   \n",
       "2        2       1  New York City and Northern New Jersey    Cortney Hendrix   \n",
       "3        2       1  New York City and Northern New Jersey      Jason Carrion   \n",
       "4        3       1  New York City and Northern New Jersey         Monet Bell   \n",
       "..     ...     ...                                    ...                ...   \n",
       "63      32      10                        Washington D.C.       Brandon Reid   \n",
       "64      33      10                        Washington D.C.         Meka Jones   \n",
       "65      33      10                        Washington D.C.     Michael Watson   \n",
       "66      34      10                        Washington D.C.       Mindy Shiben   \n",
       "67      34      10                        Washington D.C.       Zach Justice   \n",
       "\n",
       "    Age Gender                   Occupation    Status  DrPepperSchwartz  \\\n",
       "0    27      F                        Nurse   Married                 1   \n",
       "1    31      M            Software salesman   Married                 1   \n",
       "2    26      F               Make-up artist  Divorced                 1   \n",
       "3    27      M                      Fireman  Divorced                 1   \n",
       "4    33      F  Product development manager  Divorced                 1   \n",
       "..  ...    ...                          ...       ...               ...   \n",
       "63   34      M                Sales Manager  Divorced                 1   \n",
       "64   25      F             Category Analyst  Divorced                 1   \n",
       "65   31      M           Education Director  Divorced                 1   \n",
       "66   34      F         Figure Skating Coach  Divorced                 1   \n",
       "67   32      M         Fitness Professional  Divorced                 1   \n",
       "\n",
       "    DrLoganLevkoff  DrJosephCilona  ChaplainGregEpstein  PastorCalvinRoberson  \\\n",
       "0                1               1                    1                     0   \n",
       "1                1               1                    1                     0   \n",
       "2                1               1                    1                     0   \n",
       "3                1               1                    1                     0   \n",
       "4                1               1                    1                     0   \n",
       "..             ...             ...                  ...                   ...   \n",
       "63               0               0                    0                     1   \n",
       "64               0               0                    0                     1   \n",
       "65               0               0                    0                     1   \n",
       "66               0               0                    0                     1   \n",
       "67               0               0                    0                     1   \n",
       "\n",
       "    RachelDeAlto  DrJessicaGriffin  DrVivianaColes  Yes  \n",
       "0              0                 0               0    1  \n",
       "1              0                 0               0    1  \n",
       "2              0                 0               0    1  \n",
       "3              0                 0               0    1  \n",
       "4              0                 0               0    0  \n",
       "..           ...               ...             ...  ...  \n",
       "63             0                 0               1    0  \n",
       "64             0                 0               1    0  \n",
       "65             0                 0               1    1  \n",
       "66             0                 0               1    0  \n",
       "67             0                 0               1    0  \n",
       "\n",
       "[68 rows x 17 columns]"
      ]
     },
     "execution_count": 12,
     "metadata": {},
     "output_type": "execute_result"
    }
   ],
   "source": [
    "mafs1=pd.concat([mafs1,dummydes], axis=1)\n",
    "mafs1.drop([\"No\",\"Decision\"], inplace=True, axis=1)\n",
    "mafs1"
   ]
  },
  {
   "cell_type": "code",
   "execution_count": 13,
   "metadata": {},
   "outputs": [
    {
     "name": "stdout",
     "output_type": "stream",
     "text": [
      "1    48\n",
      "0    20\n",
      "Name: Yes, dtype: int64\n"
     ]
    },
    {
     "data": {
      "image/png": "[encoded data removed]",
      "text/plain": [
       "<Figure size 432x288 with 1 Axes>"
      ]
     },
     "metadata": {
      "needs_background": "light"
     },
     "output_type": "display_data"
    }
   ],
   "source": [
    "#Yes=1 and No=0, I have removed Decision column as well as No column\n",
    "#Now lets see how many people said 1 or 0\n",
    "plt.hist(mafs1[\"Yes\"], color=\"green\")\n",
    "print(mafs1[\"Yes\"].value_counts())"
   ]
  },
  {
   "cell_type": "code",
   "execution_count": 14,
   "metadata": {},
   "outputs": [
    {
     "data": {
      "image/png": "[encoded data removed]",
      "text/plain": [
       "<Figure size 432x288 with 1 Axes>"
      ]
     },
     "metadata": {},
     "output_type": "display_data"
    }
   ],
   "source": [
    "#A better represestation using pie chart\n",
    "labels=\"Yes\",\"NO\"\n",
    "sizes=mafs1[\"Yes\"].value_counts()\n",
    "explode=(0,0.2)\n",
    "fig, ax=plt.subplots()\n",
    "ax.pie(sizes, explode=explode, labels=labels, autopct=\"%1.1f%%\", shadow=True, startangle=90)\n",
    "ax.axis('equal')\n",
    "plt.show()"
   ]
  },
  {
   "cell_type": "code",
   "execution_count": 15,
   "metadata": {},
   "outputs": [
    {
     "data": {
      "image/png": "[encoded data removed]",
      "text/plain": [
       "<Figure size 432x288 with 1 Axes>"
      ]
     },
     "metadata": {},
     "output_type": "display_data"
    }
   ],
   "source": [
    "#showing pie chart for % of M and female\n",
    "lables=\"Female\",\"Male\"\n",
    "sizes=mafs1[\"Gender\"].value_counts()\n",
    "explode=(0,0)\n",
    "fig, ax=plt.subplots()\n",
    "ax.pie(sizes, explode=explode, labels=lables, autopct=\"%1.1f%%\", shadow=True, startangle=90)\n",
    "ax.axis('equal')\n",
    "plt.show()"
   ]
  },
  {
   "cell_type": "code",
   "execution_count": 16,
   "metadata": {},
   "outputs": [
    {
     "name": "stdout",
     "output_type": "stream",
     "text": [
      "24 10 24 10\n"
     ]
    }
   ],
   "source": [
    "maleyes=0\n",
    "maleno=0\n",
    "femaleyes=0\n",
    "femaleno=0\n",
    "for i in mafs1.index:\n",
    "    if mafs1[\"Gender\"][i]==\"M\" and mafs1[\"Yes\"][i]==1:\n",
    "        maleyes+=1\n",
    "    elif mafs1[\"Gender\"][i]==\"M\" and mafs1[\"Yes\"][i]==0:\n",
    "        maleno+=1\n",
    "    elif mafs1[\"Gender\"][i]==\"F\" and mafs1[\"Yes\"][i]==1:\n",
    "        femaleyes+=1\n",
    "    elif mafs1[\"Gender\"][i]==\"F\" and mafs1[\"Yes\"][i]==0:\n",
    "        femaleno+=1\n",
    "    else:\n",
    "        continue\n",
    "        \n",
    "print(\"{0} {1} {2} {3}\".format(maleyes, maleno, femaleyes, femaleno))"
   ]
  },
  {
   "cell_type": "code",
   "execution_count": 18,
   "metadata": {},
   "outputs": [
    {
     "data": {
      "image/png": "[encoded data removed]",
      "text/plain": [
       "<Figure size 432x288 with 1 Axes>"
      ]
     },
     "metadata": {},
     "output_type": "display_data"
    }
   ],
   "source": [
    "#pie chart representation of males and females saying yes and no respectively\n",
    "lables=\"MY\",\"MN\", \"FY\", \"FN\"\n",
    "sizes=[maleyes,maleno,femaleyes,femaleno]\n",
    "explode=(0.09,0.09,0.09,0.09)\n",
    "fig, ax=plt.subplots()\n",
    "ax.pie(sizes, explode=explode, labels=lables, autopct=\"%1.1f%%\", shadow=True, startangle=90)\n",
    "ax.axis('equal')\n",
    "plt.show()"
   ]
  },
  {
   "cell_type": "markdown",
   "metadata": {},
   "source": []
  },
  {
   "cell_type": "code",
   "execution_count": 22,
   "metadata": {},
   "outputs": [
    {
     "data": {
      "text/plain": [
       "([0, 1, 2, 3, 4, 5, 6, 7, 8], <a list of 9 Text xticklabel objects>)"
      ]
     },
     "execution_count": 22,
     "metadata": {},
     "output_type": "execute_result"
    },
    {
     "data": {
      "image/png": "[encoded data removed]",
      "text/plain": [
       "<Figure size 432x288 with 1 Axes>"
      ]
     },
     "metadata": {
      "needs_background": "light"
     },
     "output_type": "display_data"
    }
   ],
   "source": [
    "#Lets print nuber of participant from each city\n",
    "a=plt.hist(mafs1[\"Location\"], edgecolor=\"yellow\")\n",
    "plt.xticks(rotation=90)"
   ]
  },
  {
   "cell_type": "code",
   "execution_count": null,
   "metadata": {},
   "outputs": [],
   "source": []
  }
 ],
 "metadata": {
  "kernelspec": {
   "display_name": "Python 3",
   "language": "python",
   "name": "python3"
  },
  "language_info": {
   "codemirror_mode": {
    "name": "ipython",
    "version": 3
   },
   "file_extension": ".py",
   "mimetype": "text/x-python",
   "name": "python",
   "nbconvert_exporter": "python",
   "pygments_lexer": "ipython3",
   "version": "3.7.6"
  }
 },
 "nbformat": 4,
 "nbformat_minor": 4
}
