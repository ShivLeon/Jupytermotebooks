{
 "cells": [
  {
   "cell_type": "code",
   "execution_count": 1,
   "metadata": {},
   "outputs": [
    {
     "data": {
      "text/plain": [
       "'\\nTasks:\\nMultiple Linear Regression\\nRandom Forest\\nKNN ALgorithm\\nSimple linear regression\\nT-test\\nGGplot\\nOne Way Anova\\nEDA Vizualization'"
      ]
     },
     "execution_count": 1,
     "metadata": {},
     "output_type": "execute_result"
    }
   ],
   "source": [
    "\"\"\"\n",
    "Tasks:\n",
    "Multiple Linear Regression\n",
    "Random Forest\n",
    "KNN ALgorithm\n",
    "Simple linear regression\n",
    "T-test\n",
    "GGplot\n",
    "One Way Anova\n",
    "EDA Vizualization\"\"\""
   ]
  },
  {
   "cell_type": "code",
   "execution_count": 2,
   "metadata": {},
   "outputs": [],
   "source": [
    "#importing necessary libraries\n",
    "import pandas as pd\n",
    "import numpy as np\n",
    "import matplotlib.pyplot as plt\n",
    "import seaborn as sns\n",
    "sns.set()"
   ]
  },
  {
   "cell_type": "code",
   "execution_count": 3,
   "metadata": {},
   "outputs": [
    {
     "data": {
      "text/html": [
       "<div>\n",
       "<style scoped>\n",
       "    .dataframe tbody tr th:only-of-type {\n",
       "        vertical-align: middle;\n",
       "    }\n",
       "\n",
       "    .dataframe tbody tr th {\n",
       "        vertical-align: top;\n",
       "    }\n",
       "\n",
       "    .dataframe thead th {\n",
       "        text-align: right;\n",
       "    }\n",
       "</style>\n",
       "<table border=\"1\" class=\"dataframe\">\n",
       "  <thead>\n",
       "    <tr style=\"text-align: right;\">\n",
       "      <th></th>\n",
       "      <th>sl_no</th>\n",
       "      <th>gender</th>\n",
       "      <th>ssc_p</th>\n",
       "      <th>ssc_b</th>\n",
       "      <th>hsc_p</th>\n",
       "      <th>hsc_b</th>\n",
       "      <th>hsc_s</th>\n",
       "      <th>degree_p</th>\n",
       "      <th>degree_t</th>\n",
       "      <th>workex</th>\n",
       "      <th>etest_p</th>\n",
       "      <th>specialisation</th>\n",
       "      <th>mba_p</th>\n",
       "      <th>status</th>\n",
       "      <th>salary</th>\n",
       "    </tr>\n",
       "  </thead>\n",
       "  <tbody>\n",
       "    <tr>\n",
       "      <th>0</th>\n",
       "      <td>1</td>\n",
       "      <td>M</td>\n",
       "      <td>67.00</td>\n",
       "      <td>Others</td>\n",
       "      <td>91.00</td>\n",
       "      <td>Others</td>\n",
       "      <td>Commerce</td>\n",
       "      <td>58.00</td>\n",
       "      <td>Sci&amp;Tech</td>\n",
       "      <td>No</td>\n",
       "      <td>55.0</td>\n",
       "      <td>Mkt&amp;HR</td>\n",
       "      <td>58.80</td>\n",
       "      <td>Placed</td>\n",
       "      <td>270000.0</td>\n",
       "    </tr>\n",
       "    <tr>\n",
       "      <th>1</th>\n",
       "      <td>2</td>\n",
       "      <td>M</td>\n",
       "      <td>79.33</td>\n",
       "      <td>Central</td>\n",
       "      <td>78.33</td>\n",
       "      <td>Others</td>\n",
       "      <td>Science</td>\n",
       "      <td>77.48</td>\n",
       "      <td>Sci&amp;Tech</td>\n",
       "      <td>Yes</td>\n",
       "      <td>86.5</td>\n",
       "      <td>Mkt&amp;Fin</td>\n",
       "      <td>66.28</td>\n",
       "      <td>Placed</td>\n",
       "      <td>200000.0</td>\n",
       "    </tr>\n",
       "    <tr>\n",
       "      <th>2</th>\n",
       "      <td>3</td>\n",
       "      <td>M</td>\n",
       "      <td>65.00</td>\n",
       "      <td>Central</td>\n",
       "      <td>68.00</td>\n",
       "      <td>Central</td>\n",
       "      <td>Arts</td>\n",
       "      <td>64.00</td>\n",
       "      <td>Comm&amp;Mgmt</td>\n",
       "      <td>No</td>\n",
       "      <td>75.0</td>\n",
       "      <td>Mkt&amp;Fin</td>\n",
       "      <td>57.80</td>\n",
       "      <td>Placed</td>\n",
       "      <td>250000.0</td>\n",
       "    </tr>\n",
       "    <tr>\n",
       "      <th>3</th>\n",
       "      <td>4</td>\n",
       "      <td>M</td>\n",
       "      <td>56.00</td>\n",
       "      <td>Central</td>\n",
       "      <td>52.00</td>\n",
       "      <td>Central</td>\n",
       "      <td>Science</td>\n",
       "      <td>52.00</td>\n",
       "      <td>Sci&amp;Tech</td>\n",
       "      <td>No</td>\n",
       "      <td>66.0</td>\n",
       "      <td>Mkt&amp;HR</td>\n",
       "      <td>59.43</td>\n",
       "      <td>Not Placed</td>\n",
       "      <td>NaN</td>\n",
       "    </tr>\n",
       "    <tr>\n",
       "      <th>4</th>\n",
       "      <td>5</td>\n",
       "      <td>M</td>\n",
       "      <td>85.80</td>\n",
       "      <td>Central</td>\n",
       "      <td>73.60</td>\n",
       "      <td>Central</td>\n",
       "      <td>Commerce</td>\n",
       "      <td>73.30</td>\n",
       "      <td>Comm&amp;Mgmt</td>\n",
       "      <td>No</td>\n",
       "      <td>96.8</td>\n",
       "      <td>Mkt&amp;Fin</td>\n",
       "      <td>55.50</td>\n",
       "      <td>Placed</td>\n",
       "      <td>425000.0</td>\n",
       "    </tr>\n",
       "    <tr>\n",
       "      <th>...</th>\n",
       "      <td>...</td>\n",
       "      <td>...</td>\n",
       "      <td>...</td>\n",
       "      <td>...</td>\n",
       "      <td>...</td>\n",
       "      <td>...</td>\n",
       "      <td>...</td>\n",
       "      <td>...</td>\n",
       "      <td>...</td>\n",
       "      <td>...</td>\n",
       "      <td>...</td>\n",
       "      <td>...</td>\n",
       "      <td>...</td>\n",
       "      <td>...</td>\n",
       "      <td>...</td>\n",
       "    </tr>\n",
       "    <tr>\n",
       "      <th>210</th>\n",
       "      <td>211</td>\n",
       "      <td>M</td>\n",
       "      <td>80.60</td>\n",
       "      <td>Others</td>\n",
       "      <td>82.00</td>\n",
       "      <td>Others</td>\n",
       "      <td>Commerce</td>\n",
       "      <td>77.60</td>\n",
       "      <td>Comm&amp;Mgmt</td>\n",
       "      <td>No</td>\n",
       "      <td>91.0</td>\n",
       "      <td>Mkt&amp;Fin</td>\n",
       "      <td>74.49</td>\n",
       "      <td>Placed</td>\n",
       "      <td>400000.0</td>\n",
       "    </tr>\n",
       "    <tr>\n",
       "      <th>211</th>\n",
       "      <td>212</td>\n",
       "      <td>M</td>\n",
       "      <td>58.00</td>\n",
       "      <td>Others</td>\n",
       "      <td>60.00</td>\n",
       "      <td>Others</td>\n",
       "      <td>Science</td>\n",
       "      <td>72.00</td>\n",
       "      <td>Sci&amp;Tech</td>\n",
       "      <td>No</td>\n",
       "      <td>74.0</td>\n",
       "      <td>Mkt&amp;Fin</td>\n",
       "      <td>53.62</td>\n",
       "      <td>Placed</td>\n",
       "      <td>275000.0</td>\n",
       "    </tr>\n",
       "    <tr>\n",
       "      <th>212</th>\n",
       "      <td>213</td>\n",
       "      <td>M</td>\n",
       "      <td>67.00</td>\n",
       "      <td>Others</td>\n",
       "      <td>67.00</td>\n",
       "      <td>Others</td>\n",
       "      <td>Commerce</td>\n",
       "      <td>73.00</td>\n",
       "      <td>Comm&amp;Mgmt</td>\n",
       "      <td>Yes</td>\n",
       "      <td>59.0</td>\n",
       "      <td>Mkt&amp;Fin</td>\n",
       "      <td>69.72</td>\n",
       "      <td>Placed</td>\n",
       "      <td>295000.0</td>\n",
       "    </tr>\n",
       "    <tr>\n",
       "      <th>213</th>\n",
       "      <td>214</td>\n",
       "      <td>F</td>\n",
       "      <td>74.00</td>\n",
       "      <td>Others</td>\n",
       "      <td>66.00</td>\n",
       "      <td>Others</td>\n",
       "      <td>Commerce</td>\n",
       "      <td>58.00</td>\n",
       "      <td>Comm&amp;Mgmt</td>\n",
       "      <td>No</td>\n",
       "      <td>70.0</td>\n",
       "      <td>Mkt&amp;HR</td>\n",
       "      <td>60.23</td>\n",
       "      <td>Placed</td>\n",
       "      <td>204000.0</td>\n",
       "    </tr>\n",
       "    <tr>\n",
       "      <th>214</th>\n",
       "      <td>215</td>\n",
       "      <td>M</td>\n",
       "      <td>62.00</td>\n",
       "      <td>Central</td>\n",
       "      <td>58.00</td>\n",
       "      <td>Others</td>\n",
       "      <td>Science</td>\n",
       "      <td>53.00</td>\n",
       "      <td>Comm&amp;Mgmt</td>\n",
       "      <td>No</td>\n",
       "      <td>89.0</td>\n",
       "      <td>Mkt&amp;HR</td>\n",
       "      <td>60.22</td>\n",
       "      <td>Not Placed</td>\n",
       "      <td>NaN</td>\n",
       "    </tr>\n",
       "  </tbody>\n",
       "</table>\n",
       "<p>215 rows × 15 columns</p>\n",
       "</div>"
      ],
      "text/plain": [
       "     sl_no gender  ssc_p    ssc_b  hsc_p    hsc_b     hsc_s  degree_p  \\\n",
       "0        1      M  67.00   Others  91.00   Others  Commerce     58.00   \n",
       "1        2      M  79.33  Central  78.33   Others   Science     77.48   \n",
       "2        3      M  65.00  Central  68.00  Central      Arts     64.00   \n",
       "3        4      M  56.00  Central  52.00  Central   Science     52.00   \n",
       "4        5      M  85.80  Central  73.60  Central  Commerce     73.30   \n",
       "..     ...    ...    ...      ...    ...      ...       ...       ...   \n",
       "210    211      M  80.60   Others  82.00   Others  Commerce     77.60   \n",
       "211    212      M  58.00   Others  60.00   Others   Science     72.00   \n",
       "212    213      M  67.00   Others  67.00   Others  Commerce     73.00   \n",
       "213    214      F  74.00   Others  66.00   Others  Commerce     58.00   \n",
       "214    215      M  62.00  Central  58.00   Others   Science     53.00   \n",
       "\n",
       "      degree_t workex  etest_p specialisation  mba_p      status    salary  \n",
       "0     Sci&Tech     No     55.0         Mkt&HR  58.80      Placed  270000.0  \n",
       "1     Sci&Tech    Yes     86.5        Mkt&Fin  66.28      Placed  200000.0  \n",
       "2    Comm&Mgmt     No     75.0        Mkt&Fin  57.80      Placed  250000.0  \n",
       "3     Sci&Tech     No     66.0         Mkt&HR  59.43  Not Placed       NaN  \n",
       "4    Comm&Mgmt     No     96.8        Mkt&Fin  55.50      Placed  425000.0  \n",
       "..         ...    ...      ...            ...    ...         ...       ...  \n",
       "210  Comm&Mgmt     No     91.0        Mkt&Fin  74.49      Placed  400000.0  \n",
       "211   Sci&Tech     No     74.0        Mkt&Fin  53.62      Placed  275000.0  \n",
       "212  Comm&Mgmt    Yes     59.0        Mkt&Fin  69.72      Placed  295000.0  \n",
       "213  Comm&Mgmt     No     70.0         Mkt&HR  60.23      Placed  204000.0  \n",
       "214  Comm&Mgmt     No     89.0         Mkt&HR  60.22  Not Placed       NaN  \n",
       "\n",
       "[215 rows x 15 columns]"
      ]
     },
     "execution_count": 3,
     "metadata": {},
     "output_type": "execute_result"
    }
   ],
   "source": [
    "#Reading the csv file\n",
    "datam=pd.read_csv(\"D:/Spyder/Data-Envelopment-Analysis-Excel/Data/factors-affecting-campus-placement/factors-affecting-campus-placement/Placement_Data_Full_Class.csv\")\n",
    "datam"
   ]
  },
  {
   "cell_type": "code",
   "execution_count": 4,
   "metadata": {},
   "outputs": [
    {
     "data": {
      "text/plain": [
       "Index(['sl_no', 'gender', 'ssc_p', 'ssc_b', 'hsc_p', 'hsc_b', 'hsc_s',\n",
       "       'degree_p', 'degree_t', 'workex', 'etest_p', 'specialisation', 'mba_p',\n",
       "       'status', 'salary'],\n",
       "      dtype='object')"
      ]
     },
     "execution_count": 4,
     "metadata": {},
     "output_type": "execute_result"
    }
   ],
   "source": [
    "datam.columns"
   ]
  },
  {
   "cell_type": "markdown",
   "metadata": {},
   "source": [
    "# General Information"
   ]
  },
  {
   "cell_type": "code",
   "execution_count": 5,
   "metadata": {},
   "outputs": [],
   "source": [
    "# Columns meaning\n",
    "# sl_no = Serial Number\n",
    "# gender = Male or Female\n",
    "# ssc_p = senior sceondary percentage (10)\n",
    "# ssc_b = senior secondary board\n",
    "# hsc_p = higher secondary percetage (12)\n",
    "# hsc_b = higher secondary board (12)\n",
    "# hsc_s = higher secondary stream (12)\n",
    "# degree_p = degree percentage (UG)\n",
    "# degree_t = degree type (UG)\n",
    "# workex = work experience\n",
    "# etest_p = its a test percentage\n",
    "# specialisation = the specialisation you are doing in MBA\n",
    "# mba_p = MBA Percentage\n",
    "# status = are you placed or not\n",
    "# salary = package "
   ]
  },
  {
   "cell_type": "code",
   "execution_count": 6,
   "metadata": {},
   "outputs": [
    {
     "name": "stdout",
     "output_type": "stream",
     "text": [
      "dataset size:3225\n",
      "dataset dimension: 2\n",
      "dataset Shape(215, 15)\n"
     ]
    }
   ],
   "source": [
    "print(\"dataset size:{0}\\ndataset dimension: {1}\\ndataset Shape{2}\".format(datam.size, datam.ndim, datam.shape))"
   ]
  },
  {
   "cell_type": "code",
   "execution_count": 7,
   "metadata": {},
   "outputs": [
    {
     "name": "stdout",
     "output_type": "stream",
     "text": [
      "sl_no=[  1   2   3   4   5   6   7   8   9  10  11  12  13  14  15  16  17  18\n",
      "  19  20  21  22  23  24  25  26  27  28  29  30  31  32  33  34  35  36\n",
      "  37  38  39  40  41  42  43  44  45  46  47  48  49  50  51  52  53  54\n",
      "  55  56  57  58  59  60  61  62  63  64  65  66  67  68  69  70  71  72\n",
      "  73  74  75  76  77  78  79  80  81  82  83  84  85  86  87  88  89  90\n",
      "  91  92  93  94  95  96  97  98  99 100 101 102 103 104 105 106 107 108\n",
      " 109 110 111 112 113 114 115 116 117 118 119 120 121 122 123 124 125 126\n",
      " 127 128 129 130 131 132 133 134 135 136 137 138 139 140 141 142 143 144\n",
      " 145 146 147 148 149 150 151 152 153 154 155 156 157 158 159 160 161 162\n",
      " 163 164 165 166 167 168 169 170 171 172 173 174 175 176 177 178 179 180\n",
      " 181 182 183 184 185 186 187 188 189 190 191 192 193 194 195 196 197 198\n",
      " 199 200 201 202 203 204 205 206 207 208 209 210 211 212 213 214 215]\n",
      "gender=['M' 'F']\n",
      "ssc_p=[67.   79.33 65.   56.   85.8  55.   46.   82.   73.   58.   69.6  47.\n",
      " 77.   62.   63.   60.   79.   69.8  77.4  76.5  52.58 71.   76.76 64.\n",
      " 61.   87.   69.   51.   81.   78.   74.   49.   76.   70.89 50.   75.2\n",
      " 54.4  40.89 80.   60.4  68.   52.6  84.2  86.5  54.   83.   80.92 69.7\n",
      " 75.   84.86 64.6  56.6  59.   66.5  84.   81.7  70.   83.84 59.6  66.\n",
      " 85.   52.   60.23 70.5  45.   61.08 69.5  73.96 68.2  60.8  72.   80.4\n",
      " 76.7  74.9  77.44 77.67 89.4  44.   75.4  53.   51.57 55.6  74.2  67.16\n",
      " 63.3  67.9  48.   59.96 63.4  73.24 77.8  56.28 88.   78.5  61.8  65.2\n",
      " 83.96 54.2  55.68 41.   83.33 43.   80.6 ]\n",
      "ssc_b=['Others' 'Central']\n",
      "hsc_p=[91.   78.33 68.   52.   73.6  49.8  49.2  64.   79.   70.   61.   68.4\n",
      " 55.   87.   47.   75.   66.2  67.   66.   65.   76.   60.8  60.   97.7\n",
      " 54.6  76.5  73.5  53.   81.   51.   78.   44.   58.   77.   63.16 39.\n",
      " 73.   71.98 62.   37.   73.2  61.12 45.83 66.6  71.4  65.58 73.4  64.2\n",
      " 74.   78.5  70.29 83.83 64.8  70.4  80.   90.9  63.   89.83 90.   57.\n",
      " 69.   62.5  82.   72.   50.   54.   72.8  40.   66.8  59.   71.   89.7\n",
      " 92.   56.   64.89 65.66 86.   58.66 60.5  74.66 69.4  49.   87.6  72.5\n",
      " 42.16 67.2  50.83 97.   71.5  60.33 62.83 65.5  77.6  70.2  61.4  61.33\n",
      " 42.  ]\n",
      "hsc_b=['Others' 'Central']\n",
      "hsc_s=['Commerce' 'Science' 'Arts']\n",
      "degree_p=[58.   77.48 64.   52.   73.3  67.25 79.   66.   72.   61.   60.   78.3\n",
      " 65.   59.   50.   69.   65.6  70.   85.   72.23 64.74 78.86 50.2  67.5\n",
      " 73.   66.4  81.   57.   80.   68.   68.4  56.2  53.   61.4  74.   72.11\n",
      " 66.89 67.4  75.   67.   72.7  62.   71.   78.   71.72 70.2  77.5  71.93\n",
      " 64.5  77.2  82.   50.8  54.   76.   63.   83.   66.6  64.6  69.6  69.3\n",
      " 64.33 75.5  77.72 77.   69.5  73.43 70.67 71.25 56.   55.   84.   59.9\n",
      " 60.9  57.5  77.25 63.35 61.26 64.27 64.2  62.8  64.21 59.79 54.38 69.2\n",
      " 64.8  56.3  91.   56.87 77.6 ]\n",
      "degree_t=['Sci&Tech' 'Comm&Mgmt' 'Others']\n",
      "workex=['No' 'Yes']\n",
      "etest_p=[55.   86.5  75.   66.   96.8  74.28 67.   91.34 54.   62.   60.   68.\n",
      " 76.   72.   50.48 50.   95.   55.53 92.   97.4  94.   73.35 77.   52.\n",
      " 64.   50.89 88.   68.44 71.   58.   53.7  93.   65.   63.   89.   78.\n",
      " 71.2  87.   80.   74.   57.6  61.6  59.   68.5  61.   89.69 68.92 68.71\n",
      " 79.   70.   95.5  86.   84.27 69.   86.04 82.   84.   78.74 53.88 95.46\n",
      " 93.91 56.39 57.5  85.   57.2  72.15 96.   97.   82.66 73.   55.67 80.4\n",
      " 55.5  81.2  90.   74.4  55.6  56.   83.   57.   64.25 98.   56.15 93.4\n",
      " 57.63 75.2  53.04 58.1  54.48 58.06 63.79 87.5  75.5  95.65 59.32 87.55\n",
      " 61.28 88.56 92.66 91.  ]\n",
      "specialisation=['Mkt&HR' 'Mkt&Fin']\n",
      "mba_p=[58.8  66.28 57.8  59.43 55.5  51.58 53.29 62.14 61.29 52.21 60.85 63.7\n",
      " 65.04 68.63 54.96 64.66 62.54 67.28 64.08 77.89 56.7  69.06 68.81 63.62\n",
      " 74.01 65.33 57.55 57.69 64.15 51.29 58.32 62.21 72.78 62.77 62.74 51.45\n",
      " 55.47 56.86 62.56 66.72 69.76 51.21 62.9  69.7  66.53 71.63 54.55 62.46\n",
      " 56.11 62.98 62.65 65.49 71.04 65.56 52.71 66.88 63.59 57.99 56.66 57.24\n",
      " 62.48 59.69 59.5  58.78 57.1  58.46 60.99 59.24 68.07 65.45 66.94 68.53\n",
      " 59.75 67.2  67.   64.27 57.65 59.42 67.99 62.35 70.2  60.44 66.69 62.\n",
      " 76.18 57.03 59.08 64.36 62.36 68.03 62.79 59.47 55.41 54.97 62.16 64.44\n",
      " 69.03 57.31 64.95 61.31 65.83 58.23 55.3  65.69 73.52 58.31 56.09 54.8\n",
      " 60.64 53.94 63.08 55.01 60.5  70.85 67.05 70.48 64.34 58.81 71.49 71.\n",
      " 61.26 73.33 68.2  58.4  76.26 68.55 60.78 53.49 60.98 67.13 65.63 61.58\n",
      " 60.41 71.77 54.43 56.94 61.9  60.39 58.52 63.23 55.14 62.28 58.54 61.3\n",
      " 58.87 65.25 53.2  65.99 52.72 55.03 61.87 60.59 72.29 62.72 66.06 66.46\n",
      " 65.52 74.56 52.38 75.71 58.79 65.48 69.28 66.04 52.64 59.32 66.23 60.69\n",
      " 57.9  70.81 72.14 56.6  60.02 59.81 61.82 57.29 71.43 62.93 64.86 56.13\n",
      " 62.5  61.01 57.34 56.63 64.74 58.95 54.48 69.71 71.96 55.8  52.81 58.44\n",
      " 60.11 58.3  67.69 56.81 53.39 71.55 62.92 56.49 74.49 53.62 69.72 60.23\n",
      " 60.22]\n",
      "status=['Placed' 'Not Placed']\n",
      "salary=[270000. 200000. 250000.     nan 425000. 252000. 231000. 260000. 218000.\n",
      " 300000. 236000. 265000. 393000. 360000. 240000. 350000. 278000. 320000.\n",
      " 411000. 287000. 204000. 450000. 216000. 220000. 268000. 275000. 336000.\n",
      " 230000. 500000. 400000. 210000. 420000. 380000. 280000. 276000. 940000.\n",
      " 225000. 233000. 690000. 340000. 255000. 285000. 290000. 650000. 264000.\n",
      " 295000.]\n"
     ]
    }
   ],
   "source": [
    "for i in datam:\n",
    "    print(\"{0}={1}\".format(i,datam[i].unique()))"
   ]
  },
  {
   "cell_type": "markdown",
   "metadata": {},
   "source": [
    "#### In salary, there's a type called nan, which will hinder our process, so we will be replacing every nan by -1, where -1 means no salary"
   ]
  },
  {
   "cell_type": "code",
   "execution_count": 8,
   "metadata": {},
   "outputs": [],
   "source": [
    "datam[\"salary\"]=datam['salary'].fillna((-1)) #column.fillna((value)) to replace nan with value in that column"
   ]
  },
  {
   "cell_type": "code",
   "execution_count": 9,
   "metadata": {},
   "outputs": [
    {
     "data": {
      "text/plain": [
       "array([ 2.70e+05,  2.00e+05,  2.50e+05, -1.00e+00,  4.25e+05,  2.52e+05,\n",
       "        2.31e+05,  2.60e+05,  2.18e+05,  3.00e+05,  2.36e+05,  2.65e+05,\n",
       "        3.93e+05,  3.60e+05,  2.40e+05,  3.50e+05,  2.78e+05,  3.20e+05,\n",
       "        4.11e+05,  2.87e+05,  2.04e+05,  4.50e+05,  2.16e+05,  2.20e+05,\n",
       "        2.68e+05,  2.75e+05,  3.36e+05,  2.30e+05,  5.00e+05,  4.00e+05,\n",
       "        2.10e+05,  4.20e+05,  3.80e+05,  2.80e+05,  2.76e+05,  9.40e+05,\n",
       "        2.25e+05,  2.33e+05,  6.90e+05,  3.40e+05,  2.55e+05,  2.85e+05,\n",
       "        2.90e+05,  6.50e+05,  2.64e+05,  2.95e+05])"
      ]
     },
     "execution_count": 9,
     "metadata": {},
     "output_type": "execute_result"
    }
   ],
   "source": [
    "datam[\"salary\"].unique()"
   ]
  },
  {
   "cell_type": "markdown",
   "metadata": {},
   "source": [
    "# General exploration"
   ]
  },
  {
   "cell_type": "code",
   "execution_count": 10,
   "metadata": {},
   "outputs": [
    {
     "data": {
      "text/plain": [
       "Text(0.5, 1.0, 'Serial Number Histogram')"
      ]
     },
     "execution_count": 10,
     "metadata": {},
     "output_type": "execute_result"
    },
    {
     "data": {
      "image/png": "[encoded data removed]",
      "text/plain": [
       "<Figure size 432x288 with 1 Axes>"
      ]
     },
     "metadata": {},
     "output_type": "display_data"
    }
   ],
   "source": [
    "plt.hist(datam[\"sl_no\"], edgecolor=\"#7FFFD4\")\n",
    "plt.title(\"Serial Number Histogram\")"
   ]
  },
  {
   "cell_type": "code",
   "execution_count": 11,
   "metadata": {},
   "outputs": [
    {
     "data": {
      "text/plain": [
       "Text(0.5, 1.0, 'Gender Countplot')"
      ]
     },
     "execution_count": 11,
     "metadata": {},
     "output_type": "execute_result"
    },
    {
     "data": {
      "image/png": "[encoded data removed]",
      "text/plain": [
       "<Figure size 432x288 with 1 Axes>"
      ]
     },
     "metadata": {},
     "output_type": "display_data"
    }
   ],
   "source": [
    "sns.countplot(datam['gender'], color=\"#FF4040\", edgecolor=\"#00008B\")\n",
    "plt.title(\"Gender Countplot\")"
   ]
  },
  {
   "cell_type": "code",
   "execution_count": 12,
   "metadata": {},
   "outputs": [
    {
     "data": {
      "text/plain": [
       "Text(0.5, 1.0, 'Senior Seconday Percentage Histogram')"
      ]
     },
     "execution_count": 12,
     "metadata": {},
     "output_type": "execute_result"
    },
    {
     "data": {
      "image/png": "[encoded data removed]",
      "text/plain": [
       "<Figure size 432x288 with 1 Axes>"
      ]
     },
     "metadata": {},
     "output_type": "display_data"
    }
   ],
   "source": [
    "plt.hist(datam[\"ssc_p\"], color=\"#FF4040\", edgecolor=\"#00008B\")\n",
    "plt.title(\"Senior Seconday Percentage Histogram\")"
   ]
  },
  {
   "cell_type": "code",
   "execution_count": 13,
   "metadata": {},
   "outputs": [
    {
     "data": {
      "text/plain": [
       "Text(0.5, 1.0, 'Senior Seconday Board Countplot')"
      ]
     },
     "execution_count": 13,
     "metadata": {},
     "output_type": "execute_result"
    },
    {
     "data": {
      "image/png": "[encoded data removed]",
      "text/plain": [
       "<Figure size 432x288 with 1 Axes>"
      ]
     },
     "metadata": {},
     "output_type": "display_data"
    }
   ],
   "source": [
    "sns.countplot(datam[\"ssc_b\"], color=\"#FF4040\", edgecolor=\"#00008B\")\n",
    "plt.title(\"Senior Seconday Board Countplot\")"
   ]
  },
  {
   "cell_type": "code",
   "execution_count": 14,
   "metadata": {},
   "outputs": [
    {
     "data": {
      "text/plain": [
       "Text(0.5, 1.0, 'Higher Seconday Percentage Histogram')"
      ]
     },
     "execution_count": 14,
     "metadata": {},
     "output_type": "execute_result"
    },
    {
     "data": {
      "image/png": "[encoded data removed]",
      "text/plain": [
       "<Figure size 432x288 with 1 Axes>"
      ]
     },
     "metadata": {},
     "output_type": "display_data"
    }
   ],
   "source": [
    "plt.hist(datam[\"hsc_p\"], color=\"#FF4040\", edgecolor=\"#00008B\")\n",
    "plt.title(\"Higher Seconday Percentage Histogram\")"
   ]
  },
  {
   "cell_type": "code",
   "execution_count": 15,
   "metadata": {},
   "outputs": [
    {
     "data": {
      "text/plain": [
       "Text(0.5, 1.0, 'Higher Seconday Board Countplot')"
      ]
     },
     "execution_count": 15,
     "metadata": {},
     "output_type": "execute_result"
    },
    {
     "data": {
      "image/png": "[encoded data removed]",
      "text/plain": [
       "<Figure size 432x288 with 1 Axes>"
      ]
     },
     "metadata": {},
     "output_type": "display_data"
    }
   ],
   "source": [
    "sns.countplot(datam[\"hsc_b\"], color=\"#FF4040\", edgecolor=\"#00008B\")\n",
    "plt.title(\"Higher Seconday Board Countplot\")"
   ]
  },
  {
   "cell_type": "code",
   "execution_count": 16,
   "metadata": {},
   "outputs": [
    {
     "data": {
      "text/plain": [
       "Text(0.5, 1.0, 'Higher Seconday Stream Countplot')"
      ]
     },
     "execution_count": 16,
     "metadata": {},
     "output_type": "execute_result"
    },
    {
     "data": {
      "image/png": "[encoded data removed]",
      "text/plain": [
       "<Figure size 432x288 with 1 Axes>"
      ]
     },
     "metadata": {},
     "output_type": "display_data"
    }
   ],
   "source": [
    "sns.countplot(datam[\"hsc_s\"], color=\"#FF4040\", edgecolor=\"#00008B\")\n",
    "plt.title(\"Higher Seconday Stream Countplot\")"
   ]
  },
  {
   "cell_type": "code",
   "execution_count": 17,
   "metadata": {},
   "outputs": [
    {
     "data": {
      "text/plain": [
       "Text(0.5, 1.0, 'Degree percentage Histogram')"
      ]
     },
     "execution_count": 17,
     "metadata": {},
     "output_type": "execute_result"
    },
    {
     "data": {
      "image/png": "[encoded data removed]",
      "text/plain": [
       "<Figure size 432x288 with 1 Axes>"
      ]
     },
     "metadata": {},
     "output_type": "display_data"
    }
   ],
   "source": [
    "plt.hist(datam[\"degree_p\"], color=\"#FF4040\", edgecolor=\"#00008B\")\n",
    "plt.title(\"Degree percentage Histogram\")"
   ]
  },
  {
   "cell_type": "code",
   "execution_count": 18,
   "metadata": {},
   "outputs": [
    {
     "data": {
      "text/plain": [
       "Text(0.5, 1.0, 'Degree Type countplot')"
      ]
     },
     "execution_count": 18,
     "metadata": {},
     "output_type": "execute_result"
    },
    {
     "data": {
      "image/png": "[encoded data removed]",
      "text/plain": [
       "<Figure size 432x288 with 1 Axes>"
      ]
     },
     "metadata": {},
     "output_type": "display_data"
    }
   ],
   "source": [
    "sns.countplot(datam[\"degree_t\"], color=\"#FF4040\", edgecolor=\"#00008B\")\n",
    "plt.title(\"Degree Type countplot\")"
   ]
  },
  {
   "cell_type": "code",
   "execution_count": 19,
   "metadata": {},
   "outputs": [],
   "source": [
    "#lets make a copy of dataset so that we have an original intact\n",
    "datam1=datam.copy(deep=True)"
   ]
  },
  {
   "cell_type": "code",
   "execution_count": 20,
   "metadata": {},
   "outputs": [
    {
     "data": {
      "text/plain": [
       "'  #Task 1:\\n\\n1) Develop an estimated multiple linear regression equation with mbap as response variable \\nand sscp & hscp as the two predictor variables. \\nInterpret the regression coefficients and check whether they are significant based on the summary output '"
      ]
     },
     "execution_count": 20,
     "metadata": {},
     "output_type": "execute_result"
    }
   ],
   "source": [
    "\"\"\"  #Task 1:\n",
    "\n",
    "1) Develop an estimated multiple linear regression equation with mbap as response variable \n",
    "and sscp & hscp as the two predictor variables. \n",
    "Interpret the regression coefficients and check whether they are significant based on the summary output \"\"\""
   ]
  },
  {
   "cell_type": "code",
   "execution_count": 21,
   "metadata": {},
   "outputs": [
    {
     "data": {
      "text/plain": [
       "' #Task 2\\n2) Estimate a multiple regression equation for each of the below scenarios and based on the model’s R-square comment which model is better. \\n(i) Use mbap as outcome variable and sscp & degreep as the two predictor variables.\\n(ii) Use mbap as outcome variable and hscp & degreep as the two predictor variables. \\n'"
      ]
     },
     "execution_count": 21,
     "metadata": {},
     "output_type": "execute_result"
    }
   ],
   "source": [
    "\"\"\" #Task 2\n",
    "2) Estimate a multiple regression equation for each of the below scenarios and based on the model’s R-square comment which model is better. \n",
    "(i) Use mbap as outcome variable and sscp & degreep as the two predictor variables.\n",
    "(ii) Use mbap as outcome variable and hscp & degreep as the two predictor variables. \n",
    "\"\"\""
   ]
  },
  {
   "cell_type": "code",
   "execution_count": 22,
   "metadata": {},
   "outputs": [
    {
     "data": {
      "text/plain": [
       "' #Task 3\\n3) Show the functional form of a multiple regression model. \\nBuild a regression model with mbap as dependent variable and sscp, hscp and degree_p as three independent variables. \\nDivide the dataset in the ratio of 80:20 for train and test set (set seed as 1001) and use the train set to build the model. \\nShow the model summary and interpret the p-values of the regression coefficients. \\nRemove any insignificant variables and rebuild the model. \\nUse this model for prediction on the test set and \\nshow the first few observations’ actual value of the test set in comparison to the predicted value.'"
      ]
     },
     "execution_count": 22,
     "metadata": {},
     "output_type": "execute_result"
    }
   ],
   "source": [
    "\"\"\" #Task 3\n",
    "3) Show the functional form of a multiple regression model. \n",
    "Build a regression model with mbap as dependent variable and sscp, hscp and degree_p as three independent variables. \n",
    "Divide the dataset in the ratio of 80:20 for train and test set (set seed as 1001) and use the train set to build the model. \n",
    "Show the model summary and interpret the p-values of the regression coefficients. \n",
    "Remove any insignificant variables and rebuild the model. \n",
    "Use this model for prediction on the test set and \n",
    "show the first few observations’ actual value of the test set in comparison to the predicted value.\"\"\""
   ]
  },
  {
   "cell_type": "markdown",
   "metadata": {},
   "source": [
    "## Task 1"
   ]
  },
  {
   "cell_type": "markdown",
   "metadata": {},
   "source": [
    "#### Here mba_p is a dependent variable and ssc_p & hsc_p are independent. So 1st we will plot scatter plot to see, wherther they have some sort of relation or not "
   ]
  },
  {
   "cell_type": "code",
   "execution_count": 23,
   "metadata": {},
   "outputs": [
    {
     "data": {
      "image/png": "[encoded data removed]",
      "text/plain": [
       "<Figure size 432x288 with 1 Axes>"
      ]
     },
     "metadata": {},
     "output_type": "display_data"
    }
   ],
   "source": [
    "datam1.plot('ssc_p','mba_p',color=\"#CD1076\",style=\"*\")\n",
    "plt.title(\"Relation b/w Senior Secondary Percentage & MBA Percentage\")\n",
    "plt.xlabel(\"Senior Secondary Percentage\")\n",
    "plt.ylabel(\"MBA Percentage\")\n",
    "plt.show()"
   ]
  },
  {
   "cell_type": "code",
   "execution_count": 24,
   "metadata": {},
   "outputs": [
    {
     "data": {
      "image/png": "[encoded data removed]",
      "text/plain": [
       "<Figure size 432x288 with 1 Axes>"
      ]
     },
     "metadata": {},
     "output_type": "display_data"
    }
   ],
   "source": [
    "datam1.plot('hsc_p','mba_p',color=\"#CD1076\",style=\"+\")\n",
    "plt.title(\"Relation b/w Higher Secondary Percentage & MBA Percentage\")\n",
    "plt.xlabel(\"Higher Secondary Percentage\")\n",
    "plt.ylabel(\"MBA Percentage\")\n",
    "plt.show()"
   ]
  },
  {
   "cell_type": "markdown",
   "metadata": {},
   "source": [
    "#### Well, there is some sort of relation there, thats for sure. So now we will try to build the model (Not so linear though, still)"
   ]
  },
  {
   "cell_type": "code",
   "execution_count": 25,
   "metadata": {},
   "outputs": [],
   "source": [
    "from sklearn.linear_model import LinearRegression\n",
    "from scipy import stats\n",
    "from statsmodels.formula.api import ols"
   ]
  },
  {
   "cell_type": "code",
   "execution_count": 28,
   "metadata": {},
   "outputs": [],
   "source": [
    "#First we will use LinearRegression\n",
    "x=datam1[['ssc_p','hsc_p']]\n",
    "y=datam1['mba_p']"
   ]
  },
  {
   "cell_type": "code",
   "execution_count": 29,
   "metadata": {},
   "outputs": [],
   "source": [
    "reg=LinearRegression()\n",
    "result=reg.fit(x,y)"
   ]
  },
  {
   "cell_type": "code",
   "execution_count": 30,
   "metadata": {},
   "outputs": [
    {
     "data": {
      "text/plain": [
       "['__abstractmethods__',\n",
       " '__class__',\n",
       " '__delattr__',\n",
       " '__dict__',\n",
       " '__dir__',\n",
       " '__doc__',\n",
       " '__eq__',\n",
       " '__format__',\n",
       " '__ge__',\n",
       " '__getattribute__',\n",
       " '__getstate__',\n",
       " '__gt__',\n",
       " '__hash__',\n",
       " '__init__',\n",
       " '__init_subclass__',\n",
       " '__le__',\n",
       " '__lt__',\n",
       " '__module__',\n",
       " '__ne__',\n",
       " '__new__',\n",
       " '__reduce__',\n",
       " '__reduce_ex__',\n",
       " '__repr__',\n",
       " '__setattr__',\n",
       " '__setstate__',\n",
       " '__sizeof__',\n",
       " '__str__',\n",
       " '__subclasshook__',\n",
       " '__weakref__',\n",
       " '_abc_impl',\n",
       " '_decision_function',\n",
       " '_estimator_type',\n",
       " '_get_param_names',\n",
       " '_get_tags',\n",
       " '_more_tags',\n",
       " '_preprocess_data',\n",
       " '_residues',\n",
       " '_set_intercept',\n",
       " 'coef_',\n",
       " 'copy_X',\n",
       " 'fit',\n",
       " 'fit_intercept',\n",
       " 'get_params',\n",
       " 'intercept_',\n",
       " 'n_jobs',\n",
       " 'normalize',\n",
       " 'predict',\n",
       " 'rank_',\n",
       " 'score',\n",
       " 'set_params',\n",
       " 'singular_']"
      ]
     },
     "execution_count": 30,
     "metadata": {},
     "output_type": "execute_result"
    }
   ],
   "source": [
    "dir(result)"
   ]
  },
  {
   "cell_type": "code",
   "execution_count": 31,
   "metadata": {},
   "outputs": [
    {
     "data": {
      "text/plain": [
       "array([0.15103446, 0.1131833 ])"
      ]
     },
     "execution_count": 31,
     "metadata": {},
     "output_type": "execute_result"
    }
   ],
   "source": [
    "result.coef_"
   ]
  },
  {
   "cell_type": "code",
   "execution_count": 32,
   "metadata": {},
   "outputs": [
    {
     "data": {
      "text/plain": [
       "44.60524831226684"
      ]
     },
     "execution_count": 32,
     "metadata": {},
     "output_type": "execute_result"
    }
   ],
   "source": [
    "result.intercept_"
   ]
  },
  {
   "cell_type": "code",
   "execution_count": 33,
   "metadata": {},
   "outputs": [
    {
     "data": {
      "text/html": [
       "<table class=\"simpletable\">\n",
       "<caption>OLS Regression Results</caption>\n",
       "<tr>\n",
       "  <th>Dep. Variable:</th>          <td>mba_p</td>      <th>  R-squared:         </th> <td>   0.184</td>\n",
       "</tr>\n",
       "<tr>\n",
       "  <th>Model:</th>                   <td>OLS</td>       <th>  Adj. R-squared:    </th> <td>   0.176</td>\n",
       "</tr>\n",
       "<tr>\n",
       "  <th>Method:</th>             <td>Least Squares</td>  <th>  F-statistic:       </th> <td>   23.89</td>\n",
       "</tr>\n",
       "<tr>\n",
       "  <th>Date:</th>             <td>Mon, 25 May 2020</td> <th>  Prob (F-statistic):</th> <td>4.40e-10</td>\n",
       "</tr>\n",
       "<tr>\n",
       "  <th>Time:</th>                 <td>14:45:26</td>     <th>  Log-Likelihood:    </th> <td> -661.89</td>\n",
       "</tr>\n",
       "<tr>\n",
       "  <th>No. Observations:</th>      <td>   215</td>      <th>  AIC:               </th> <td>   1330.</td>\n",
       "</tr>\n",
       "<tr>\n",
       "  <th>Df Residuals:</th>          <td>   212</td>      <th>  BIC:               </th> <td>   1340.</td>\n",
       "</tr>\n",
       "<tr>\n",
       "  <th>Df Model:</th>              <td>     2</td>      <th>                     </th>     <td> </td>   \n",
       "</tr>\n",
       "<tr>\n",
       "  <th>Covariance Type:</th>      <td>nonrobust</td>    <th>                     </th>     <td> </td>   \n",
       "</tr>\n",
       "</table>\n",
       "<table class=\"simpletable\">\n",
       "<tr>\n",
       "      <td></td>         <th>coef</th>     <th>std err</th>      <th>t</th>      <th>P>|t|</th>  <th>[0.025</th>    <th>0.975]</th>  \n",
       "</tr>\n",
       "<tr>\n",
       "  <th>Intercept</th> <td>   44.6052</td> <td>    2.587</td> <td>   17.243</td> <td> 0.000</td> <td>   39.506</td> <td>   49.704</td>\n",
       "</tr>\n",
       "<tr>\n",
       "  <th>ssc_p</th>     <td>    0.1510</td> <td>    0.039</td> <td>    3.883</td> <td> 0.000</td> <td>    0.074</td> <td>    0.228</td>\n",
       "</tr>\n",
       "<tr>\n",
       "  <th>hsc_p</th>     <td>    0.1132</td> <td>    0.039</td> <td>    2.928</td> <td> 0.004</td> <td>    0.037</td> <td>    0.189</td>\n",
       "</tr>\n",
       "</table>\n",
       "<table class=\"simpletable\">\n",
       "<tr>\n",
       "  <th>Omnibus:</th>       <td> 3.143</td> <th>  Durbin-Watson:     </th> <td>   1.866</td>\n",
       "</tr>\n",
       "<tr>\n",
       "  <th>Prob(Omnibus):</th> <td> 0.208</td> <th>  Jarque-Bera (JB):  </th> <td>   2.890</td>\n",
       "</tr>\n",
       "<tr>\n",
       "  <th>Skew:</th>          <td> 0.209</td> <th>  Prob(JB):          </th> <td>   0.236</td>\n",
       "</tr>\n",
       "<tr>\n",
       "  <th>Kurtosis:</th>      <td> 2.616</td> <th>  Cond. No.          </th> <td>    684.</td>\n",
       "</tr>\n",
       "</table><br/><br/>Warnings:<br/>[1] Standard Errors assume that the covariance matrix of the errors is correctly specified."
      ],
      "text/plain": [
       "<class 'statsmodels.iolib.summary.Summary'>\n",
       "\"\"\"\n",
       "                            OLS Regression Results                            \n",
       "==============================================================================\n",
       "Dep. Variable:                  mba_p   R-squared:                       0.184\n",
       "Model:                            OLS   Adj. R-squared:                  0.176\n",
       "Method:                 Least Squares   F-statistic:                     23.89\n",
       "Date:                Mon, 25 May 2020   Prob (F-statistic):           4.40e-10\n",
       "Time:                        14:45:26   Log-Likelihood:                -661.89\n",
       "No. Observations:                 215   AIC:                             1330.\n",
       "Df Residuals:                     212   BIC:                             1340.\n",
       "Df Model:                           2                                         \n",
       "Covariance Type:            nonrobust                                         \n",
       "==============================================================================\n",
       "                 coef    std err          t      P>|t|      [0.025      0.975]\n",
       "------------------------------------------------------------------------------\n",
       "Intercept     44.6052      2.587     17.243      0.000      39.506      49.704\n",
       "ssc_p          0.1510      0.039      3.883      0.000       0.074       0.228\n",
       "hsc_p          0.1132      0.039      2.928      0.004       0.037       0.189\n",
       "==============================================================================\n",
       "Omnibus:                        3.143   Durbin-Watson:                   1.866\n",
       "Prob(Omnibus):                  0.208   Jarque-Bera (JB):                2.890\n",
       "Skew:                           0.209   Prob(JB):                        0.236\n",
       "Kurtosis:                       2.616   Cond. No.                         684.\n",
       "==============================================================================\n",
       "\n",
       "Warnings:\n",
       "[1] Standard Errors assume that the covariance matrix of the errors is correctly specified.\n",
       "\"\"\""
      ]
     },
     "execution_count": 33,
     "metadata": {},
     "output_type": "execute_result"
    }
   ],
   "source": [
    "#Now we will use statsmodel to do the same\n",
    "res=ols(formula=\"mba_p ~ ssc_p+hsc_p\", data=datam1).fit()\n",
    "res.summary()"
   ]
  },
  {
   "cell_type": "code",
   "execution_count": 47,
   "metadata": {},
   "outputs": [
    {
     "data": {
      "text/plain": [
       "<matplotlib.axes._subplots.AxesSubplot at 0x1af740fd8c8>"
      ]
     },
     "execution_count": 47,
     "metadata": {},
     "output_type": "execute_result"
    },
    {
     "data": {
      "image/png": "[encoded data removed]",
      "text/plain": [
       "<Figure size 504x504 with 2 Axes>"
      ]
     },
     "metadata": {},
     "output_type": "display_data"
    }
   ],
   "source": [
    "#ploting the residual plot\n",
    "f, axes = plt.subplots(2, figsize=(7, 7), sharex=True)\n",
    "sns.residplot(datam1['ssc_p'],y,lowess=True, ax=axes[0])\n",
    "sns.residplot(datam1['hsc_p'],y,lowess=True,ax=axes[1])"
   ]
  },
  {
   "cell_type": "code",
   "execution_count": 48,
   "metadata": {},
   "outputs": [
    {
     "data": {
      "text/plain": [
       "'\\nA residual plot is a graph that shows the residuals on the vertical axis and the independent variable on the horizontal axis. \\nIf the points in a residual plot are randomly dispersed around the horizontal axis, \\na linear regression model is appropriate for the data'"
      ]
     },
     "execution_count": 48,
     "metadata": {},
     "output_type": "execute_result"
    }
   ],
   "source": [
    "\"\"\"\n",
    "A residual plot is a graph that shows the residuals on the vertical axis and the independent variable on the horizontal axis. \n",
    "If the points in a residual plot are randomly dispersed around the horizontal axis, \n",
    "a linear regression model is appropriate for the data\"\"\""
   ]
  },
  {
   "cell_type": "markdown",
   "metadata": {},
   "source": [
    "#### By now we saw that our model is somewhat right, as residual plot is also good."
   ]
  },
  {
   "cell_type": "markdown",
   "metadata": {},
   "source": [
    "# Task 2"
   ]
  },
  {
   "cell_type": "markdown",
   "metadata": {},
   "source": [
    "#### here mba_p is dependent variable, ssc_p, hsc_p and degree_p are independent. Above, we have seen the relation of ssc_p & hsc_p with mba_p. now we will see the relation b/w degree_p & mba_p"
   ]
  },
  {
   "cell_type": "code",
   "execution_count": 58,
   "metadata": {},
   "outputs": [
    {
     "data": {
      "image/png": "[encoded data removed]",
      "text/plain": [
       "<Figure size 432x288 with 1 Axes>"
      ]
     },
     "metadata": {},
     "output_type": "display_data"
    }
   ],
   "source": [
    "sns.regplot(datam1['degree_p'], datam1['mba_p'])\n",
    "plt.title(\"Relation b/w Degree Percentage & MBA Percentage\")\n",
    "plt.xlabel(\"Degree Percentage\")\n",
    "plt.ylabel(\"MBA Percentage\")\n",
    "plt.show()"
   ]
  },
  {
   "cell_type": "markdown",
   "metadata": {},
   "source": [
    "#### Well, there is some sort of relation there, thats for sure"
   ]
  },
  {
   "cell_type": "markdown",
   "metadata": {},
   "source": [
    "### Task 2.1 mba_p on ssc_p & degree_p"
   ]
  },
  {
   "cell_type": "code",
   "execution_count": 59,
   "metadata": {},
   "outputs": [
    {
     "data": {
      "text/html": [
       "<table class=\"simpletable\">\n",
       "<caption>OLS Regression Results</caption>\n",
       "<tr>\n",
       "  <th>Dep. Variable:</th>          <td>mba_p</td>      <th>  R-squared:         </th> <td>   0.203</td>\n",
       "</tr>\n",
       "<tr>\n",
       "  <th>Model:</th>                   <td>OLS</td>       <th>  Adj. R-squared:    </th> <td>   0.196</td>\n",
       "</tr>\n",
       "<tr>\n",
       "  <th>Method:</th>             <td>Least Squares</td>  <th>  F-statistic:       </th> <td>   27.08</td>\n",
       "</tr>\n",
       "<tr>\n",
       "  <th>Date:</th>             <td>Mon, 25 May 2020</td> <th>  Prob (F-statistic):</th> <td>3.36e-11</td>\n",
       "</tr>\n",
       "<tr>\n",
       "  <th>Time:</th>                 <td>15:17:07</td>     <th>  Log-Likelihood:    </th> <td> -659.29</td>\n",
       "</tr>\n",
       "<tr>\n",
       "  <th>No. Observations:</th>      <td>   215</td>      <th>  AIC:               </th> <td>   1325.</td>\n",
       "</tr>\n",
       "<tr>\n",
       "  <th>Df Residuals:</th>          <td>   212</td>      <th>  BIC:               </th> <td>   1335.</td>\n",
       "</tr>\n",
       "<tr>\n",
       "  <th>Df Model:</th>              <td>     2</td>      <th>                     </th>     <td> </td>   \n",
       "</tr>\n",
       "<tr>\n",
       "  <th>Covariance Type:</th>      <td>nonrobust</td>    <th>                     </th>     <td> </td>   \n",
       "</tr>\n",
       "</table>\n",
       "<table class=\"simpletable\">\n",
       "<tr>\n",
       "      <td></td>         <th>coef</th>     <th>std err</th>      <th>t</th>      <th>P>|t|</th>  <th>[0.025</th>    <th>0.975]</th>  \n",
       "</tr>\n",
       "<tr>\n",
       "  <th>Intercept</th> <td>   39.1887</td> <td>    3.296</td> <td>   11.891</td> <td> 0.000</td> <td>   32.693</td> <td>   45.685</td>\n",
       "</tr>\n",
       "<tr>\n",
       "  <th>ssc_p</th>     <td>    0.1304</td> <td>    0.039</td> <td>    3.327</td> <td> 0.001</td> <td>    0.053</td> <td>    0.208</td>\n",
       "</tr>\n",
       "<tr>\n",
       "  <th>degree_p</th>  <td>    0.2157</td> <td>    0.058</td> <td>    3.740</td> <td> 0.000</td> <td>    0.102</td> <td>    0.329</td>\n",
       "</tr>\n",
       "</table>\n",
       "<table class=\"simpletable\">\n",
       "<tr>\n",
       "  <th>Omnibus:</th>       <td> 3.536</td> <th>  Durbin-Watson:     </th> <td>   1.878</td>\n",
       "</tr>\n",
       "<tr>\n",
       "  <th>Prob(Omnibus):</th> <td> 0.171</td> <th>  Jarque-Bera (JB):  </th> <td>   3.031</td>\n",
       "</tr>\n",
       "<tr>\n",
       "  <th>Skew:</th>          <td> 0.196</td> <th>  Prob(JB):          </th> <td>   0.220</td>\n",
       "</tr>\n",
       "<tr>\n",
       "  <th>Kurtosis:</th>      <td> 2.570</td> <th>  Cond. No.          </th> <td>    880.</td>\n",
       "</tr>\n",
       "</table><br/><br/>Warnings:<br/>[1] Standard Errors assume that the covariance matrix of the errors is correctly specified."
      ],
      "text/plain": [
       "<class 'statsmodels.iolib.summary.Summary'>\n",
       "\"\"\"\n",
       "                            OLS Regression Results                            \n",
       "==============================================================================\n",
       "Dep. Variable:                  mba_p   R-squared:                       0.203\n",
       "Model:                            OLS   Adj. R-squared:                  0.196\n",
       "Method:                 Least Squares   F-statistic:                     27.08\n",
       "Date:                Mon, 25 May 2020   Prob (F-statistic):           3.36e-11\n",
       "Time:                        15:17:07   Log-Likelihood:                -659.29\n",
       "No. Observations:                 215   AIC:                             1325.\n",
       "Df Residuals:                     212   BIC:                             1335.\n",
       "Df Model:                           2                                         \n",
       "Covariance Type:            nonrobust                                         \n",
       "==============================================================================\n",
       "                 coef    std err          t      P>|t|      [0.025      0.975]\n",
       "------------------------------------------------------------------------------\n",
       "Intercept     39.1887      3.296     11.891      0.000      32.693      45.685\n",
       "ssc_p          0.1304      0.039      3.327      0.001       0.053       0.208\n",
       "degree_p       0.2157      0.058      3.740      0.000       0.102       0.329\n",
       "==============================================================================\n",
       "Omnibus:                        3.536   Durbin-Watson:                   1.878\n",
       "Prob(Omnibus):                  0.171   Jarque-Bera (JB):                3.031\n",
       "Skew:                           0.196   Prob(JB):                        0.220\n",
       "Kurtosis:                       2.570   Cond. No.                         880.\n",
       "==============================================================================\n",
       "\n",
       "Warnings:\n",
       "[1] Standard Errors assume that the covariance matrix of the errors is correctly specified.\n",
       "\"\"\""
      ]
     },
     "execution_count": 59,
     "metadata": {},
     "output_type": "execute_result"
    }
   ],
   "source": [
    "res1=ols(formula=\"mba_p ~ ssc_p+degree_p\", data=datam1).fit()\n",
    "res1.summary()"
   ]
  },
  {
   "cell_type": "markdown",
   "metadata": {},
   "source": [
    "### Task 2.2 mba_p on hsc_p & degree_p"
   ]
  },
  {
   "cell_type": "code",
   "execution_count": 61,
   "metadata": {},
   "outputs": [
    {
     "data": {
      "text/html": [
       "<table class=\"simpletable\">\n",
       "<caption>OLS Regression Results</caption>\n",
       "<tr>\n",
       "  <th>Dep. Variable:</th>          <td>mba_p</td>      <th>  R-squared:         </th> <td>   0.202</td>\n",
       "</tr>\n",
       "<tr>\n",
       "  <th>Model:</th>                   <td>OLS</td>       <th>  Adj. R-squared:    </th> <td>   0.194</td>\n",
       "</tr>\n",
       "<tr>\n",
       "  <th>Method:</th>             <td>Least Squares</td>  <th>  F-statistic:       </th> <td>   26.81</td>\n",
       "</tr>\n",
       "<tr>\n",
       "  <th>Date:</th>             <td>Mon, 25 May 2020</td> <th>  Prob (F-statistic):</th> <td>4.16e-11</td>\n",
       "</tr>\n",
       "<tr>\n",
       "  <th>Time:</th>                 <td>15:19:39</td>     <th>  Log-Likelihood:    </th> <td> -659.50</td>\n",
       "</tr>\n",
       "<tr>\n",
       "  <th>No. Observations:</th>      <td>   215</td>      <th>  AIC:               </th> <td>   1325.</td>\n",
       "</tr>\n",
       "<tr>\n",
       "  <th>Df Residuals:</th>          <td>   212</td>      <th>  BIC:               </th> <td>   1335.</td>\n",
       "</tr>\n",
       "<tr>\n",
       "  <th>Df Model:</th>              <td>     2</td>      <th>                     </th>     <td> </td>   \n",
       "</tr>\n",
       "<tr>\n",
       "  <th>Covariance Type:</th>      <td>nonrobust</td>    <th>                     </th>     <td> </td>   \n",
       "</tr>\n",
       "</table>\n",
       "<table class=\"simpletable\">\n",
       "<tr>\n",
       "      <td></td>         <th>coef</th>     <th>std err</th>      <th>t</th>      <th>P>|t|</th>  <th>[0.025</th>    <th>0.975]</th>  \n",
       "</tr>\n",
       "<tr>\n",
       "  <th>Intercept</th> <td>   38.2980</td> <td>    3.360</td> <td>   11.397</td> <td> 0.000</td> <td>   31.674</td> <td>   44.922</td>\n",
       "</tr>\n",
       "<tr>\n",
       "  <th>hsc_p</th>     <td>    0.1188</td> <td>    0.036</td> <td>    3.259</td> <td> 0.001</td> <td>    0.047</td> <td>    0.191</td>\n",
       "</tr>\n",
       "<tr>\n",
       "  <th>degree_p</th>  <td>    0.2426</td> <td>    0.054</td> <td>    4.492</td> <td> 0.000</td> <td>    0.136</td> <td>    0.349</td>\n",
       "</tr>\n",
       "</table>\n",
       "<table class=\"simpletable\">\n",
       "<tr>\n",
       "  <th>Omnibus:</th>       <td> 5.164</td> <th>  Durbin-Watson:     </th> <td>   1.886</td>\n",
       "</tr>\n",
       "<tr>\n",
       "  <th>Prob(Omnibus):</th> <td> 0.076</td> <th>  Jarque-Bera (JB):  </th> <td>   3.837</td>\n",
       "</tr>\n",
       "<tr>\n",
       "  <th>Skew:</th>          <td> 0.199</td> <th>  Prob(JB):          </th> <td>   0.147</td>\n",
       "</tr>\n",
       "<tr>\n",
       "  <th>Kurtosis:</th>      <td> 2.480</td> <th>  Cond. No.          </th> <td>    889.</td>\n",
       "</tr>\n",
       "</table><br/><br/>Warnings:<br/>[1] Standard Errors assume that the covariance matrix of the errors is correctly specified."
      ],
      "text/plain": [
       "<class 'statsmodels.iolib.summary.Summary'>\n",
       "\"\"\"\n",
       "                            OLS Regression Results                            \n",
       "==============================================================================\n",
       "Dep. Variable:                  mba_p   R-squared:                       0.202\n",
       "Model:                            OLS   Adj. R-squared:                  0.194\n",
       "Method:                 Least Squares   F-statistic:                     26.81\n",
       "Date:                Mon, 25 May 2020   Prob (F-statistic):           4.16e-11\n",
       "Time:                        15:19:39   Log-Likelihood:                -659.50\n",
       "No. Observations:                 215   AIC:                             1325.\n",
       "Df Residuals:                     212   BIC:                             1335.\n",
       "Df Model:                           2                                         \n",
       "Covariance Type:            nonrobust                                         \n",
       "==============================================================================\n",
       "                 coef    std err          t      P>|t|      [0.025      0.975]\n",
       "------------------------------------------------------------------------------\n",
       "Intercept     38.2980      3.360     11.397      0.000      31.674      44.922\n",
       "hsc_p          0.1188      0.036      3.259      0.001       0.047       0.191\n",
       "degree_p       0.2426      0.054      4.492      0.000       0.136       0.349\n",
       "==============================================================================\n",
       "Omnibus:                        5.164   Durbin-Watson:                   1.886\n",
       "Prob(Omnibus):                  0.076   Jarque-Bera (JB):                3.837\n",
       "Skew:                           0.199   Prob(JB):                        0.147\n",
       "Kurtosis:                       2.480   Cond. No.                         889.\n",
       "==============================================================================\n",
       "\n",
       "Warnings:\n",
       "[1] Standard Errors assume that the covariance matrix of the errors is correctly specified.\n",
       "\"\"\""
      ]
     },
     "execution_count": 61,
     "metadata": {},
     "output_type": "execute_result"
    }
   ],
   "source": [
    "res2=ols(formula=\"mba_p ~ hsc_p+degree_p\", data=datam1).fit()\n",
    "res2.summary()"
   ]
  },
  {
   "cell_type": "markdown",
   "metadata": {},
   "source": [
    "### Task 2.3 Comapring R-Value from both the models"
   ]
  },
  {
   "cell_type": "code",
   "execution_count": 63,
   "metadata": {},
   "outputs": [
    {
     "name": "stdout",
     "output_type": "stream",
     "text": [
      "R2 value of model1(ssc_p & degree_P)= 0.20348122153002757\n",
      "R2 value of model2(hsc_p & degree_P)= 0.2018749243488065\n"
     ]
    }
   ],
   "source": [
    "print(\"R2 value of model1(ssc_p & degree_P)= {0}\".format(res1.rsquared))\n",
    "print(\"R2 value of model2(hsc_p & degree_P)= {0}\".format(res2.rsquared))"
   ]
  },
  {
   "cell_type": "markdown",
   "metadata": {},
   "source": [
    "#### As we can see that model1 is having bigger R2-value and hence it is more appropriate & better"
   ]
  },
  {
   "cell_type": "markdown",
   "metadata": {},
   "source": [
    "# Task 3"
   ]
  },
  {
   "cell_type": "markdown",
   "metadata": {},
   "source": [
    "### here we have mba_p as dependent variable & ssc_p, hsc_p & degree_p as independent variables"
   ]
  },
  {
   "cell_type": "code",
   "execution_count": 64,
   "metadata": {},
   "outputs": [],
   "source": [
    "# importing necessary libraries\n",
    "from sklearn.model_selection import train_test_split\n",
    "from sklearn import metrics"
   ]
  },
  {
   "cell_type": "code",
   "execution_count": 67,
   "metadata": {},
   "outputs": [],
   "source": [
    "#making independet & dependent variables\n",
    "X=datam1[['ssc_p','hsc_p','degree_p']]\n",
    "Y=datam1['mba_p']"
   ]
  },
  {
   "cell_type": "code",
   "execution_count": 69,
   "metadata": {},
   "outputs": [],
   "source": [
    "X_train, X_test, Y_train, Y_test = train_test_split(X, Y, test_size=0.2, random_state=1001)\n",
    "#From Doc:\n",
    "#If int, random_state is the seed used by the random number generator; \n",
    "#If random_state instance, random_state is the random number generator; \n",
    "#If None, the random number generator is the RandomState instance used by np.random."
   ]
  },
  {
   "cell_type": "code",
   "execution_count": 71,
   "metadata": {},
   "outputs": [
    {
     "data": {
      "text/plain": [
       "LinearRegression(copy_X=True, fit_intercept=True, n_jobs=None, normalize=False)"
      ]
     },
     "execution_count": 71,
     "metadata": {},
     "output_type": "execute_result"
    }
   ],
   "source": [
    "Regress=LinearRegression()\n",
    "Regress.fit(X_train, Y_train)"
   ]
  },
  {
   "cell_type": "code",
   "execution_count": 73,
   "metadata": {},
   "outputs": [
    {
     "data": {
      "text/plain": [
       "array([0.13999605, 0.09707612, 0.12917183])"
      ]
     },
     "execution_count": 73,
     "metadata": {},
     "output_type": "execute_result"
    }
   ],
   "source": [
    "Regress.coef_"
   ]
  },
  {
   "cell_type": "code",
   "execution_count": 74,
   "metadata": {},
   "outputs": [
    {
     "data": {
      "text/plain": [
       "38.03640753430686"
      ]
     },
     "execution_count": 74,
     "metadata": {},
     "output_type": "execute_result"
    }
   ],
   "source": [
    "Regress.intercept_"
   ]
  },
  {
   "cell_type": "code",
   "execution_count": 75,
   "metadata": {},
   "outputs": [],
   "source": [
    "ypredict=Regress.predict(X_test)"
   ]
  },
  {
   "cell_type": "code",
   "execution_count": 88,
   "metadata": {},
   "outputs": [],
   "source": [
    "# now lets compare\n",
    "datapredict = pd.DataFrame({'Actual': Y_test, 'Predicted': ypredict})"
   ]
  },
  {
   "cell_type": "code",
   "execution_count": 89,
   "metadata": {},
   "outputs": [
    {
     "data": {
      "text/html": [
       "<div>\n",
       "<style scoped>\n",
       "    .dataframe tbody tr th:only-of-type {\n",
       "        vertical-align: middle;\n",
       "    }\n",
       "\n",
       "    .dataframe tbody tr th {\n",
       "        vertical-align: top;\n",
       "    }\n",
       "\n",
       "    .dataframe thead th {\n",
       "        text-align: right;\n",
       "    }\n",
       "</style>\n",
       "<table border=\"1\" class=\"dataframe\">\n",
       "  <thead>\n",
       "    <tr style=\"text-align: right;\">\n",
       "      <th></th>\n",
       "      <th>Actual</th>\n",
       "      <th>Predicted</th>\n",
       "    </tr>\n",
       "  </thead>\n",
       "  <tbody>\n",
       "    <tr>\n",
       "      <th>16</th>\n",
       "      <td>62.54</td>\n",
       "      <td>61.756270</td>\n",
       "    </tr>\n",
       "    <tr>\n",
       "      <th>177</th>\n",
       "      <td>70.81</td>\n",
       "      <td>67.877077</td>\n",
       "    </tr>\n",
       "    <tr>\n",
       "      <th>179</th>\n",
       "      <td>72.14</td>\n",
       "      <td>63.433803</td>\n",
       "    </tr>\n",
       "    <tr>\n",
       "      <th>44</th>\n",
       "      <td>69.70</td>\n",
       "      <td>66.365578</td>\n",
       "    </tr>\n",
       "    <tr>\n",
       "      <th>169</th>\n",
       "      <td>65.48</td>\n",
       "      <td>58.436366</td>\n",
       "    </tr>\n",
       "    <tr>\n",
       "      <th>102</th>\n",
       "      <td>61.31</td>\n",
       "      <td>63.521431</td>\n",
       "    </tr>\n",
       "    <tr>\n",
       "      <th>172</th>\n",
       "      <td>52.64</td>\n",
       "      <td>61.120157</td>\n",
       "    </tr>\n",
       "    <tr>\n",
       "      <th>77</th>\n",
       "      <td>57.65</td>\n",
       "      <td>63.158413</td>\n",
       "    </tr>\n",
       "    <tr>\n",
       "      <th>185</th>\n",
       "      <td>71.43</td>\n",
       "      <td>67.420943</td>\n",
       "    </tr>\n",
       "    <tr>\n",
       "      <th>12</th>\n",
       "      <td>65.04</td>\n",
       "      <td>58.351578</td>\n",
       "    </tr>\n",
       "    <tr>\n",
       "      <th>139</th>\n",
       "      <td>54.43</td>\n",
       "      <td>63.232570</td>\n",
       "    </tr>\n",
       "    <tr>\n",
       "      <th>145</th>\n",
       "      <td>63.23</td>\n",
       "      <td>66.129565</td>\n",
       "    </tr>\n",
       "    <tr>\n",
       "      <th>103</th>\n",
       "      <td>65.83</td>\n",
       "      <td>65.257600</td>\n",
       "    </tr>\n",
       "    <tr>\n",
       "      <th>55</th>\n",
       "      <td>52.71</td>\n",
       "      <td>61.353608</td>\n",
       "    </tr>\n",
       "    <tr>\n",
       "      <th>143</th>\n",
       "      <td>60.39</td>\n",
       "      <td>64.337743</td>\n",
       "    </tr>\n",
       "    <tr>\n",
       "      <th>157</th>\n",
       "      <td>55.03</td>\n",
       "      <td>61.279967</td>\n",
       "    </tr>\n",
       "    <tr>\n",
       "      <th>46</th>\n",
       "      <td>71.63</td>\n",
       "      <td>63.421939</td>\n",
       "    </tr>\n",
       "    <tr>\n",
       "      <th>61</th>\n",
       "      <td>62.48</td>\n",
       "      <td>65.589766</td>\n",
       "    </tr>\n",
       "    <tr>\n",
       "      <th>166</th>\n",
       "      <td>52.38</td>\n",
       "      <td>60.485192</td>\n",
       "    </tr>\n",
       "    <tr>\n",
       "      <th>48</th>\n",
       "      <td>62.46</td>\n",
       "      <td>61.658563</td>\n",
       "    </tr>\n",
       "    <tr>\n",
       "      <th>199</th>\n",
       "      <td>55.80</td>\n",
       "      <td>61.368877</td>\n",
       "    </tr>\n",
       "    <tr>\n",
       "      <th>211</th>\n",
       "      <td>53.62</td>\n",
       "      <td>61.281117</td>\n",
       "    </tr>\n",
       "    <tr>\n",
       "      <th>58</th>\n",
       "      <td>57.99</td>\n",
       "      <td>63.198519</td>\n",
       "    </tr>\n",
       "    <tr>\n",
       "      <th>64</th>\n",
       "      <td>58.78</td>\n",
       "      <td>66.010536</td>\n",
       "    </tr>\n",
       "    <tr>\n",
       "      <th>75</th>\n",
       "      <td>67.00</td>\n",
       "      <td>62.325711</td>\n",
       "    </tr>\n",
       "    <tr>\n",
       "      <th>175</th>\n",
       "      <td>60.69</td>\n",
       "      <td>61.271047</td>\n",
       "    </tr>\n",
       "    <tr>\n",
       "      <th>3</th>\n",
       "      <td>59.43</td>\n",
       "      <td>57.641080</td>\n",
       "    </tr>\n",
       "    <tr>\n",
       "      <th>129</th>\n",
       "      <td>68.55</td>\n",
       "      <td>66.007173</td>\n",
       "    </tr>\n",
       "    <tr>\n",
       "      <th>142</th>\n",
       "      <td>61.29</td>\n",
       "      <td>65.245726</td>\n",
       "    </tr>\n",
       "    <tr>\n",
       "      <th>51</th>\n",
       "      <td>62.65</td>\n",
       "      <td>58.844942</td>\n",
       "    </tr>\n",
       "    <tr>\n",
       "      <th>153</th>\n",
       "      <td>62.48</td>\n",
       "      <td>59.019874</td>\n",
       "    </tr>\n",
       "    <tr>\n",
       "      <th>76</th>\n",
       "      <td>64.27</td>\n",
       "      <td>63.471633</td>\n",
       "    </tr>\n",
       "    <tr>\n",
       "      <th>78</th>\n",
       "      <td>59.42</td>\n",
       "      <td>66.951878</td>\n",
       "    </tr>\n",
       "    <tr>\n",
       "      <th>94</th>\n",
       "      <td>54.97</td>\n",
       "      <td>60.441895</td>\n",
       "    </tr>\n",
       "    <tr>\n",
       "      <th>88</th>\n",
       "      <td>64.36</td>\n",
       "      <td>62.724410</td>\n",
       "    </tr>\n",
       "    <tr>\n",
       "      <th>89</th>\n",
       "      <td>62.36</td>\n",
       "      <td>65.989641</td>\n",
       "    </tr>\n",
       "    <tr>\n",
       "      <th>28</th>\n",
       "      <td>64.15</td>\n",
       "      <td>64.927926</td>\n",
       "    </tr>\n",
       "    <tr>\n",
       "      <th>136</th>\n",
       "      <td>61.58</td>\n",
       "      <td>58.610710</td>\n",
       "    </tr>\n",
       "    <tr>\n",
       "      <th>174</th>\n",
       "      <td>66.23</td>\n",
       "      <td>61.525971</td>\n",
       "    </tr>\n",
       "    <tr>\n",
       "      <th>67</th>\n",
       "      <td>60.99</td>\n",
       "      <td>65.639876</td>\n",
       "    </tr>\n",
       "    <tr>\n",
       "      <th>213</th>\n",
       "      <td>60.23</td>\n",
       "      <td>62.295105</td>\n",
       "    </tr>\n",
       "    <tr>\n",
       "      <th>171</th>\n",
       "      <td>66.04</td>\n",
       "      <td>66.302553</td>\n",
       "    </tr>\n",
       "    <tr>\n",
       "      <th>149</th>\n",
       "      <td>58.54</td>\n",
       "      <td>56.931099</td>\n",
       "    </tr>\n",
       "  </tbody>\n",
       "</table>\n",
       "</div>"
      ],
      "text/plain": [
       "     Actual  Predicted\n",
       "16    62.54  61.756270\n",
       "177   70.81  67.877077\n",
       "179   72.14  63.433803\n",
       "44    69.70  66.365578\n",
       "169   65.48  58.436366\n",
       "102   61.31  63.521431\n",
       "172   52.64  61.120157\n",
       "77    57.65  63.158413\n",
       "185   71.43  67.420943\n",
       "12    65.04  58.351578\n",
       "139   54.43  63.232570\n",
       "145   63.23  66.129565\n",
       "103   65.83  65.257600\n",
       "55    52.71  61.353608\n",
       "143   60.39  64.337743\n",
       "157   55.03  61.279967\n",
       "46    71.63  63.421939\n",
       "61    62.48  65.589766\n",
       "166   52.38  60.485192\n",
       "48    62.46  61.658563\n",
       "199   55.80  61.368877\n",
       "211   53.62  61.281117\n",
       "58    57.99  63.198519\n",
       "64    58.78  66.010536\n",
       "75    67.00  62.325711\n",
       "175   60.69  61.271047\n",
       "3     59.43  57.641080\n",
       "129   68.55  66.007173\n",
       "142   61.29  65.245726\n",
       "51    62.65  58.844942\n",
       "153   62.48  59.019874\n",
       "76    64.27  63.471633\n",
       "78    59.42  66.951878\n",
       "94    54.97  60.441895\n",
       "88    64.36  62.724410\n",
       "89    62.36  65.989641\n",
       "28    64.15  64.927926\n",
       "136   61.58  58.610710\n",
       "174   66.23  61.525971\n",
       "67    60.99  65.639876\n",
       "213   60.23  62.295105\n",
       "171   66.04  66.302553\n",
       "149   58.54  56.931099"
      ]
     },
     "execution_count": 89,
     "metadata": {},
     "output_type": "execute_result"
    }
   ],
   "source": [
    "datapredict"
   ]
  },
  {
   "cell_type": "code",
   "execution_count": 91,
   "metadata": {},
   "outputs": [
    {
     "data": {
      "text/html": [
       "<div>\n",
       "<style scoped>\n",
       "    .dataframe tbody tr th:only-of-type {\n",
       "        vertical-align: middle;\n",
       "    }\n",
       "\n",
       "    .dataframe tbody tr th {\n",
       "        vertical-align: top;\n",
       "    }\n",
       "\n",
       "    .dataframe thead th {\n",
       "        text-align: right;\n",
       "    }\n",
       "</style>\n",
       "<table border=\"1\" class=\"dataframe\">\n",
       "  <thead>\n",
       "    <tr style=\"text-align: right;\">\n",
       "      <th></th>\n",
       "      <th>Actual</th>\n",
       "      <th>Predicted</th>\n",
       "    </tr>\n",
       "  </thead>\n",
       "  <tbody>\n",
       "    <tr>\n",
       "      <th>16</th>\n",
       "      <td>62.54</td>\n",
       "      <td>61.756270</td>\n",
       "    </tr>\n",
       "    <tr>\n",
       "      <th>177</th>\n",
       "      <td>70.81</td>\n",
       "      <td>67.877077</td>\n",
       "    </tr>\n",
       "    <tr>\n",
       "      <th>179</th>\n",
       "      <td>72.14</td>\n",
       "      <td>63.433803</td>\n",
       "    </tr>\n",
       "    <tr>\n",
       "      <th>44</th>\n",
       "      <td>69.70</td>\n",
       "      <td>66.365578</td>\n",
       "    </tr>\n",
       "    <tr>\n",
       "      <th>169</th>\n",
       "      <td>65.48</td>\n",
       "      <td>58.436366</td>\n",
       "    </tr>\n",
       "    <tr>\n",
       "      <th>102</th>\n",
       "      <td>61.31</td>\n",
       "      <td>63.521431</td>\n",
       "    </tr>\n",
       "    <tr>\n",
       "      <th>172</th>\n",
       "      <td>52.64</td>\n",
       "      <td>61.120157</td>\n",
       "    </tr>\n",
       "    <tr>\n",
       "      <th>77</th>\n",
       "      <td>57.65</td>\n",
       "      <td>63.158413</td>\n",
       "    </tr>\n",
       "    <tr>\n",
       "      <th>185</th>\n",
       "      <td>71.43</td>\n",
       "      <td>67.420943</td>\n",
       "    </tr>\n",
       "    <tr>\n",
       "      <th>12</th>\n",
       "      <td>65.04</td>\n",
       "      <td>58.351578</td>\n",
       "    </tr>\n",
       "  </tbody>\n",
       "</table>\n",
       "</div>"
      ],
      "text/plain": [
       "     Actual  Predicted\n",
       "16    62.54  61.756270\n",
       "177   70.81  67.877077\n",
       "179   72.14  63.433803\n",
       "44    69.70  66.365578\n",
       "169   65.48  58.436366\n",
       "102   61.31  63.521431\n",
       "172   52.64  61.120157\n",
       "77    57.65  63.158413\n",
       "185   71.43  67.420943\n",
       "12    65.04  58.351578"
      ]
     },
     "execution_count": 91,
     "metadata": {},
     "output_type": "execute_result"
    }
   ],
   "source": [
    "#As we have so many values, we will be showing Actual VS Predicted of 1st 10\n",
    "datapredict1=datapredict.head(10)\n",
    "datapredict1"
   ]
  },
  {
   "cell_type": "code",
   "execution_count": 97,
   "metadata": {},
   "outputs": [
    {
     "data": {
      "text/plain": [
       "<matplotlib.axes._subplots.AxesSubplot at 0x1af761e46c8>"
      ]
     },
     "execution_count": 97,
     "metadata": {},
     "output_type": "execute_result"
    },
    {
     "data": {
      "image/png": "[encoded data removed]",
      "text/plain": [
       "<Figure size 1080x504 with 1 Axes>"
      ]
     },
     "metadata": {},
     "output_type": "display_data"
    }
   ],
   "source": [
    "datapredict1.plot(kind='barh', figsize=(15,7))"
   ]
  },
  {
   "cell_type": "code",
   "execution_count": null,
   "metadata": {},
   "outputs": [],
   "source": []
  }
 ],
 "metadata": {
  "kernelspec": {
   "display_name": "Python 3",
   "language": "python",
   "name": "python3"
  },
  "language_info": {
   "codemirror_mode": {
    "name": "ipython",
    "version": 3
   },
   "file_extension": ".py",
   "mimetype": "text/x-python",
   "name": "python",
   "nbconvert_exporter": "python",
   "pygments_lexer": "ipython3",
   "version": "3.7.6"
  }
 },
 "nbformat": 4,
 "nbformat_minor": 4
}
