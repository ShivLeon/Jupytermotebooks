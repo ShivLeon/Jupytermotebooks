{
 "cells": [
  {
   "cell_type": "code",
   "execution_count": 1,
   "metadata": {},
   "outputs": [],
   "source": [
    "import pandas as pd\n",
    "import numpy as np\n",
    "import seaborn as sns\n",
    "import matplotlib.pyplot as plt\n",
    "from sklearn.linear_model import LinearRegression\n",
    "import statsmodels.formula.api as sm\n",
    "from scipy import stats\n",
    "import matplotlib as mpl"
   ]
  },
  {
   "cell_type": "code",
   "execution_count": 2,
   "metadata": {},
   "outputs": [],
   "source": [
    "datalrm=pd.read_excel(\"C:/Users/SHIVLEON/Downloads/lrm.xlsx\")"
   ]
  },
  {
   "cell_type": "code",
   "execution_count": 3,
   "metadata": {},
   "outputs": [
    {
     "data": {
      "text/html": [
       "<div>\n",
       "<style scoped>\n",
       "    .dataframe tbody tr th:only-of-type {\n",
       "        vertical-align: middle;\n",
       "    }\n",
       "\n",
       "    .dataframe tbody tr th {\n",
       "        vertical-align: top;\n",
       "    }\n",
       "\n",
       "    .dataframe thead th {\n",
       "        text-align: right;\n",
       "    }\n",
       "</style>\n",
       "<table border=\"1\" class=\"dataframe\">\n",
       "  <thead>\n",
       "    <tr style=\"text-align: right;\">\n",
       "      <th></th>\n",
       "      <th>Restaurant</th>\n",
       "      <th>Student_Population</th>\n",
       "      <th>Sales</th>\n",
       "    </tr>\n",
       "  </thead>\n",
       "  <tbody>\n",
       "    <tr>\n",
       "      <th>0</th>\n",
       "      <td>1</td>\n",
       "      <td>2</td>\n",
       "      <td>58</td>\n",
       "    </tr>\n",
       "    <tr>\n",
       "      <th>1</th>\n",
       "      <td>2</td>\n",
       "      <td>6</td>\n",
       "      <td>105</td>\n",
       "    </tr>\n",
       "    <tr>\n",
       "      <th>2</th>\n",
       "      <td>3</td>\n",
       "      <td>8</td>\n",
       "      <td>88</td>\n",
       "    </tr>\n",
       "    <tr>\n",
       "      <th>3</th>\n",
       "      <td>4</td>\n",
       "      <td>8</td>\n",
       "      <td>118</td>\n",
       "    </tr>\n",
       "    <tr>\n",
       "      <th>4</th>\n",
       "      <td>5</td>\n",
       "      <td>12</td>\n",
       "      <td>117</td>\n",
       "    </tr>\n",
       "    <tr>\n",
       "      <th>5</th>\n",
       "      <td>6</td>\n",
       "      <td>16</td>\n",
       "      <td>137</td>\n",
       "    </tr>\n",
       "    <tr>\n",
       "      <th>6</th>\n",
       "      <td>7</td>\n",
       "      <td>20</td>\n",
       "      <td>157</td>\n",
       "    </tr>\n",
       "    <tr>\n",
       "      <th>7</th>\n",
       "      <td>8</td>\n",
       "      <td>20</td>\n",
       "      <td>169</td>\n",
       "    </tr>\n",
       "    <tr>\n",
       "      <th>8</th>\n",
       "      <td>9</td>\n",
       "      <td>22</td>\n",
       "      <td>149</td>\n",
       "    </tr>\n",
       "    <tr>\n",
       "      <th>9</th>\n",
       "      <td>10</td>\n",
       "      <td>26</td>\n",
       "      <td>202</td>\n",
       "    </tr>\n",
       "  </tbody>\n",
       "</table>\n",
       "</div>"
      ],
      "text/plain": [
       "   Restaurant  Student_Population  Sales\n",
       "0           1                   2     58\n",
       "1           2                   6    105\n",
       "2           3                   8     88\n",
       "3           4                   8    118\n",
       "4           5                  12    117\n",
       "5           6                  16    137\n",
       "6           7                  20    157\n",
       "7           8                  20    169\n",
       "8           9                  22    149\n",
       "9          10                  26    202"
      ]
     },
     "execution_count": 3,
     "metadata": {},
     "output_type": "execute_result"
    }
   ],
   "source": [
    "datalrm"
   ]
  },
  {
   "cell_type": "code",
   "execution_count": 4,
   "metadata": {},
   "outputs": [
    {
     "data": {
      "image/png": "[encoded data removed]",
      "text/plain": [
       "<Figure size 432x288 with 1 Axes>"
      ]
     },
     "metadata": {
      "needs_background": "light"
     },
     "output_type": "display_data"
    }
   ],
   "source": [
    "datalrm.plot(\"Student_Population\",\"Sales\",style=\"*\")\n",
    "plt.ylabel(\"Icecream Sales\")\n",
    "plt.title(\"Sales\")\n",
    "plt.show()"
   ]
  },
  {
   "cell_type": "code",
   "execution_count": 5,
   "metadata": {},
   "outputs": [
    {
     "name": "stderr",
     "output_type": "stream",
     "text": [
      "C:\\Users\\SHIVLEON\\Anaconda3\\lib\\site-packages\\numpy\\core\\fromnumeric.py:2542: FutureWarning: Method .ptp is deprecated and will be removed in a future version. Use numpy.ptp instead.\n",
      "  return ptp(axis=axis, out=out, **kwargs)\n",
      "C:\\Users\\SHIVLEON\\Anaconda3\\lib\\site-packages\\scipy\\stats\\stats.py:1450: UserWarning: kurtosistest only valid for n>=20 ... continuing anyway, n=10\n",
      "  \"anyway, n=%i\" % int(n))\n"
     ]
    },
    {
     "data": {
      "text/html": [
       "<table class=\"simpletable\">\n",
       "<caption>OLS Regression Results</caption>\n",
       "<tr>\n",
       "  <th>Dep. Variable:</th>          <td>Sales</td>      <th>  R-squared:         </th> <td>   0.903</td>\n",
       "</tr>\n",
       "<tr>\n",
       "  <th>Model:</th>                   <td>OLS</td>       <th>  Adj. R-squared:    </th> <td>   0.891</td>\n",
       "</tr>\n",
       "<tr>\n",
       "  <th>Method:</th>             <td>Least Squares</td>  <th>  F-statistic:       </th> <td>   74.25</td>\n",
       "</tr>\n",
       "<tr>\n",
       "  <th>Date:</th>             <td>Wed, 18 Mar 2020</td> <th>  Prob (F-statistic):</th> <td>2.55e-05</td>\n",
       "</tr>\n",
       "<tr>\n",
       "  <th>Time:</th>                 <td>10:14:50</td>     <th>  Log-Likelihood:    </th> <td> -39.342</td>\n",
       "</tr>\n",
       "<tr>\n",
       "  <th>No. Observations:</th>      <td>    10</td>      <th>  AIC:               </th> <td>   82.68</td>\n",
       "</tr>\n",
       "<tr>\n",
       "  <th>Df Residuals:</th>          <td>     8</td>      <th>  BIC:               </th> <td>   83.29</td>\n",
       "</tr>\n",
       "<tr>\n",
       "  <th>Df Model:</th>              <td>     1</td>      <th>                     </th>     <td> </td>   \n",
       "</tr>\n",
       "<tr>\n",
       "  <th>Covariance Type:</th>      <td>nonrobust</td>    <th>                     </th>     <td> </td>   \n",
       "</tr>\n",
       "</table>\n",
       "<table class=\"simpletable\">\n",
       "<tr>\n",
       "           <td></td>             <th>coef</th>     <th>std err</th>      <th>t</th>      <th>P>|t|</th>  <th>[0.025</th>    <th>0.975]</th>  \n",
       "</tr>\n",
       "<tr>\n",
       "  <th>const</th>              <td>   60.0000</td> <td>    9.226</td> <td>    6.503</td> <td> 0.000</td> <td>   38.725</td> <td>   81.275</td>\n",
       "</tr>\n",
       "<tr>\n",
       "  <th>Student_Population</th> <td>    5.0000</td> <td>    0.580</td> <td>    8.617</td> <td> 0.000</td> <td>    3.662</td> <td>    6.338</td>\n",
       "</tr>\n",
       "</table>\n",
       "<table class=\"simpletable\">\n",
       "<tr>\n",
       "  <th>Omnibus:</th>       <td> 0.928</td> <th>  Durbin-Watson:     </th> <td>   3.224</td>\n",
       "</tr>\n",
       "<tr>\n",
       "  <th>Prob(Omnibus):</th> <td> 0.629</td> <th>  Jarque-Bera (JB):  </th> <td>   0.616</td>\n",
       "</tr>\n",
       "<tr>\n",
       "  <th>Skew:</th>          <td>-0.060</td> <th>  Prob(JB):          </th> <td>   0.735</td>\n",
       "</tr>\n",
       "<tr>\n",
       "  <th>Kurtosis:</th>      <td> 1.790</td> <th>  Cond. No.          </th> <td>    33.6</td>\n",
       "</tr>\n",
       "</table><br/><br/>Warnings:<br/>[1] Standard Errors assume that the covariance matrix of the errors is correctly specified."
      ],
      "text/plain": [
       "<class 'statsmodels.iolib.summary.Summary'>\n",
       "\"\"\"\n",
       "                            OLS Regression Results                            \n",
       "==============================================================================\n",
       "Dep. Variable:                  Sales   R-squared:                       0.903\n",
       "Model:                            OLS   Adj. R-squared:                  0.891\n",
       "Method:                 Least Squares   F-statistic:                     74.25\n",
       "Date:                Wed, 18 Mar 2020   Prob (F-statistic):           2.55e-05\n",
       "Time:                        10:14:50   Log-Likelihood:                -39.342\n",
       "No. Observations:                  10   AIC:                             82.68\n",
       "Df Residuals:                       8   BIC:                             83.29\n",
       "Df Model:                           1                                         \n",
       "Covariance Type:            nonrobust                                         \n",
       "======================================================================================\n",
       "                         coef    std err          t      P>|t|      [0.025      0.975]\n",
       "--------------------------------------------------------------------------------------\n",
       "const                 60.0000      9.226      6.503      0.000      38.725      81.275\n",
       "Student_Population     5.0000      0.580      8.617      0.000       3.662       6.338\n",
       "==============================================================================\n",
       "Omnibus:                        0.928   Durbin-Watson:                   3.224\n",
       "Prob(Omnibus):                  0.629   Jarque-Bera (JB):                0.616\n",
       "Skew:                          -0.060   Prob(JB):                        0.735\n",
       "Kurtosis:                       1.790   Cond. No.                         33.6\n",
       "==============================================================================\n",
       "\n",
       "Warnings:\n",
       "[1] Standard Errors assume that the covariance matrix of the errors is correctly specified.\n",
       "\"\"\""
      ]
     },
     "execution_count": 5,
     "metadata": {},
     "output_type": "execute_result"
    }
   ],
   "source": [
    "#Code for regression equation\n",
    "import statsmodels.api as s\n",
    "St_pop=datalrm[\"Student_Population\"]\n",
    "sales=datalrm[\"Sales\"]\n",
    "St_pop=s.add_constant(St_pop) #Adds a column of ones to an array\n",
    "\n",
    "\"\"\"The s.OLS method takes two array-like objects a and b as input. \n",
    "a is generally a Pandas dataframe or a NumPy array. The shape of a is o*c, \n",
    "where o is the number of observations and c is the number of columns. \n",
    "b is generally a Pandas series of length o or a one dimensional NumPy array.\"\"\"\n",
    "\n",
    "model=s.OLS(sales,St_pop)\n",
    "\"\"\"Model fitting is creating that simplified representation in a way that can generally be used successfully given new data\"\"\"\n",
    "\n",
    "result=model.fit()\n",
    "result.summary() #prints a summary representation of your model"
   ]
  },
  {
   "cell_type": "code",
   "execution_count": 6,
   "metadata": {},
   "outputs": [],
   "source": [
    "#Quantities of interest can be extracted \n",
    "#directly from the fitted model. \n",
    "#Type dir(results) for a full list."
   ]
  },
  {
   "cell_type": "code",
   "execution_count": 7,
   "metadata": {},
   "outputs": [
    {
     "data": {
      "text/plain": [
       "['HC0_se',\n",
       " 'HC1_se',\n",
       " 'HC2_se',\n",
       " 'HC3_se',\n",
       " '_HCCM',\n",
       " '__class__',\n",
       " '__delattr__',\n",
       " '__dict__',\n",
       " '__dir__',\n",
       " '__doc__',\n",
       " '__eq__',\n",
       " '__format__',\n",
       " '__ge__',\n",
       " '__getattribute__',\n",
       " '__gt__',\n",
       " '__hash__',\n",
       " '__init__',\n",
       " '__init_subclass__',\n",
       " '__le__',\n",
       " '__lt__',\n",
       " '__module__',\n",
       " '__ne__',\n",
       " '__new__',\n",
       " '__reduce__',\n",
       " '__reduce_ex__',\n",
       " '__repr__',\n",
       " '__setattr__',\n",
       " '__sizeof__',\n",
       " '__str__',\n",
       " '__subclasshook__',\n",
       " '__weakref__',\n",
       " '_cache',\n",
       " '_data_attr',\n",
       " '_get_robustcov_results',\n",
       " '_is_nested',\n",
       " '_wexog_singular_values',\n",
       " 'aic',\n",
       " 'bic',\n",
       " 'bse',\n",
       " 'centered_tss',\n",
       " 'compare_f_test',\n",
       " 'compare_lm_test',\n",
       " 'compare_lr_test',\n",
       " 'condition_number',\n",
       " 'conf_int',\n",
       " 'conf_int_el',\n",
       " 'cov_HC0',\n",
       " 'cov_HC1',\n",
       " 'cov_HC2',\n",
       " 'cov_HC3',\n",
       " 'cov_kwds',\n",
       " 'cov_params',\n",
       " 'cov_type',\n",
       " 'df_model',\n",
       " 'df_resid',\n",
       " 'diagn',\n",
       " 'eigenvals',\n",
       " 'el_test',\n",
       " 'ess',\n",
       " 'f_pvalue',\n",
       " 'f_test',\n",
       " 'fittedvalues',\n",
       " 'fvalue',\n",
       " 'get_influence',\n",
       " 'get_prediction',\n",
       " 'get_robustcov_results',\n",
       " 'initialize',\n",
       " 'k_constant',\n",
       " 'llf',\n",
       " 'load',\n",
       " 'model',\n",
       " 'mse_model',\n",
       " 'mse_resid',\n",
       " 'mse_total',\n",
       " 'nobs',\n",
       " 'normalized_cov_params',\n",
       " 'outlier_test',\n",
       " 'params',\n",
       " 'predict',\n",
       " 'pvalues',\n",
       " 'remove_data',\n",
       " 'resid',\n",
       " 'resid_pearson',\n",
       " 'rsquared',\n",
       " 'rsquared_adj',\n",
       " 'save',\n",
       " 'scale',\n",
       " 'ssr',\n",
       " 'summary',\n",
       " 'summary2',\n",
       " 't_test',\n",
       " 't_test_pairwise',\n",
       " 'tvalues',\n",
       " 'uncentered_tss',\n",
       " 'use_t',\n",
       " 'wald_test',\n",
       " 'wald_test_terms',\n",
       " 'wresid']"
      ]
     },
     "execution_count": 7,
     "metadata": {},
     "output_type": "execute_result"
    }
   ],
   "source": [
    "dir(result)"
   ]
  },
  {
   "cell_type": "code",
   "execution_count": 8,
   "metadata": {},
   "outputs": [
    {
     "name": "stdout",
     "output_type": "stream",
     "text": [
      "Parameters:  const                 60.0\n",
      "Student_Population     5.0\n",
      "dtype: float64 R2:  0.9027336300063573\n"
     ]
    }
   ],
   "source": [
    "print(\"Parameters: \", result.params,\"R2: \", result.rsquared)"
   ]
  },
  {
   "cell_type": "code",
   "execution_count": 9,
   "metadata": {},
   "outputs": [],
   "source": [
    "# From Summary we get: for y=mx+c, c=60 and x=5"
   ]
  },
  {
   "cell_type": "code",
   "execution_count": 10,
   "metadata": {},
   "outputs": [],
   "source": [
    "#We can do this a different way too\n",
    "x=datalrm[\"Student_Population\"].values.reshape(-1,1)\n",
    "y=datalrm[\"Sales\"].values.reshape(-1,1)"
   ]
  },
  {
   "cell_type": "code",
   "execution_count": 11,
   "metadata": {},
   "outputs": [
    {
     "data": {
      "text/plain": [
       "'fit training data. For supervised learning applications, \\nthis accepts two arguments: the data X and the labels y (e.g. model.fit(X, y)). \\nFor unsupervised learning applications, this accepts only a single argument, the data X (e.g. model.fit(X)).'"
      ]
     },
     "execution_count": 11,
     "metadata": {},
     "output_type": "execute_result"
    }
   ],
   "source": [
    "reg=LinearRegression()\n",
    "reg.fit(x,y)\n",
    "\"\"\"fit training data. For supervised learning applications, \n",
    "this accepts two arguments: the data X and the labels y (e.g. model.fit(X, y)). \n",
    "For unsupervised learning applications, this accepts only a single argument, the data X (e.g. model.fit(X)).\"\"\""
   ]
  },
  {
   "cell_type": "code",
   "execution_count": 12,
   "metadata": {},
   "outputs": [
    {
     "data": {
      "text/plain": [
       "(60.0, 5.0)"
      ]
     },
     "execution_count": 12,
     "metadata": {},
     "output_type": "execute_result"
    }
   ],
   "source": [
    "reg.intercept_[0], reg.coef_[0][0]"
   ]
  },
  {
   "cell_type": "code",
   "execution_count": 13,
   "metadata": {},
   "outputs": [
    {
     "data": {
      "text/plain": [
       "<matplotlib.collections.PathCollection at 0x2995a21cd68>"
      ]
     },
     "execution_count": 13,
     "metadata": {},
     "output_type": "execute_result"
    },
    {
     "data": {
      "image/png": "[encoded data removed]",
      "text/plain": [
       "<Figure size 432x288 with 1 Axes>"
      ]
     },
     "metadata": {
      "needs_background": "light"
     },
     "output_type": "display_data"
    }
   ],
   "source": [
    "x=datalrm[\"Student_Population\"]\n",
    "y=datalrm[\"Sales\"]\n",
    "plt.figure()\n",
    "sns.regplot(x,y)\n",
    "plt.scatter(np.mean(x),np.mean(y),color=\"red\")"
   ]
  },
  {
   "cell_type": "code",
   "execution_count": 14,
   "metadata": {},
   "outputs": [],
   "source": [
    "#For prediction interval\n",
    "from statsmodels.stats.outliers_influence import summary_table\n",
    "st,data,ss2=summary_table(result,alpha=0.05) #ss2=columns name, st= tabel\n",
    "fittedvalues=data[:2]\n",
    "predict_mean_se=data[:3]\n",
    "predict_mean_ci_low,predict_mean_ci_upp=data[:,4:6].T\n",
    "predict_ci_low,predict_ci_upp=data[:,6:8].T"
   ]
  },
  {
   "cell_type": "code",
   "execution_count": 15,
   "metadata": {},
   "outputs": [
    {
     "data": {
      "text/plain": [
       "array([[  1.        ,  58.        ,  70.        ,   8.22258569,\n",
       "         51.03868339,  88.96131661,  32.89834155, 107.10165845,\n",
       "        -12.        ,  11.11931133,  -1.07920353,   0.31844743],\n",
       "       [  2.        , 105.        ,  90.        ,   6.3776403 ,\n",
       "         75.2931351 , 104.7068649 ,  54.8817226 , 125.1182774 ,\n",
       "         15.        ,  12.27092923,   1.22240131,   0.20181933]])"
      ]
     },
     "execution_count": 15,
     "metadata": {},
     "output_type": "execute_result"
    }
   ],
   "source": [
    "fittedvalues"
   ]
  },
  {
   "cell_type": "code",
   "execution_count": 16,
   "metadata": {},
   "outputs": [
    {
     "data": {
      "text/plain": [
       "array([[ 1.00000000e+00,  5.80000000e+01,  7.00000000e+01,\n",
       "         8.22258569e+00,  5.10386834e+01,  8.89613166e+01,\n",
       "         3.28983415e+01,  1.07101658e+02, -1.20000000e+01,\n",
       "         1.11193113e+01, -1.07920353e+00,  3.18447433e-01],\n",
       "       [ 2.00000000e+00,  1.05000000e+02,  9.00000000e+01,\n",
       "         6.37764030e+00,  7.52931351e+01,  1.04706865e+02,\n",
       "         5.48817226e+01,  1.25118277e+02,  1.50000000e+01,\n",
       "         1.22709292e+01,  1.22240131e+00,  2.01819329e-01],\n",
       "       [ 3.00000000e+00,  8.80000000e+01,  1.00000000e+02,\n",
       "         5.58985500e+00,  8.71097713e+01,  1.12890229e+02,\n",
       "         6.56029139e+01,  1.34397086e+02, -1.20000000e+01,\n",
       "         1.26492498e+01, -9.48672859e-01,  8.78768540e-02]])"
      ]
     },
     "execution_count": 16,
     "metadata": {},
     "output_type": "execute_result"
    }
   ],
   "source": [
    "predict_mean_se"
   ]
  },
  {
   "cell_type": "code",
   "execution_count": 17,
   "metadata": {},
   "outputs": [
    {
     "data": {
      "text/plain": [
       "array([[ 1.00000000e+00,  5.80000000e+01,  7.00000000e+01,\n",
       "         8.22258569e+00,  5.10386834e+01,  8.89613166e+01,\n",
       "         3.28983415e+01,  1.07101658e+02, -1.20000000e+01,\n",
       "         1.11193113e+01, -1.07920353e+00,  3.18447433e-01],\n",
       "       [ 2.00000000e+00,  1.05000000e+02,  9.00000000e+01,\n",
       "         6.37764030e+00,  7.52931351e+01,  1.04706865e+02,\n",
       "         5.48817226e+01,  1.25118277e+02,  1.50000000e+01,\n",
       "         1.22709292e+01,  1.22240131e+00,  2.01819329e-01],\n",
       "       [ 3.00000000e+00,  8.80000000e+01,  1.00000000e+02,\n",
       "         5.58985500e+00,  8.71097713e+01,  1.12890229e+02,\n",
       "         6.56029139e+01,  1.34397086e+02, -1.20000000e+01,\n",
       "         1.26492498e+01, -9.48672859e-01,  8.78768540e-02],\n",
       "       [ 4.00000000e+00,  1.18000000e+02,  1.00000000e+02,\n",
       "         5.58985500e+00,  8.71097713e+01,  1.12890229e+02,\n",
       "         6.56029139e+01,  1.34397086e+02,  1.80000000e+01,\n",
       "         1.26492498e+01,  1.42300929e+00,  1.97722921e-01],\n",
       "       [ 5.00000000e+00,  1.17000000e+02,  1.20000000e+02,\n",
       "         4.52458075e+00,  1.09566298e+02,  1.30433702e+02,\n",
       "         8.64461080e+01,  1.53553892e+02, -3.00000000e+00,\n",
       "         1.30682122e+01, -2.29564684e-01,  3.15867174e-03],\n",
       "       [ 6.00000000e+00,  1.37000000e+02,  1.40000000e+02,\n",
       "         4.52458075e+00,  1.29566298e+02,  1.50433702e+02,\n",
       "         1.06446108e+02,  1.73553892e+02, -3.00000000e+00,\n",
       "         1.30682122e+01, -2.29564684e-01,  3.15867174e-03],\n",
       "       [ 7.00000000e+00,  1.57000000e+02,  1.60000000e+02,\n",
       "         5.58985500e+00,  1.47109771e+02,  1.72890229e+02,\n",
       "         1.25602914e+02,  1.94397086e+02, -3.00000000e+00,\n",
       "         1.26492498e+01, -2.37168215e-01,  5.49230337e-03],\n",
       "       [ 8.00000000e+00,  1.69000000e+02,  1.60000000e+02,\n",
       "         5.58985500e+00,  1.47109771e+02,  1.72890229e+02,\n",
       "         1.25602914e+02,  1.94397086e+02,  9.00000000e+00,\n",
       "         1.26492498e+01,  7.11504645e-01,  4.94307304e-02],\n",
       "       [ 9.00000000e+00,  1.49000000e+02,  1.70000000e+02,\n",
       "         6.37764030e+00,  1.55293135e+02,  1.84706865e+02,\n",
       "         1.34881723e+02,  2.05118277e+02, -2.10000000e+01,\n",
       "         1.22709292e+01, -1.71136184e+00,  3.95565886e-01],\n",
       "       [ 1.00000000e+01,  2.02000000e+02,  1.90000000e+02,\n",
       "         8.22258569e+00,  1.71038683e+02,  2.08961317e+02,\n",
       "         1.52898342e+02,  2.27101658e+02,  1.20000000e+01,\n",
       "         1.11193113e+01,  1.07920353e+00,  3.18447433e-01]])"
      ]
     },
     "execution_count": 17,
     "metadata": {},
     "output_type": "execute_result"
    }
   ],
   "source": [
    "data"
   ]
  },
  {
   "cell_type": "code",
   "execution_count": 18,
   "metadata": {},
   "outputs": [
    {
     "data": {
      "text/html": [
       "<table class=\"simpletable\">\n",
       "<tr>\n",
       "   <th>Obs</th>   <th>Dep Var</th>       <th>Predicted</th>         <th>Std Error</th>           <th>Mean ci</th>            <th>Mean ci</th>          <th>Predict ci</th>         <th>Predict ci</th>          <th>Residual</th>            <th>Std Error</th>            <th>Student</th>              <th>Cook's</th>        \n",
       "</tr>\n",
       "<tr>\n",
       "    <th></th>   <th>Population</th>        <th>Value</th>         <th>Mean Predict</th>          <th>95% low</th>            <th>95% upp</th>            <th>95% low</th>            <th>95% upp</th>               <th></th>                <th>Residual</th>            <th>Residual</th>                 <th>D</th>          \n",
       "</tr>\n",
       "<tr>\n",
       "   <td>1.0</td>    <td>58.0</td>     <td>69.99999999999994</td> <td>8.222585693865266</td>  <td>51.0386833892804</td>   <td>88.96131661071948</td>  <td>32.89834154784004</td> <td>107.10165845215985</td> <td>-11.999999999999943</td> <td>11.119311332409136</td>  <td>-1.0792035263032782</td>  <td>0.3184474325136633</td>  \n",
       "</tr>\n",
       "<tr>\n",
       "   <td>2.0</td>    <td>105.0</td>    <td>89.99999999999996</td> <td>6.377640298311584</td>  <td>75.29313510033799</td> <td>104.70686489966192</td>  <td>54.88172260110567</td> <td>125.11827739889424</td> <td>15.000000000000043</td>  <td>12.270929232350422</td>  <td>1.2224013125635869</td>   <td>0.20181932943876033</td> \n",
       "</tr>\n",
       "<tr>\n",
       "   <td>3.0</td>    <td>88.0</td>     <td>99.99999999999996</td> <td>5.589854995725687</td>  <td>87.10977126561957</td> <td>112.89022873438034</td>  <td>65.60291394444249</td> <td>134.39708605555742</td> <td>-11.999999999999957</td> <td>12.649249824663935</td>  <td>-0.9486728593660908</td>  <td>0.08787685396914878</td> \n",
       "</tr>\n",
       "<tr>\n",
       "   <td>4.0</td>    <td>118.0</td>    <td>99.99999999999996</td> <td>5.589854995725687</td>  <td>87.10977126561957</td> <td>112.89022873438034</td>  <td>65.60291394444249</td> <td>134.39708605555742</td> <td>18.000000000000043</td>  <td>12.649249824663935</td>  <td>1.4230092890491446</td>   <td>0.1977229214305871</td>  \n",
       "</tr>\n",
       "<tr>\n",
       "   <td>5.0</td>    <td>117.0</td>   <td>119.99999999999997</td> <td>4.524580752502433</td> <td>109.56629807543696</td>  <td>130.433701924563</td>   <td>86.44610800310326</td> <td>153.55389199689668</td> <td>-2.9999999999999716</td> <td>13.068212158290226</td>  <td>-0.2295646844160567</td> <td>0.0031586717422392115</td>\n",
       "</tr>\n",
       "<tr>\n",
       "   <td>6.0</td>    <td>137.0</td>   <td>139.99999999999997</td> <td>4.524580752502434</td> <td>129.56629807543695</td>  <td>150.433701924563</td>  <td>106.44610800310325</td>  <td>173.5538919968967</td> <td>-2.9999999999999716</td> <td>13.068212158290226</td>  <td>-0.2295646844160567</td> <td>0.0031586717422392124</td>\n",
       "</tr>\n",
       "<tr>\n",
       "   <td>7.0</td>    <td>157.0</td>          <td>160.0</td>       <td>5.589854995725688</td> <td>147.10977126561963</td> <td>172.89022873438037</td> <td>125.60291394444255</td> <td>194.39708605555745</td>        <td>-3.0</td>         <td>12.649249824663935</td> <td>-0.23716821484152356</td> <td>0.005492303373071841</td> \n",
       "</tr>\n",
       "<tr>\n",
       "   <td>8.0</td>    <td>169.0</td>          <td>160.0</td>       <td>5.589854995725688</td> <td>147.10977126561963</td> <td>172.89022873438037</td> <td>125.60291394444255</td> <td>194.39708605555745</td>         <td>9.0</td>         <td>12.649249824663935</td>  <td>0.7115046445245706</td>  <td>0.049430730357646564</td> \n",
       "</tr>\n",
       "<tr>\n",
       "   <td>9.0</td>    <td>149.0</td>          <td>170.0</td>       <td>6.377640298311584</td> <td>155.29313510033802</td> <td>184.70686489966198</td>  <td>134.8817226011057</td>  <td>205.1182773988943</td>        <td>-21.0</td>        <td>12.270929232350422</td>  <td>-1.7113618375890167</td>  <td>0.39556588569996803</td> \n",
       "</tr>\n",
       "<tr>\n",
       "  <td>10.0</td>    <td>202.0</td>          <td>190.0</td>       <td>8.222585693865264</td> <td>171.03868338928046</td> <td>208.96131661071954</td>  <td>152.8983415478401</td>  <td>227.1016584521599</td>        <td>12.0</td>         <td>11.119311332409138</td>   <td>1.079203526303283</td>    <td>0.318447432513666</td>  \n",
       "</tr>\n",
       "</table>"
      ],
      "text/plain": [
       "<class 'statsmodels.iolib.table.SimpleTable'>"
      ]
     },
     "execution_count": 18,
     "metadata": {},
     "output_type": "execute_result"
    }
   ],
   "source": [
    "st"
   ]
  },
  {
   "cell_type": "code",
   "execution_count": 19,
   "metadata": {},
   "outputs": [
    {
     "data": {
      "text/plain": [
       "['Obs',\n",
       " 'Dep Var\\nPopulation',\n",
       " 'Predicted\\nValue',\n",
       " 'Std Error\\nMean Predict',\n",
       " 'Mean ci\\n95% low',\n",
       " 'Mean ci\\n95% upp',\n",
       " 'Predict ci\\n95% low',\n",
       " 'Predict ci\\n95% upp',\n",
       " 'Residual',\n",
       " 'Std Error\\nResidual',\n",
       " 'Student\\nResidual',\n",
       " \"Cook's\\nD\"]"
      ]
     },
     "execution_count": 19,
     "metadata": {},
     "output_type": "execute_result"
    }
   ],
   "source": [
    "ss2"
   ]
  },
  {
   "cell_type": "code",
   "execution_count": 20,
   "metadata": {
    "scrolled": true
   },
   "outputs": [
    {
     "name": "stderr",
     "output_type": "stream",
     "text": [
      "C:\\Users\\SHIVLEON\\Anaconda3\\lib\\site-packages\\numpy\\core\\fromnumeric.py:2542: FutureWarning: Method .ptp is deprecated and will be removed in a future version. Use numpy.ptp instead.\n",
      "  return ptp(axis=axis, out=out, **kwargs)\n"
     ]
    },
    {
     "data": {
      "image/png": "[encoded data removed]",
      "text/plain": [
       "<Figure size 576x432 with 1 Axes>"
      ]
     },
     "metadata": {
      "needs_background": "light"
     },
     "output_type": "display_data"
    }
   ],
   "source": [
    "X=s.add_constant(x)\n",
    "fig,ax=plt.subplots(figsize=(8,6))\n",
    "ax.plot(x,y,'o',label=\"data\")\n",
    "ax.plot(X,result.fittedvalues,\"r-\",label=\"OLS\")\n",
    "ax.plot(X,predict_ci_low,\"b--\")\n",
    "ax.plot(X,predict_ci_upp,\"b--\")\n",
    "ax.plot(X,predict_mean_ci_low,\"g--\")\n",
    "ax.plot(X,predict_mean_ci_upp,\"g--\")\n",
    "ax.legend(loc=\"best\")\n",
    "plt.show()"
   ]
  },
  {
   "cell_type": "code",
   "execution_count": null,
   "metadata": {},
   "outputs": [],
   "source": []
  },
  {
   "cell_type": "code",
   "execution_count": null,
   "metadata": {},
   "outputs": [],
   "source": []
  },
  {
   "cell_type": "code",
   "execution_count": null,
   "metadata": {},
   "outputs": [],
   "source": []
  },
  {
   "cell_type": "code",
   "execution_count": null,
   "metadata": {},
   "outputs": [],
   "source": []
  }
 ],
 "metadata": {
  "kernelspec": {
   "display_name": "Python 3",
   "language": "python",
   "name": "python3"
  },
  "language_info": {
   "codemirror_mode": {
    "name": "ipython",
    "version": 3
   },
   "file_extension": ".py",
   "mimetype": "text/x-python",
   "name": "python",
   "nbconvert_exporter": "python",
   "pygments_lexer": "ipython3",
   "version": "3.7.6"
  }
 },
 "nbformat": 4,
 "nbformat_minor": 2
}
