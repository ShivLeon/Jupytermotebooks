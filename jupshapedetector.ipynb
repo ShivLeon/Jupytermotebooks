{
 "cells": [
  {
   "cell_type": "code",
   "execution_count": null,
   "metadata": {},
   "outputs": [],
   "source": [
    "import cv2 \n",
    "\n",
    "class ShapeDetector:\n",
    "    def __init__(self):\n",
    "        pass\n",
    "    def detect(self,c):\n",
    "        #initialize the shape and approx. the contour\n",
    "        shape= \"unidentified\"\n",
    "        peri = cv2.arcLength(c,True)\n",
    "        approx = cv2.approxPolyDP(c,0.04*peri,True)\n",
    "        \n",
    "        if len(approx)== 3:\n",
    "            shape=\"triangle\"\n",
    "            \n",
    "        elif len(approx)==4:\n",
    "            (x,y,w,h)=cv2.boundingRect(approx)\n",
    "            ar = w/float(h)\n",
    "            shape= \"Square\" if ar>=0.95 and ar<=1.05 else \"rectangle\"\n",
    "    \n",
    "        elif len (approx) == 6:\n",
    "            shape=\"Hexagon\"\n",
    "        elif len(approx) == 5:\n",
    "            shape=\"Pentagon\"\n",
    "            \n",
    "        else:\n",
    "            shape=\"Circle\"\n",
    "            \n",
    "        return shape \n",
    "\n"
   ]
  }
 ],
 "metadata": {
  "kernelspec": {
   "display_name": "Python 3",
   "language": "python",
   "name": "python3"
  },
  "language_info": {
   "codemirror_mode": {
    "name": "ipython",
    "version": 3
   },
   "file_extension": ".py",
   "mimetype": "text/x-python",
   "name": "python",
   "nbconvert_exporter": "python",
   "pygments_lexer": "ipython3",
   "version": "3.7.6"
  }
 },
 "nbformat": 4,
 "nbformat_minor": 2
}
