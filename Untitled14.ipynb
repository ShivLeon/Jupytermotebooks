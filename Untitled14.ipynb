{
 "cells": [
  {
   "cell_type": "code",
   "execution_count": 1,
   "metadata": {},
   "outputs": [],
   "source": [
    "import pandas as pd\n",
    "pd.plotting.register_matplotlib_converters()\n",
    "import matplotlib.pyplot as plt\n",
    "%matplotlib inline\n",
    "import seaborn as sns\n",
    "import numpy as np"
   ]
  },
  {
   "cell_type": "code",
   "execution_count": 6,
   "metadata": {},
   "outputs": [
    {
     "data": {
      "text/plain": [
       "'parse_dates=True - This tells the notebook to understand the each row label as a date (as opposed to a number or other text with a different meaning).'"
      ]
     },
     "execution_count": 6,
     "metadata": {},
     "output_type": "execute_result"
    }
   ],
   "source": [
    "datac=pd.read_csv(\"D:/Spyder/Data-Envelopment-Analysis-Excel/Data/Coronavirus/2019_nC0v_20200121_20200126_cleaned.csv\", index_col=\"Date last updated\", parse_dates=True)\n",
    "\"\"\"index_col=\"Date\" - When we load the dataset, we want each entry in the first column to denote a different row. To do this, we set the value of index_col to the name of the first column \"\"\"\n",
    "\"\"\"parse_dates=True - This tells the notebook to understand the each row label as a date (as opposed to a number or other text with a different meaning).\"\"\""
   ]
  },
  {
   "cell_type": "code",
   "execution_count": 7,
   "metadata": {},
   "outputs": [
    {
     "data": {
      "text/html": [
       "<div>\n",
       "<style scoped>\n",
       "    .dataframe tbody tr th:only-of-type {\n",
       "        vertical-align: middle;\n",
       "    }\n",
       "\n",
       "    .dataframe tbody tr th {\n",
       "        vertical-align: top;\n",
       "    }\n",
       "\n",
       "    .dataframe thead th {\n",
       "        text-align: right;\n",
       "    }\n",
       "</style>\n",
       "<table border=\"1\" class=\"dataframe\">\n",
       "  <thead>\n",
       "    <tr style=\"text-align: right;\">\n",
       "      <th></th>\n",
       "      <th>Unnamed: 0</th>\n",
       "      <th>Province/State</th>\n",
       "      <th>Country</th>\n",
       "      <th>Confirmed</th>\n",
       "      <th>Suspected</th>\n",
       "      <th>Recovered</th>\n",
       "      <th>Deaths</th>\n",
       "    </tr>\n",
       "    <tr>\n",
       "      <th>Date last updated</th>\n",
       "      <th></th>\n",
       "      <th></th>\n",
       "      <th></th>\n",
       "      <th></th>\n",
       "      <th></th>\n",
       "      <th></th>\n",
       "      <th></th>\n",
       "    </tr>\n",
       "  </thead>\n",
       "  <tbody>\n",
       "    <tr>\n",
       "      <th>2020-01-21 00:00:00</th>\n",
       "      <td>0</td>\n",
       "      <td>Shanghai</td>\n",
       "      <td>Mainland China</td>\n",
       "      <td>9.0</td>\n",
       "      <td>10.0</td>\n",
       "      <td>0.0</td>\n",
       "      <td>0.0</td>\n",
       "    </tr>\n",
       "    <tr>\n",
       "      <th>2020-01-21 00:00:00</th>\n",
       "      <td>1</td>\n",
       "      <td>Yunnan</td>\n",
       "      <td>Mainland China</td>\n",
       "      <td>1.0</td>\n",
       "      <td>0.0</td>\n",
       "      <td>0.0</td>\n",
       "      <td>0.0</td>\n",
       "    </tr>\n",
       "    <tr>\n",
       "      <th>2020-01-21 00:00:00</th>\n",
       "      <td>2</td>\n",
       "      <td>Beijing</td>\n",
       "      <td>Mainland China</td>\n",
       "      <td>10.0</td>\n",
       "      <td>0.0</td>\n",
       "      <td>0.0</td>\n",
       "      <td>0.0</td>\n",
       "    </tr>\n",
       "    <tr>\n",
       "      <th>2020-01-21 00:00:00</th>\n",
       "      <td>3</td>\n",
       "      <td>Taiwan</td>\n",
       "      <td>Taiwan</td>\n",
       "      <td>1.0</td>\n",
       "      <td>0.0</td>\n",
       "      <td>0.0</td>\n",
       "      <td>0.0</td>\n",
       "    </tr>\n",
       "    <tr>\n",
       "      <th>2020-01-21 00:00:00</th>\n",
       "      <td>4</td>\n",
       "      <td>Jilin</td>\n",
       "      <td>Mainland China</td>\n",
       "      <td>0.0</td>\n",
       "      <td>1.0</td>\n",
       "      <td>0.0</td>\n",
       "      <td>0.0</td>\n",
       "    </tr>\n",
       "    <tr>\n",
       "      <th>...</th>\n",
       "      <td>...</td>\n",
       "      <td>...</td>\n",
       "      <td>...</td>\n",
       "      <td>...</td>\n",
       "      <td>...</td>\n",
       "      <td>...</td>\n",
       "      <td>...</td>\n",
       "    </tr>\n",
       "    <tr>\n",
       "      <th>2020-01-26 11:00:00</th>\n",
       "      <td>363</td>\n",
       "      <td>0</td>\n",
       "      <td>France</td>\n",
       "      <td>3.0</td>\n",
       "      <td>0.0</td>\n",
       "      <td>0.0</td>\n",
       "      <td>0.0</td>\n",
       "    </tr>\n",
       "    <tr>\n",
       "      <th>2020-01-26 11:00:00</th>\n",
       "      <td>364</td>\n",
       "      <td>0</td>\n",
       "      <td>Australia</td>\n",
       "      <td>4.0</td>\n",
       "      <td>0.0</td>\n",
       "      <td>0.0</td>\n",
       "      <td>0.0</td>\n",
       "    </tr>\n",
       "    <tr>\n",
       "      <th>2020-01-26 11:00:00</th>\n",
       "      <td>365</td>\n",
       "      <td>0</td>\n",
       "      <td>Nepal</td>\n",
       "      <td>1.0</td>\n",
       "      <td>0.0</td>\n",
       "      <td>0.0</td>\n",
       "      <td>0.0</td>\n",
       "    </tr>\n",
       "    <tr>\n",
       "      <th>2020-01-26 11:00:00</th>\n",
       "      <td>366</td>\n",
       "      <td>0</td>\n",
       "      <td>Malaysia</td>\n",
       "      <td>4.0</td>\n",
       "      <td>0.0</td>\n",
       "      <td>0.0</td>\n",
       "      <td>0.0</td>\n",
       "    </tr>\n",
       "    <tr>\n",
       "      <th>2020-01-26 11:00:00</th>\n",
       "      <td>367</td>\n",
       "      <td>Ontario</td>\n",
       "      <td>Canada</td>\n",
       "      <td>1.0</td>\n",
       "      <td>0.0</td>\n",
       "      <td>0.0</td>\n",
       "      <td>0.0</td>\n",
       "    </tr>\n",
       "  </tbody>\n",
       "</table>\n",
       "<p>368 rows × 7 columns</p>\n",
       "</div>"
      ],
      "text/plain": [
       "                     Unnamed: 0 Province/State         Country  Confirmed  \\\n",
       "Date last updated                                                           \n",
       "2020-01-21 00:00:00           0       Shanghai  Mainland China        9.0   \n",
       "2020-01-21 00:00:00           1         Yunnan  Mainland China        1.0   \n",
       "2020-01-21 00:00:00           2        Beijing  Mainland China       10.0   \n",
       "2020-01-21 00:00:00           3         Taiwan          Taiwan        1.0   \n",
       "2020-01-21 00:00:00           4          Jilin  Mainland China        0.0   \n",
       "...                         ...            ...             ...        ...   \n",
       "2020-01-26 11:00:00         363              0          France        3.0   \n",
       "2020-01-26 11:00:00         364              0       Australia        4.0   \n",
       "2020-01-26 11:00:00         365              0           Nepal        1.0   \n",
       "2020-01-26 11:00:00         366              0        Malaysia        4.0   \n",
       "2020-01-26 11:00:00         367        Ontario          Canada        1.0   \n",
       "\n",
       "                     Suspected  Recovered  Deaths  \n",
       "Date last updated                                  \n",
       "2020-01-21 00:00:00       10.0        0.0     0.0  \n",
       "2020-01-21 00:00:00        0.0        0.0     0.0  \n",
       "2020-01-21 00:00:00        0.0        0.0     0.0  \n",
       "2020-01-21 00:00:00        0.0        0.0     0.0  \n",
       "2020-01-21 00:00:00        1.0        0.0     0.0  \n",
       "...                        ...        ...     ...  \n",
       "2020-01-26 11:00:00        0.0        0.0     0.0  \n",
       "2020-01-26 11:00:00        0.0        0.0     0.0  \n",
       "2020-01-26 11:00:00        0.0        0.0     0.0  \n",
       "2020-01-26 11:00:00        0.0        0.0     0.0  \n",
       "2020-01-26 11:00:00        0.0        0.0     0.0  \n",
       "\n",
       "[368 rows x 7 columns]"
      ]
     },
     "execution_count": 7,
     "metadata": {},
     "output_type": "execute_result"
    }
   ],
   "source": [
    "datac"
   ]
  },
  {
   "cell_type": "code",
   "execution_count": 16,
   "metadata": {},
   "outputs": [
    {
     "data": {
      "text/plain": [
       "<matplotlib.axes._subplots.AxesSubplot at 0x1f61829ca58>"
      ]
     },
     "execution_count": 16,
     "metadata": {},
     "output_type": "execute_result"
    },
    {
     "data": {
      "image/png": "[encoded data removed]",
      "text/plain": [
       "<Figure size 1152x432 with 1 Axes>"
      ]
     },
     "metadata": {
      "needs_background": "light"
     },
     "output_type": "display_data"
    }
   ],
   "source": [
    "plt.figure(figsize=(16,6))\n",
    "sns.lineplot(data=datac[\"Confirmed\"])\n",
    "sns.lineplot(data=datac[\"Suspected\"])\n",
    "sns.lineplot(data=datac[\"Recovered\"])\n",
    "sns.lineplot(data=datac[\"Deaths\"])"
   ]
  },
  {
   "cell_type": "code",
   "execution_count": null,
   "metadata": {},
   "outputs": [],
   "source": []
  }
 ],
 "metadata": {
  "kernelspec": {
   "display_name": "Python 3",
   "language": "python",
   "name": "python3"
  },
  "language_info": {
   "codemirror_mode": {
    "name": "ipython",
    "version": 3
   },
   "file_extension": ".py",
   "mimetype": "text/x-python",
   "name": "python",
   "nbconvert_exporter": "python",
   "pygments_lexer": "ipython3",
   "version": "3.7.3"
  }
 },
 "nbformat": 4,
 "nbformat_minor": 2
}
