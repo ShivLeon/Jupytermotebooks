{
 "cells": [
  {
   "cell_type": "code",
   "execution_count": 1,
   "metadata": {},
   "outputs": [],
   "source": [
    "#import necessary packages\n",
    "from scipy.spatial import distance as dist\n",
    "from collections import OrderedDict\n",
    "import numpy as np\n",
    "import cv2"
   ]
  },
  {
   "cell_type": "code",
   "execution_count": 4,
   "metadata": {},
   "outputs": [],
   "source": [
    "class ColorLabeler:\n",
    "    def __init__(self):\n",
    "        #initialize the colors dictinoart, containing the color\n",
    "        #name as the key and the RGB tuple as the value\n",
    "        colors= OrderedDict({\"red\": (255,0,0), \"green\": (0,255,0),\"blue\": (0,0,255)})\n",
    "        #allocate memory for the L*a*b* image, then initialoize\n",
    "        #the color names list\n",
    "        self.lab= np.zeros((len(colors),1,3), dtype=\"uint8\")\n",
    "        self.colorNames=[]\n",
    "        \n",
    "        #loop over the colors dictionary\n",
    "        for(i,(name,rgb)) in enumerate(colors.items()):\n",
    "            #update the L*a*b array and the color names list\n",
    "            self.lab[i]=rgb\n",
    "            self.colorNames.append(name)\n",
    "        \n",
    "        #convert the L*a*b* array from the RGB color space to L*a*b\n",
    "        self.lab= cv2.cvtColor(self.lab, cv2.COLOR_RGB2LAB)\n",
    "        \n",
    "        def label(self, image, c):\n",
    "            #construct a mask for the contour, the compute the average L*a*b value for the masked region\n",
    "            mask= np.zeros(image.shape[:2], dtype=\"uint8\")\n",
    "            cv2.drawContours(mask, [c], -1, 255, -1)\n",
    "            mask= cv2.erode(mask, None, iterations=2)\n",
    "            mean= cv2.mean(image, mask=mask)[:3]\n",
    "    \n",
    "            # initialize the minimum distance found thus far\n",
    "            minDist = (np.inf, None)\n",
    "            # loop over the known L8a*b* colorvales\n",
    "            for (i,row) in enumerate(self.lab):\n",
    "                # compute the distance between the current L*a*b* color value and the mean of the image\n",
    "                d=dist.euclidean(row[0], mean)\n",
    "        \n",
    "                # if the distance is smaller than the current distance \n",
    "                #the update the bookkeepung variable\n",
    "                if d<minDist[0]:\n",
    "                    minDist=(d,i)\n",
    "            \n",
    "                #return the name of the color with the smallest distance \n",
    "                return self.colorNames[minDist[1]]\n",
    "\n",
    "        "
   ]
  },
  {
   "cell_type": "code",
   "execution_count": null,
   "metadata": {},
   "outputs": [],
   "source": []
  }
 ],
 "metadata": {
  "kernelspec": {
   "display_name": "Python 3",
   "language": "python",
   "name": "python3"
  },
  "language_info": {
   "codemirror_mode": {
    "name": "ipython",
    "version": 3
   },
   "file_extension": ".py",
   "mimetype": "text/x-python",
   "name": "python",
   "nbconvert_exporter": "python",
   "pygments_lexer": "ipython3",
   "version": "3.7.6"
  }
 },
 "nbformat": 4,
 "nbformat_minor": 2
}
