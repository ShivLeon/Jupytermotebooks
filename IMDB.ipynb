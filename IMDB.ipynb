{
 "cells": [
  {
   "cell_type": "code",
   "execution_count": 1,
   "metadata": {},
   "outputs": [],
   "source": [
    "#importing necessary libraries\n",
    "import pandas as pd\n",
    "import numpy as np\n",
    "import nltk\n",
    "import matplotlib.pyplot as plt\n",
    "import os"
   ]
  },
  {
   "cell_type": "code",
   "execution_count": 2,
   "metadata": {},
   "outputs": [],
   "source": [
    "#importing the training files\n",
    "pos_training_review=[]\n",
    "pos_training_rating=[]\n",
    "for root, dirs, files in os.walk(\"D:/Spyder/Data-Envelopment-Analysis-Excel/Data/IMDB Reviews/aclImdb/train/pos/\"):\n",
    "    for file in files:\n",
    "        if file.endswith(\".txt\"):\n",
    "            with open(os.path.join(root, file), 'r', encoding='utf-8') as f:\n",
    "                text = f.read()\n",
    "                pos_training_review.append(text)\n",
    "                pos_training_rating.append(file)"
   ]
  },
  {
   "cell_type": "code",
   "execution_count": 3,
   "metadata": {},
   "outputs": [],
   "source": [
    "#importing the training files\n",
    "neg_training_review=[]\n",
    "neg_training_rating=[]\n",
    "for root, dirs, files in os.walk(\"D:/Spyder/Data-Envelopment-Analysis-Excel/Data/IMDB Reviews/aclImdb/train/neg/\"):\n",
    "    for file in files:\n",
    "        if file.endswith(\".txt\"):\n",
    "            with open(os.path.join(root, file), 'r', encoding='utf-8') as f:\n",
    "                text = f.read()\n",
    "                neg_training_review.append(text)\n",
    "                neg_training_rating.append(file)"
   ]
  },
  {
   "cell_type": "code",
   "execution_count": 4,
   "metadata": {},
   "outputs": [],
   "source": [
    "# Doing this if I have to make a new pandas dataframe\n",
    "for i in range(len(pos_training_rating)):\n",
    "    pos_training_rating[i] = pos_training_rating[i].replace(\".txt\", \"\")\n",
    "    neg_training_rating[i] = neg_training_rating[i].replace(\".txt\", \"\")"
   ]
  },
  {
   "cell_type": "code",
   "execution_count": 5,
   "metadata": {},
   "outputs": [
    {
     "data": {
      "text/plain": [
       "\"Story of a man who has unnatural feelings for a pig. Starts out with a opening scene that is a terrific example of absurd comedy. A formal orchestra audience is turned into an insane, violent mob by the crazy chantings of it's singers. Unfortunately it stays absurd the WHOLE time with no general narrative eventually making it just too off putting. Even those from the era should be turned off. The cryptic dialogue would make Shakespeare seem easy to a third grader. On a technical level it's better than you might think with some good cinematography by future great Vilmos Zsigmond. Future stars Sally Kirkland and Frederic Forrest can be seen briefly.\""
      ]
     },
     "execution_count": 5,
     "metadata": {},
     "output_type": "execute_result"
    }
   ],
   "source": [
    "neg_training_review[0]"
   ]
  },
  {
   "cell_type": "code",
   "execution_count": 6,
   "metadata": {},
   "outputs": [],
   "source": [
    "# First let's make our review a little bit more easy to use\n",
    "for i in pos_training_review:\n",
    "    i = i.split(\"\\n\")\n",
    "for i in neg_training_review:\n",
    "    i = i.split(\"\\n\")"
   ]
  },
  {
   "cell_type": "code",
   "execution_count": 7,
   "metadata": {},
   "outputs": [],
   "source": [
    "# Creating a rating list that will just contain the rating.\n",
    "# eg: name 0_9 : 0 stands for id and 9 stands for rating of that unique id\n",
    "ratingp=[]\n",
    "iddp=[]\n",
    "for i in pos_training_rating:\n",
    "    p,q=i.split(\"_\")\n",
    "    ratingp.append(q)\n",
    "    iddp.append(p)\n",
    "\n",
    "\n",
    "ratingn = []\n",
    "iddn = []\n",
    "for i in neg_training_rating:\n",
    "    p,q=i.split(\"_\")\n",
    "    ratingn.append(q)\n",
    "    iddn.append(p)"
   ]
  },
  {
   "cell_type": "code",
   "execution_count": 8,
   "metadata": {},
   "outputs": [],
   "source": [
    "# making rating integer so as to make computation easier\n",
    "ratingp = [int(r) for r in ratingp]\n",
    "ratingn = [int(r) for r in ratingn]"
   ]
  },
  {
   "cell_type": "code",
   "execution_count": 9,
   "metadata": {},
   "outputs": [],
   "source": [
    "# making idd integer so as to make computation easier\n",
    "iddp = [int(i) for i in iddp]\n",
    "iddn = [int(i) for i in iddn]"
   ]
  },
  {
   "cell_type": "code",
   "execution_count": 10,
   "metadata": {},
   "outputs": [],
   "source": [
    "pos_training_df=pd.DataFrame({'ID':iddp, 'Rating':ratingp, \"Review\":pos_training_review})\n",
    "neg_training_df=pd.DataFrame({'ID':iddn, 'Rating':ratingn, \"Review\":neg_training_review})"
   ]
  },
  {
   "cell_type": "code",
   "execution_count": 11,
   "metadata": {},
   "outputs": [
    {
     "name": "stdout",
     "output_type": "stream",
     "text": [
      "      ID  Rating                                             Review\n",
      "0      0       9  Bromwell High is a cartoon comedy. It ran at t...\n",
      "1  10000       8  Homelessness (or Houselessness as George Carli...\n",
      "2  10001      10  Brilliant over-acting by Lesley Ann Warren. Be...\n",
      "3  10002       7  This is easily the most underrated film inn th...\n",
      "4  10003       8  This is not the typical Mel Brooks film. It wa...\n",
      "      ID  Rating                                             Review\n",
      "0      0       3  Story of a man who has unnatural feelings for ...\n",
      "1  10000       4  Airport '77 starts as a brand new luxury 747 p...\n",
      "2  10001       4  This film lacked something I couldn't put my f...\n",
      "3  10002       1  Sorry everyone,,, I know this is supposed to b...\n",
      "4  10003       1  When I was little my parents took me along to ...\n"
     ]
    }
   ],
   "source": [
    "print(pos_training_df.head())\n",
    "print(neg_training_df.head())"
   ]
  },
  {
   "cell_type": "code",
   "execution_count": 12,
   "metadata": {},
   "outputs": [
    {
     "name": "stdout",
     "output_type": "stream",
     "text": [
      "(12500, 3) (12500, 3)\n"
     ]
    }
   ],
   "source": [
    "print(pos_training_df.shape, neg_training_df.shape)"
   ]
  },
  {
   "cell_type": "code",
   "execution_count": 13,
   "metadata": {},
   "outputs": [],
   "source": [
    "total_training_df = pd.concat([pos_training_df, neg_training_df], axis = 0)"
   ]
  },
  {
   "cell_type": "code",
   "execution_count": 14,
   "metadata": {},
   "outputs": [
    {
     "data": {
      "text/plain": [
       "(25000, 3)"
      ]
     },
     "execution_count": 14,
     "metadata": {},
     "output_type": "execute_result"
    }
   ],
   "source": [
    "total_training_df.shape"
   ]
  },
  {
   "cell_type": "code",
   "execution_count": 48,
   "metadata": {},
   "outputs": [],
   "source": [
    "import string\n",
    "import re\n",
    "# lets make a punctuation tokenizer and tokenize out review\n",
    "#tokenizerP=nltk.tokenize.WordPunctTokenizer()\n",
    "#tokenizerP=nltk.tokenize.WhitespaceTokenizer()\n",
    "#making stopwords so as to remove stopwords from the review\n",
    "stopwords = nltk.corpus.stopwords.words('english')\n",
    "#Stemming so that more number of words are reduced\n",
    "ps = nltk.PorterStemmer()\n",
    "REPLACE_NO_SPACE = re.compile(\"(\\.)|(\\;)|(\\:)|(\\!)|(\\?)|(\\,)|(\\\")|(\\()|(\\))|(\\[)|(\\])|(\\d+)\")\n",
    "REPLACE_WITH_SPACE = re.compile(\"(<br\\s*/><br\\s*/>)|(\\-)|(\\/)\")\n",
    "NO_SPACE = \"\"\n",
    "SPACE = \" \"\n",
    "#now making the function for text_preprocessing\n",
    "def text_preprocessing(data):\n",
    "    data = data.lower()\n",
    "    #txt = tokenizerP.tokenize(data) #tokenizing using tokenizer\n",
    "    txt = REPLACE_NO_SPACE.sub(\"\", data)\n",
    "    txt = REPLACE_WITH_SPACE.sub(\" \", txt)\n",
    "    txt = txt.split(\" \")\n",
    "    #print(txt)\n",
    "    text_without_punct = [c for c in txt if c not in string.punctuation] #removing the punctuations\n",
    "    #print(\"\\n\", text_without_punct)\n",
    "    txt_without_stopwords = [ word for word in text_without_punct if word not in stopwords] # removing the stop words\n",
    "    #print(txt_without_stopwords)\n",
    "    #stemmed_words = [ps.stem(word) for word in txt_without_stopwords] # stemming the words\n",
    "    #print(stemmed_words)\n",
    "    stemmed_words = \" \".join([ps.stem(word) for word in txt_without_stopwords]) # stemming the words\n",
    "    return stemmed_words"
   ]
  },
  {
   "cell_type": "code",
   "execution_count": 49,
   "metadata": {},
   "outputs": [],
   "source": [
    "total_training_df['Processed_review'] = total_training_df['Review'].apply(lambda x: text_preprocessing(x))"
   ]
  },
  {
   "cell_type": "code",
   "execution_count": 50,
   "metadata": {},
   "outputs": [
    {
     "data": {
      "text/html": [
       "<div>\n",
       "<style scoped>\n",
       "    .dataframe tbody tr th:only-of-type {\n",
       "        vertical-align: middle;\n",
       "    }\n",
       "\n",
       "    .dataframe tbody tr th {\n",
       "        vertical-align: top;\n",
       "    }\n",
       "\n",
       "    .dataframe thead th {\n",
       "        text-align: right;\n",
       "    }\n",
       "</style>\n",
       "<table border=\"1\" class=\"dataframe\">\n",
       "  <thead>\n",
       "    <tr style=\"text-align: right;\">\n",
       "      <th></th>\n",
       "      <th>ID</th>\n",
       "      <th>Rating</th>\n",
       "      <th>Review</th>\n",
       "      <th>Processed_review</th>\n",
       "    </tr>\n",
       "  </thead>\n",
       "  <tbody>\n",
       "    <tr>\n",
       "      <th>0</th>\n",
       "      <td>0</td>\n",
       "      <td>9</td>\n",
       "      <td>Bromwell High is a cartoon comedy. It ran at t...</td>\n",
       "      <td>bromwel high cartoon comedi ran time program s...</td>\n",
       "    </tr>\n",
       "    <tr>\n",
       "      <th>1</th>\n",
       "      <td>10000</td>\n",
       "      <td>8</td>\n",
       "      <td>Homelessness (or Houselessness as George Carli...</td>\n",
       "      <td>homeless houseless georg carlin state issu yea...</td>\n",
       "    </tr>\n",
       "    <tr>\n",
       "      <th>2</th>\n",
       "      <td>10001</td>\n",
       "      <td>10</td>\n",
       "      <td>Brilliant over-acting by Lesley Ann Warren. Be...</td>\n",
       "      <td>brilliant act lesley ann warren best dramat ho...</td>\n",
       "    </tr>\n",
       "    <tr>\n",
       "      <th>3</th>\n",
       "      <td>10002</td>\n",
       "      <td>7</td>\n",
       "      <td>This is easily the most underrated film inn th...</td>\n",
       "      <td>easili underr film inn brook cannon sure flaw ...</td>\n",
       "    </tr>\n",
       "    <tr>\n",
       "      <th>4</th>\n",
       "      <td>10003</td>\n",
       "      <td>8</td>\n",
       "      <td>This is not the typical Mel Brooks film. It wa...</td>\n",
       "      <td>typic mel brook film much less slapstick movi ...</td>\n",
       "    </tr>\n",
       "  </tbody>\n",
       "</table>\n",
       "</div>"
      ],
      "text/plain": [
       "      ID  Rating                                             Review  \\\n",
       "0      0       9  Bromwell High is a cartoon comedy. It ran at t...   \n",
       "1  10000       8  Homelessness (or Houselessness as George Carli...   \n",
       "2  10001      10  Brilliant over-acting by Lesley Ann Warren. Be...   \n",
       "3  10002       7  This is easily the most underrated film inn th...   \n",
       "4  10003       8  This is not the typical Mel Brooks film. It wa...   \n",
       "\n",
       "                                    Processed_review  \n",
       "0  bromwel high cartoon comedi ran time program s...  \n",
       "1  homeless houseless georg carlin state issu yea...  \n",
       "2  brilliant act lesley ann warren best dramat ho...  \n",
       "3  easili underr film inn brook cannon sure flaw ...  \n",
       "4  typic mel brook film much less slapstick movi ...  "
      ]
     },
     "execution_count": 50,
     "metadata": {},
     "output_type": "execute_result"
    }
   ],
   "source": [
    "total_training_df.head()"
   ]
  },
  {
   "cell_type": "markdown",
   "metadata": {},
   "source": [
    "#### Let's make the test case df"
   ]
  },
  {
   "cell_type": "code",
   "execution_count": 52,
   "metadata": {},
   "outputs": [],
   "source": [
    "#importing the testing files\n",
    "pos_testing_review=[]\n",
    "pos_testing_rating=[]\n",
    "for root, dirs, files in os.walk(\"D:/Spyder/Data-Envelopment-Analysis-Excel/Data/IMDB Reviews/aclImdb/test/pos/\"):\n",
    "    for file in files:\n",
    "        if file.endswith(\".txt\"):\n",
    "            with open(os.path.join(root, file), 'r', encoding='utf-8') as f:\n",
    "                text = f.read()\n",
    "                pos_testing_review.append(text)\n",
    "                pos_testing_rating.append(file)"
   ]
  },
  {
   "cell_type": "code",
   "execution_count": 53,
   "metadata": {},
   "outputs": [],
   "source": [
    "#importing the testing files\n",
    "neg_testing_review=[]\n",
    "neg_testing_rating=[]\n",
    "for root, dirs, files in os.walk(\"D:/Spyder/Data-Envelopment-Analysis-Excel/Data/IMDB Reviews/aclImdb/test/neg/\"):\n",
    "    for file in files:\n",
    "        if file.endswith(\".txt\"):\n",
    "            with open(os.path.join(root, file), 'r', encoding='utf-8') as f:\n",
    "                text = f.read()\n",
    "                neg_testing_review.append(text)\n",
    "                neg_testing_rating.append(file)"
   ]
  },
  {
   "cell_type": "code",
   "execution_count": 54,
   "metadata": {},
   "outputs": [],
   "source": [
    "# Doing this if I have to make a new pandas dataframe\n",
    "for i in range(len(pos_training_rating)):\n",
    "    pos_testing_rating[i] = pos_testing_rating[i].replace(\".txt\", \"\")\n",
    "    neg_testing_rating[i] = neg_testing_rating[i].replace(\".txt\", \"\")"
   ]
  },
  {
   "cell_type": "code",
   "execution_count": 55,
   "metadata": {},
   "outputs": [],
   "source": [
    "# First let's make our review a little bit more easy to use\n",
    "for i in pos_testing_review:\n",
    "    i = i.split(\"\\n\")\n",
    "for i in neg_testing_review:\n",
    "    i = i.split(\"\\n\")"
   ]
  },
  {
   "cell_type": "code",
   "execution_count": 56,
   "metadata": {},
   "outputs": [],
   "source": [
    "# Creating a rating list that will just contain the rating.\n",
    "# eg: name 0_9 : 0 stands for id and 9 stands for rating of that unique id\n",
    "ratingp=[]\n",
    "iddp=[]\n",
    "for i in pos_testing_rating:\n",
    "    p,q=i.split(\"_\")\n",
    "    ratingp.append(q)\n",
    "    iddp.append(p)\n",
    "\n",
    "\n",
    "ratingn = []\n",
    "iddn = []\n",
    "for i in neg_testing_rating:\n",
    "    p,q=i.split(\"_\")\n",
    "    ratingn.append(q)\n",
    "    iddn.append(p)"
   ]
  },
  {
   "cell_type": "code",
   "execution_count": 60,
   "metadata": {},
   "outputs": [],
   "source": [
    "# making rating integer so as to make computation easier\n",
    "ratingp = [int(r) for r in ratingp]\n",
    "ratingn = [int(r) for r in ratingn]"
   ]
  },
  {
   "cell_type": "code",
   "execution_count": 61,
   "metadata": {},
   "outputs": [],
   "source": [
    "# making idd integer so as to make computation easier\n",
    "iddp = [int(i) for i in iddp]\n",
    "iddn = [int(i) for i in iddn]"
   ]
  },
  {
   "cell_type": "code",
   "execution_count": 62,
   "metadata": {},
   "outputs": [],
   "source": [
    "pos_testing_df=pd.DataFrame({'ID':iddp, 'Rating':ratingp, \"Review\":pos_testing_review})\n",
    "neg_testing_df=pd.DataFrame({'ID':iddn, 'Rating':ratingn, \"Review\":neg_testing_review})"
   ]
  },
  {
   "cell_type": "code",
   "execution_count": 63,
   "metadata": {},
   "outputs": [
    {
     "data": {
      "text/html": [
       "<div>\n",
       "<style scoped>\n",
       "    .dataframe tbody tr th:only-of-type {\n",
       "        vertical-align: middle;\n",
       "    }\n",
       "\n",
       "    .dataframe tbody tr th {\n",
       "        vertical-align: top;\n",
       "    }\n",
       "\n",
       "    .dataframe thead th {\n",
       "        text-align: right;\n",
       "    }\n",
       "</style>\n",
       "<table border=\"1\" class=\"dataframe\">\n",
       "  <thead>\n",
       "    <tr style=\"text-align: right;\">\n",
       "      <th></th>\n",
       "      <th>ID</th>\n",
       "      <th>Rating</th>\n",
       "      <th>Review</th>\n",
       "    </tr>\n",
       "  </thead>\n",
       "  <tbody>\n",
       "    <tr>\n",
       "      <th>0</th>\n",
       "      <td>0</td>\n",
       "      <td>10</td>\n",
       "      <td>I went and saw this movie last night after bei...</td>\n",
       "    </tr>\n",
       "    <tr>\n",
       "      <th>1</th>\n",
       "      <td>10000</td>\n",
       "      <td>7</td>\n",
       "      <td>Actor turned director Bill Paxton follows up h...</td>\n",
       "    </tr>\n",
       "  </tbody>\n",
       "</table>\n",
       "</div>"
      ],
      "text/plain": [
       "      ID  Rating                                             Review\n",
       "0      0      10  I went and saw this movie last night after bei...\n",
       "1  10000       7  Actor turned director Bill Paxton follows up h..."
      ]
     },
     "execution_count": 63,
     "metadata": {},
     "output_type": "execute_result"
    }
   ],
   "source": [
    "pos_testing_df[:2]"
   ]
  },
  {
   "cell_type": "code",
   "execution_count": 64,
   "metadata": {},
   "outputs": [
    {
     "name": "stdout",
     "output_type": "stream",
     "text": [
      "      ID  Rating                                             Review\n",
      "0      0      10  I went and saw this movie last night after bei...\n",
      "1  10000       7  Actor turned director Bill Paxton follows up h...\n",
      "2  10001       9  As a recreational golfer with some knowledge o...\n",
      "3  10002       8  I saw this film in a sneak preview, and it is ...\n",
      "4  10003       8  Bill Paxton has taken the true story of the 19...\n",
      "      ID  Rating                                             Review\n",
      "0      0       2  Once again Mr. Costner has dragged out a movie...\n",
      "1  10000       4  This is an example of why the majority of acti...\n",
      "2  10001       1  First of all I hate those moronic rappers, who...\n",
      "3  10002       3  Not even the Beatles could write songs everyon...\n",
      "4  10003       3  Brass pictures (movies is not a fitting word f...\n"
     ]
    }
   ],
   "source": [
    "print(pos_testing_df.head())\n",
    "print(neg_testing_df.head())"
   ]
  },
  {
   "cell_type": "code",
   "execution_count": 65,
   "metadata": {},
   "outputs": [
    {
     "name": "stdout",
     "output_type": "stream",
     "text": [
      "(12500, 3) (12500, 3)\n"
     ]
    }
   ],
   "source": [
    "print(pos_testing_df.shape, neg_testing_df.shape)"
   ]
  },
  {
   "cell_type": "code",
   "execution_count": 66,
   "metadata": {},
   "outputs": [],
   "source": [
    "total_testing_df = pd.concat([pos_testing_df, neg_testing_df], axis = 0)"
   ]
  },
  {
   "cell_type": "code",
   "execution_count": 69,
   "metadata": {},
   "outputs": [
    {
     "data": {
      "text/plain": [
       "(25000, 3)"
      ]
     },
     "execution_count": 69,
     "metadata": {},
     "output_type": "execute_result"
    }
   ],
   "source": [
    "total_testing_df.shape"
   ]
  },
  {
   "cell_type": "code",
   "execution_count": 70,
   "metadata": {},
   "outputs": [],
   "source": [
    "total_testing_df['Processed_review'] = total_testing_df['Review'].apply(lambda x: text_preprocessing(x))"
   ]
  },
  {
   "cell_type": "code",
   "execution_count": 71,
   "metadata": {},
   "outputs": [
    {
     "data": {
      "text/html": [
       "<div>\n",
       "<style scoped>\n",
       "    .dataframe tbody tr th:only-of-type {\n",
       "        vertical-align: middle;\n",
       "    }\n",
       "\n",
       "    .dataframe tbody tr th {\n",
       "        vertical-align: top;\n",
       "    }\n",
       "\n",
       "    .dataframe thead th {\n",
       "        text-align: right;\n",
       "    }\n",
       "</style>\n",
       "<table border=\"1\" class=\"dataframe\">\n",
       "  <thead>\n",
       "    <tr style=\"text-align: right;\">\n",
       "      <th></th>\n",
       "      <th>ID</th>\n",
       "      <th>Rating</th>\n",
       "      <th>Review</th>\n",
       "      <th>Processed_review</th>\n",
       "    </tr>\n",
       "  </thead>\n",
       "  <tbody>\n",
       "    <tr>\n",
       "      <th>0</th>\n",
       "      <td>0</td>\n",
       "      <td>10</td>\n",
       "      <td>I went and saw this movie last night after bei...</td>\n",
       "      <td>went saw movi last night coax friend mine i'll...</td>\n",
       "    </tr>\n",
       "    <tr>\n",
       "      <th>1</th>\n",
       "      <td>10000</td>\n",
       "      <td>7</td>\n",
       "      <td>Actor turned director Bill Paxton follows up h...</td>\n",
       "      <td>actor turn director bill paxton follow promis ...</td>\n",
       "    </tr>\n",
       "    <tr>\n",
       "      <th>2</th>\n",
       "      <td>10001</td>\n",
       "      <td>9</td>\n",
       "      <td>As a recreational golfer with some knowledge o...</td>\n",
       "      <td>recreat golfer knowledg sport' histori pleas d...</td>\n",
       "    </tr>\n",
       "    <tr>\n",
       "      <th>3</th>\n",
       "      <td>10002</td>\n",
       "      <td>8</td>\n",
       "      <td>I saw this film in a sneak preview, and it is ...</td>\n",
       "      <td>saw film sneak preview delight cinematographi ...</td>\n",
       "    </tr>\n",
       "    <tr>\n",
       "      <th>4</th>\n",
       "      <td>10003</td>\n",
       "      <td>8</td>\n",
       "      <td>Bill Paxton has taken the true story of the 19...</td>\n",
       "      <td>bill paxton taken true stori us golf open made...</td>\n",
       "    </tr>\n",
       "  </tbody>\n",
       "</table>\n",
       "</div>"
      ],
      "text/plain": [
       "      ID  Rating                                             Review  \\\n",
       "0      0      10  I went and saw this movie last night after bei...   \n",
       "1  10000       7  Actor turned director Bill Paxton follows up h...   \n",
       "2  10001       9  As a recreational golfer with some knowledge o...   \n",
       "3  10002       8  I saw this film in a sneak preview, and it is ...   \n",
       "4  10003       8  Bill Paxton has taken the true story of the 19...   \n",
       "\n",
       "                                    Processed_review  \n",
       "0  went saw movi last night coax friend mine i'll...  \n",
       "1  actor turn director bill paxton follow promis ...  \n",
       "2  recreat golfer knowledg sport' histori pleas d...  \n",
       "3  saw film sneak preview delight cinematographi ...  \n",
       "4  bill paxton taken true stori us golf open made...  "
      ]
     },
     "execution_count": 71,
     "metadata": {},
     "output_type": "execute_result"
    }
   ],
   "source": [
    "total_testing_df.head()"
   ]
  },
  {
   "cell_type": "code",
   "execution_count": 72,
   "metadata": {},
   "outputs": [],
   "source": [
    "target = [1 if i < 12500 else 0 for i in range(25000)]"
   ]
  },
  {
   "cell_type": "code",
   "execution_count": 73,
   "metadata": {},
   "outputs": [],
   "source": [
    "from sklearn.feature_extraction.text import TfidfVectorizer\n",
    "from sklearn.linear_model import LogisticRegression\n",
    "from sklearn.metrics import accuracy_score\n",
    "from sklearn.model_selection import train_test_split"
   ]
  },
  {
   "cell_type": "code",
   "execution_count": 74,
   "metadata": {},
   "outputs": [
    {
     "data": {
      "text/plain": [
       "TfidfVectorizer(analyzer='word', binary=False, decode_error='strict',\n",
       "                dtype=<class 'numpy.float64'>, encoding='utf-8',\n",
       "                input='content', lowercase=True, max_df=1.0, max_features=None,\n",
       "                min_df=1, ngram_range=(1, 1), norm='l2', preprocessor=None,\n",
       "                smooth_idf=True, stop_words=None, strip_accents=None,\n",
       "                sublinear_tf=False, token_pattern='(?u)\\\\b\\\\w\\\\w+\\\\b',\n",
       "                tokenizer=None, use_idf=True, vocabulary=None)"
      ]
     },
     "execution_count": 74,
     "metadata": {},
     "output_type": "execute_result"
    }
   ],
   "source": [
    "tfidf_vectorizer = TfidfVectorizer()\n",
    "tfidf_vectorizer.fit(total_training_df['Processed_review'])"
   ]
  },
  {
   "cell_type": "code",
   "execution_count": 75,
   "metadata": {},
   "outputs": [],
   "source": [
    "X = tfidf_vectorizer.transform(total_training_df[\"Processed_review\"])\n",
    "X_test = tfidf_vectorizer.transform(total_testing_df[\"Processed_review\"])"
   ]
  },
  {
   "cell_type": "code",
   "execution_count": 85,
   "metadata": {},
   "outputs": [
    {
     "data": {
      "text/plain": [
       "<2x66299 sparse matrix of type '<class 'numpy.float64'>'\n",
       "\twith 216 stored elements in Compressed Sparse Row format>"
      ]
     },
     "execution_count": 85,
     "metadata": {},
     "output_type": "execute_result"
    }
   ],
   "source": [
    "X_test[:2]"
   ]
  },
  {
   "cell_type": "code",
   "execution_count": 76,
   "metadata": {},
   "outputs": [],
   "source": [
    "X_train, X_val, y_train, y_val = train_test_split(X, target, train_size = 0.75, random_state = 0)"
   ]
  },
  {
   "cell_type": "code",
   "execution_count": 78,
   "metadata": {},
   "outputs": [
    {
     "name": "stdout",
     "output_type": "stream",
     "text": [
      "Accuracy for C = 0.01: 0.82144\n",
      "Accuracy for C = 0.05: 0.84896\n",
      "Accuracy for C = 0.25: 0.86992\n",
      "Accuracy for C = 0.5: 0.87456\n",
      "Accuracy for C = 0.75: 0.876\n",
      "Accuracy for C = 1: 0.87856\n"
     ]
    }
   ],
   "source": [
    "for c in [0.01, 0.05, 0.25, 0.5, 0.75, 1]:\n",
    "    lr = LogisticRegression(C=c)\n",
    "    lr.fit(X_train, y_train)\n",
    "    print(\"Accuracy for C = %s: %s\" % (c, accuracy_score(y_val, lr.predict(X_val))))"
   ]
  },
  {
   "cell_type": "markdown",
   "metadata": {},
   "source": [
    "Taking C = 1"
   ]
  },
  {
   "cell_type": "code",
   "execution_count": 80,
   "metadata": {},
   "outputs": [
    {
     "name": "stdout",
     "output_type": "stream",
     "text": [
      "Final Accuracy: 0.87928\n"
     ]
    }
   ],
   "source": [
    "final_tfidf = LogisticRegression(C = 1, max_iter=5000)\n",
    "final_tfidf.fit(X, target)\n",
    "print(\"Final Accuracy: %s\" %accuracy_score(target, final_tfidf.predict(X_test)))"
   ]
  },
  {
   "cell_type": "markdown",
   "metadata": {},
   "source": [
    "### Top Positive and Negative Features"
   ]
  },
  {
   "cell_type": "code",
   "execution_count": 82,
   "metadata": {},
   "outputs": [],
   "source": [
    "feature_to_coef = {word: coef for word, coef in zip(tfidf_vectorizer.get_feature_names(), final_tfidf.coef_[0])}"
   ]
  },
  {
   "cell_type": "code",
   "execution_count": 83,
   "metadata": {},
   "outputs": [
    {
     "name": "stdout",
     "output_type": "stream",
     "text": [
      "('great', 6.976308318196622)\n",
      "('excel', 6.480684636617729)\n",
      "('love', 5.016835382685061)\n",
      "('perfect', 4.939570436438629)\n",
      "('enjoy', 4.9248129902351)\n",
      "('best', 4.904562175236046)\n",
      "('favorit', 4.562690190262619)\n",
      "('well', 4.467087325672913)\n",
      "('beauti', 4.113969929723346)\n",
      "('fun', 3.8684044270527664)\n",
      "('amaz', 3.818740737720567)\n",
      "('highli', 3.561551667585508)\n",
      "('definit', 3.5566726347821285)\n",
      "('brilliant', 3.520309826306446)\n",
      "('today', 3.3788379533010344)\n",
      "('superb', 3.323064107297188)\n",
      "('fantast', 3.247352785456349)\n",
      "('still', 3.1014181127021447)\n",
      "('also', 3.0614171637962393)\n",
      "('hilari', 2.852815524115128)\n",
      "('world', 2.702290820085499)\n",
      "('surpris', 2.699972365349775)\n",
      "('touch', 2.627681849341138)\n",
      "('funniest', 2.6159398035371852)\n",
      "('perfectli', 2.606401093005821)\n",
      "('uniqu', 2.5723208308888608)\n",
      "('entertain', 2.570124533140322)\n",
      "('delight', 2.5540036232984433)\n",
      "('bit', 2.547121164370195)\n",
      "('life', 2.485536896598346)\n"
     ]
    }
   ],
   "source": [
    "for best_positive in sorted(feature_to_coef.items(), key = lambda x: x[1], reverse = True)[:30]:\n",
    "    print(best_positive)"
   ]
  },
  {
   "cell_type": "code",
   "execution_count": 84,
   "metadata": {},
   "outputs": [
    {
     "name": "stdout",
     "output_type": "stream",
     "text": [
      "('worst', -9.017289950248149)\n",
      "('wast', -7.498190361663933)\n",
      "('bad', -7.200318764236744)\n",
      "('aw', -6.72761117848791)\n",
      "('bore', -6.256667796153976)\n",
      "('poor', -5.30762598779926)\n",
      "('disappoint', -5.0454350747995935)\n",
      "('noth', -4.7747823289833855)\n",
      "('terribl', -4.773553351803068)\n",
      "('wors', -4.733494083718078)\n",
      "('fail', -4.4647843135606715)\n",
      "('horribl', -4.301595809645523)\n",
      "('dull', -4.228804536803235)\n",
      "('poorli', -4.211825621189097)\n",
      "('unfortun', -4.030327321988882)\n",
      "('save', -3.9866649789023723)\n",
      "('suppos', -3.962694729128138)\n",
      "('stupid', -3.897060217228531)\n",
      "('lack', -3.8670699066990086)\n",
      "('ridicul', -3.825268103312285)\n",
      "('annoy', -3.803132066217169)\n",
      "('script', -3.537493027204287)\n",
      "('minut', -3.5278519875098517)\n",
      "('oh', -3.5141686439457556)\n",
      "('mess', -3.446953736684279)\n",
      "('lame', -3.414016219526052)\n",
      "('instead', -3.3613243403181574)\n",
      "('badli', -3.3016037723298988)\n",
      "('tri', -3.250419446069959)\n",
      "('even', -3.2287848929165586)\n"
     ]
    }
   ],
   "source": [
    "for best_negative in sorted(feature_to_coef.items(), key = lambda x: x[1])[:30]:\n",
    "    print(best_negative)"
   ]
  },
  {
   "cell_type": "code",
   "execution_count": null,
   "metadata": {},
   "outputs": [],
   "source": []
  }
 ],
 "metadata": {
  "kernelspec": {
   "display_name": "Python 3",
   "language": "python",
   "name": "python3"
  },
  "language_info": {
   "codemirror_mode": {
    "name": "ipython",
    "version": 3
   },
   "file_extension": ".py",
   "mimetype": "text/x-python",
   "name": "python",
   "nbconvert_exporter": "python",
   "pygments_lexer": "ipython3",
   "version": "3.7.6"
  }
 },
 "nbformat": 4,
 "nbformat_minor": 4
}
