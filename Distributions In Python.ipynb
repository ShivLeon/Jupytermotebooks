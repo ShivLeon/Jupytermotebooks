{
 "cells": [
  {
   "cell_type": "code",
   "execution_count": 1,
   "metadata": {},
   "outputs": [],
   "source": [
    "import pandas as pd\n",
    "import numpy as np\n",
    "from scipy.stats import binom"
   ]
  },
  {
   "cell_type": "code",
   "execution_count": 2,
   "metadata": {
    "scrolled": true
   },
   "outputs": [
    {
     "name": "stderr",
     "output_type": "stream",
     "text": [
      "'[]' is not recognized as an internal or external command,\n",
      "operable program or batch file.\n"
     ]
    }
   ],
   "source": [
    "![](\"http://www.stat.yale.edu/Courses/1997-98/101/binpdf.gif\")"
   ]
  },
  {
   "cell_type": "code",
   "execution_count": 3,
   "metadata": {},
   "outputs": [
    {
     "data": {
      "text/plain": [
       "0.09077799859322791"
      ]
     },
     "execution_count": 3,
     "metadata": {},
     "output_type": "execute_result"
    }
   ],
   "source": [
    "binom.pmf(k=19,n=25,p=0.65)"
   ]
  },
  {
   "cell_type": "code",
   "execution_count": 4,
   "metadata": {},
   "outputs": [
    {
     "data": {
      "text/plain": [
       "'According to the US Census Bureau, approx. 6% of al workers in Jackson,\\nMississippi are unemployed. In conducting a random telephone survey\\nin Jackson, what is the probability of getting two of fewer unemployed workers in a sample of 20?'"
      ]
     },
     "execution_count": 4,
     "metadata": {},
     "output_type": "execute_result"
    }
   ],
   "source": [
    "\"\"\"According to the US Census Bureau, approx. 6% of al workers in Jackson,\n",
    "Mississippi are unemployed. In conducting a random telephone survey\n",
    "in Jackson, what is the probability of getting two of fewer unemployed workers in a sample of 20?\"\"\""
   ]
  },
  {
   "cell_type": "code",
   "execution_count": 5,
   "metadata": {},
   "outputs": [
    {
     "data": {
      "text/plain": [
       "0.8850275957378545"
      ]
     },
     "execution_count": 5,
     "metadata": {},
     "output_type": "execute_result"
    }
   ],
   "source": [
    "binom.cdf(2,20,0.06) #cdf= cumulative distrinution function"
   ]
  },
  {
   "cell_type": "code",
   "execution_count": 6,
   "metadata": {},
   "outputs": [
    {
     "data": {
      "text/plain": [
       "0.11714155053639011"
      ]
     },
     "execution_count": 6,
     "metadata": {},
     "output_type": "execute_result"
    }
   ],
   "source": [
    "\"Solve the binomial probability for n=20, p=40, x=10\"\n",
    "binom.pmf(k=10,n=20,p=0.4)"
   ]
  },
  {
   "cell_type": "code",
   "execution_count": 7,
   "metadata": {},
   "outputs": [
    {
     "data": {
      "text/plain": [
       "0.18044704431548356"
      ]
     },
     "execution_count": 7,
     "metadata": {},
     "output_type": "execute_result"
    }
   ],
   "source": [
    "#Poisson Distribution\n",
    "from scipy.stats import poisson\n",
    "poisson.pmf(3,2) # x=3, mean=2"
   ]
  },
  {
   "cell_type": "code",
   "execution_count": 8,
   "metadata": {},
   "outputs": [
    {
     "data": {
      "text/plain": [
       "0.11397938346351824"
      ]
     },
     "execution_count": 8,
     "metadata": {},
     "output_type": "execute_result"
    }
   ],
   "source": [
    "\"\"\"Supporse bank customers arrive randomly on weekday afternoons at\n",
    "an average of 3.2 customer every 4 minutes. what is the probability of\n",
    "exactly 5 customers arriving in a 4-minute inverval on a weekday afternoon\"\"\"\n",
    "\n",
    "poisson.pmf(5,3.2) #since we want in 4 minutes only"
   ]
  },
  {
   "cell_type": "code",
   "execution_count": 9,
   "metadata": {},
   "outputs": [
    {
     "data": {
      "text/plain": [
       "0.01682984174895752"
      ]
     },
     "execution_count": 9,
     "metadata": {},
     "output_type": "execute_result"
    }
   ],
   "source": [
    "\"\"\"Supporse bank customers arrive randomly on weekday afternoons at\n",
    "an average of 3.2 customer every 4 minutes. what is the probability of having \n",
    "more than 7customers arriving in a 4-minute inverval on a weekday afternoon\"\"\"\n",
    "\n",
    "prob=poisson.cdf(7,3.2) #calculating till 7\n",
    "prob_more_7=1-prob #subtracting it with 1 to get value hich is greater than 7\n",
    "prob_more_7"
   ]
  },
  {
   "cell_type": "code",
   "execution_count": 10,
   "metadata": {},
   "outputs": [
    {
     "data": {
      "text/plain": [
       "0.052790043854115495"
      ]
     },
     "execution_count": 10,
     "metadata": {},
     "output_type": "execute_result"
    }
   ],
   "source": [
    "\"\"\"A bank has an average random arrival rate of 3.2 customers every 4 minutes.\n",
    "What is the probability of getting exactly 10 customers during an 8-minute interval\"\"\"\n",
    "\n",
    "poisson.pmf(10,6.4)"
   ]
  },
  {
   "cell_type": "code",
   "execution_count": 11,
   "metadata": {},
   "outputs": [
    {
     "data": {
      "text/plain": [
       "array([27, 28, 29, 30, 31, 32, 33, 34, 35, 36, 37, 38, 39])"
      ]
     },
     "execution_count": 11,
     "metadata": {},
     "output_type": "execute_result"
    }
   ],
   "source": [
    "#Uniform Distribution\n",
    "\"\"\"Suppose the amount of time it takes to assemble a plastic module ranges from 27 to 39 secs \n",
    "and that assembly times are uniformly distributed. Describe the distribution. What is the probability that a given assemly \n",
    "will take b/w 40 and 35 seconds?\"\"\"\n",
    "\n",
    "u=np.arange(27,40,1)\n",
    "u"
   ]
  },
  {
   "cell_type": "code",
   "execution_count": 12,
   "metadata": {},
   "outputs": [
    {
     "data": {
      "text/plain": [
       "33.0"
      ]
     },
     "execution_count": 12,
     "metadata": {},
     "output_type": "execute_result"
    }
   ],
   "source": [
    "from scipy.stats import uniform\n",
    "uniform.mean(loc=27, scale=12)"
   ]
  },
  {
   "cell_type": "code",
   "execution_count": 13,
   "metadata": {},
   "outputs": [
    {
     "data": {
      "text/plain": [
       "array([0.25      , 0.33333333, 0.41666667, 0.5       , 0.58333333,\n",
       "       0.66666667])"
      ]
     },
     "execution_count": 13,
     "metadata": {},
     "output_type": "execute_result"
    }
   ],
   "source": [
    "#OR\n",
    "uniform.cdf(np.arange(30,36,1), loc=27, scale=12)"
   ]
  },
  {
   "cell_type": "code",
   "execution_count": 14,
   "metadata": {},
   "outputs": [
    {
     "data": {
      "text/plain": [
       "0.41666667"
      ]
     },
     "execution_count": 14,
     "metadata": {},
     "output_type": "execute_result"
    }
   ],
   "source": [
    "pron=0.66666667-0.25 #its b/w 30 and 35\n",
    "pron"
   ]
  },
  {
   "cell_type": "code",
   "execution_count": 15,
   "metadata": {},
   "outputs": [
    {
     "data": {
      "text/plain": [
       "691.0"
      ]
     },
     "execution_count": 15,
     "metadata": {},
     "output_type": "execute_result"
    }
   ],
   "source": [
    "\"\"\"Acc. to the National Associaton of Insirance Comissioners, the \n",
    "average annual cost for autombike insurance for auto,obile insirane in the US in recent year is $691.\n",
    "Suppose costs are uniformly distributed in the US iwth a range of from $200\n",
    "to $1,182.What is the standard deviation of this uniform distribution?\"\"\"\n",
    "\n",
    "uniform.mean(loc=200,scale=982)\n",
    "#uniform.std(loc=200,scale=982)"
   ]
  },
  {
   "cell_type": "code",
   "execution_count": 16,
   "metadata": {},
   "outputs": [
    {
     "data": {
      "text/plain": [
       "283.4789821721062"
      ]
     },
     "execution_count": 16,
     "metadata": {},
     "output_type": "execute_result"
    }
   ],
   "source": [
    "uniform.std(loc=200,scale=982)"
   ]
  },
  {
   "cell_type": "code",
   "execution_count": 17,
   "metadata": {},
   "outputs": [],
   "source": [
    "#Normal DIstribution\n",
    "from scipy.stats import norm"
   ]
  },
  {
   "cell_type": "code",
   "execution_count": 18,
   "metadata": {},
   "outputs": [],
   "source": [
    "val,m,s=68,65.5,2.5"
   ]
  },
  {
   "cell_type": "code",
   "execution_count": 19,
   "metadata": {},
   "outputs": [
    {
     "name": "stdout",
     "output_type": "stream",
     "text": [
      "0.8413447460685429\n"
     ]
    }
   ],
   "source": [
    "print(norm.cdf(val,m,s))"
   ]
  },
  {
   "cell_type": "code",
   "execution_count": 20,
   "metadata": {},
   "outputs": [
    {
     "data": {
      "text/plain": [
       "0.15865525393145707"
      ]
     },
     "execution_count": 20,
     "metadata": {},
     "output_type": "execute_result"
    }
   ],
   "source": [
    "1-norm.cdf(val,m,s)"
   ]
  },
  {
   "cell_type": "code",
   "execution_count": 21,
   "metadata": {},
   "outputs": [
    {
     "data": {
      "text/plain": [
       "0.6826894921370859"
      ]
     },
     "execution_count": 21,
     "metadata": {},
     "output_type": "execute_result"
    }
   ],
   "source": [
    "#cdf(val1<x<val2)\n",
    "norm.cdf(val,m,s)-norm.cdf(63,m,s) #upper-lower"
   ]
  },
  {
   "cell_type": "code",
   "execution_count": 22,
   "metadata": {},
   "outputs": [
    {
     "data": {
      "text/plain": [
       "0.019699270409376912"
      ]
     },
     "execution_count": 22,
     "metadata": {},
     "output_type": "execute_result"
    }
   ],
   "source": [
    "\"\"\"What is the prob tof obtainng a score greater than 700 on a GMAT test that has a mean\n",
    "of 494 and a standard deviation of 100? Assume\n",
    "GMAT scores are normally distrbuted\"\"\"\n",
    "#P(x>700|m=494 adn s=100)=?\n",
    "1-norm.cdf(700,494,100)"
   ]
  },
  {
   "cell_type": "code",
   "execution_count": 23,
   "metadata": {},
   "outputs": [
    {
     "data": {
      "text/plain": [
       "0.712260281150973"
      ]
     },
     "execution_count": 23,
     "metadata": {},
     "output_type": "execute_result"
    }
   ],
   "source": [
    "#For the same GMAT exam, what is the prob of randomly drawing a score that is 550 or less\n",
    "norm.cdf(550,494,100)"
   ]
  },
  {
   "cell_type": "code",
   "execution_count": 24,
   "metadata": {},
   "outputs": [
    {
     "data": {
      "text/plain": [
       "0.8292378553956377"
      ]
     },
     "execution_count": 24,
     "metadata": {},
     "output_type": "execute_result"
    }
   ],
   "source": [
    "# What it he probability of randomly obtaining a score b/w 300 and 600 on the GMAT exam\n",
    "norm.cdf(600,494,100)-norm.cdf(300,494,100)"
   ]
  },
  {
   "cell_type": "code",
   "execution_count": 25,
   "metadata": {},
   "outputs": [
    {
     "data": {
      "text/plain": [
       "0.2550348541262666"
      ]
     },
     "execution_count": 25,
     "metadata": {},
     "output_type": "execute_result"
    }
   ],
   "source": [
    "#What is the probability of getting a score b/w 350 and 450 on the same GMAT exam?\n",
    "norm.cdf(450,494,100)-norm.cdf(350,494,100)"
   ]
  },
  {
   "cell_type": "code",
   "execution_count": 26,
   "metadata": {},
   "outputs": [
    {
     "data": {
      "text/plain": [
       "1.6448536269514722"
      ]
     },
     "execution_count": 26,
     "metadata": {},
     "output_type": "execute_result"
    }
   ],
   "source": [
    "norm.ppf(0.95)"
   ]
  },
  {
   "cell_type": "code",
   "execution_count": 27,
   "metadata": {},
   "outputs": [
    {
     "data": {
      "text/plain": [
       "-0.45988328292440145"
      ]
     },
     "execution_count": 27,
     "metadata": {},
     "output_type": "execute_result"
    }
   ],
   "source": [
    "norm.ppf(1-.6772)"
   ]
  },
  {
   "cell_type": "code",
   "execution_count": 28,
   "metadata": {},
   "outputs": [
    {
     "data": {
      "text/plain": [
       "0.9754901960784306"
      ]
     },
     "execution_count": 28,
     "metadata": {},
     "output_type": "execute_result"
    }
   ],
   "source": [
    "#HyperGemortric Distribution\n",
    "\"\"\"SUppose 10 major comourer companies operate in the US and that 12  are locared in Cal's Silicon Valle. If\n",
    "three computer companies are selecrted randomly form the entire list, what\n",
    "is the probability that one or more of the selected companies are locared in the Silicon Vally\"\"\"\n",
    "\n",
    "from scipy.stats import hypergeom\n",
    "pval=hypergeom.sf(0,18,3,12) #hypergom.sf(x-1,N,n,A), sf=1-cdf\n",
    "pval"
   ]
  },
  {
   "cell_type": "code",
   "execution_count": 29,
   "metadata": {},
   "outputs": [
    {
     "data": {
      "text/plain": [
       "0.04738562091503275"
      ]
     },
     "execution_count": 29,
     "metadata": {},
     "output_type": "execute_result"
    }
   ],
   "source": [
    "\"\"\"A western city has 18 police officers eligible for promotion.\n",
    "Eleven of the 19 are Hispanic. SUppose only 5 of the polics officers are chosen for promotion.\n",
    "If the officrs chosen for promotion had been selected by chance alone, what is the probability that \n",
    "one or frwer of the five promoted officers would have been Hispanic\"\"\"\n",
    "\n",
    "pval=hypergeom.cdf(1,18,5,11)\n",
    "pval"
   ]
  },
  {
   "cell_type": "code",
   "execution_count": 30,
   "metadata": {},
   "outputs": [
    {
     "data": {
      "text/plain": [
       "0.7246376811594204"
      ]
     },
     "execution_count": 30,
     "metadata": {},
     "output_type": "execute_result"
    }
   ],
   "source": [
    "#Exponential DIstribution Example\n",
    "\n",
    "\"\"\"A manifacturing firm has been involved in statistical quality control for several years.\n",
    "As a part of the production proceess, parts are randomly selected and tested. From the recoreds of the tesrs, it has been established that a defective part occurs ina  patterns\n",
    "that a Poisson distributed on the average of 1.38 defects every 20 mins during producion runs. Use this info to determine the probability that less than 15 minutes will elapse b.w any two defects\"\"\"\n",
    "\n",
    "mul=1/1.38 # for 20 mins\n",
    "mul\n",
    "# for b/w two things go for exponential distribution"
   ]
  },
  {
   "cell_type": "code",
   "execution_count": 31,
   "metadata": {},
   "outputs": [
    {
     "data": {
      "text/plain": [
       "0.6447736190750485"
      ]
     },
     "execution_count": 31,
     "metadata": {},
     "output_type": "execute_result"
    }
   ],
   "source": [
    "from scipy.stats import expon\n",
    "expon.cdf(0.75,0,(mul))  #15/20=0.75, loc=0 because y=(x-loc)/ scale and y=x/scale"
   ]
  },
  {
   "cell_type": "code",
   "execution_count": 32,
   "metadata": {},
   "outputs": [
    {
     "name": "stdout",
     "output_type": "stream",
     "text": [
      "0.012740638735861376\n"
     ]
    }
   ],
   "source": [
    "\"\"\"If customers at petrol pump arrive at an average of 4 customers in 2 minutes. \n",
    "What is the probability of exactly 5 customers arriving in the 6-minute interval?\"\"\"\n",
    "\n",
    "print(poisson.pmf(5,12))"
   ]
  },
  {
   "cell_type": "code",
   "execution_count": 33,
   "metadata": {},
   "outputs": [
    {
     "data": {
      "text/plain": [
       "50.3"
      ]
     },
     "execution_count": 33,
     "metadata": {},
     "output_type": "execute_result"
    }
   ],
   "source": [
    "uniform.mean(loc=0.3, scale=100)"
   ]
  },
  {
   "cell_type": "code",
   "execution_count": 39,
   "metadata": {},
   "outputs": [
    {
     "name": "stdout",
     "output_type": "stream",
     "text": [
      "0.009815328628645315\n"
     ]
    }
   ],
   "source": [
    "print(1-norm.cdf(80,45,15))"
   ]
  },
  {
   "cell_type": "code",
   "execution_count": null,
   "metadata": {},
   "outputs": [],
   "source": []
  }
 ],
 "metadata": {
  "kernelspec": {
   "display_name": "Python 3",
   "language": "python",
   "name": "python3"
  },
  "language_info": {
   "codemirror_mode": {
    "name": "ipython",
    "version": 3
   },
   "file_extension": ".py",
   "mimetype": "text/x-python",
   "name": "python",
   "nbconvert_exporter": "python",
   "pygments_lexer": "ipython3",
   "version": "3.7.3"
  }
 },
 "nbformat": 4,
 "nbformat_minor": 2
}
