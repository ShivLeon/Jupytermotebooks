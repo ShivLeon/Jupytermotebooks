{
 "cells": [
  {
   "cell_type": "code",
   "execution_count": 1,
   "metadata": {},
   "outputs": [],
   "source": [
    "%run Google.ipynb # a way of importing .ipynb into another\n",
    "#from Google import Create_Service\n",
    "import pandas as pd"
   ]
  },
  {
   "cell_type": "code",
   "execution_count": null,
   "metadata": {},
   "outputs": [],
   "source": [
    "CLIENT_SECRET_FILE='client_secret.json'\n",
    "API_SERVICE_NAME='sheets'\n",
    "API_VERSION='v4'\n",
    "SCOPES=['https://drive.google.com/open?id=1TUAb6QB-UHcpPCaZhmk1iCiJhwwHjNK9']\n",
    "ghseetID='<Google Sheet Id>'\n",
    "\n",
    "s=Create_Service(CLIENT_SECRET_FILE, API_SERVICE_NAME, API_VERSION, SCOPES)\n",
    "gs=s.spreadsheets()\n",
    "rows=gs.values().get(spreadsheet_d=gsheetId, range='Test1').execute()\n",
    "data=rows.get('values')\n",
    "df=pd.DataFrame(data)\n",
    "print(df)"
   ]
  },
  {
   "cell_type": "code",
   "execution_count": null,
   "metadata": {},
   "outputs": [],
   "source": []
  }
 ],
 "metadata": {
  "kernelspec": {
   "display_name": "Python 3",
   "language": "python",
   "name": "python3"
  },
  "language_info": {
   "codemirror_mode": {
    "name": "ipython",
    "version": 3
   },
   "file_extension": ".py",
   "mimetype": "text/x-python",
   "name": "python",
   "nbconvert_exporter": "python",
   "pygments_lexer": "ipython3",
   "version": "3.7.6"
  }
 },
 "nbformat": 4,
 "nbformat_minor": 4
}
