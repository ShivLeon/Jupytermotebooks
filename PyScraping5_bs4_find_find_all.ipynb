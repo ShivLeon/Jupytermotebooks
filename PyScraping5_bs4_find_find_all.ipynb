{
 "cells": [
  {
   "cell_type": "code",
   "execution_count": 1,
   "metadata": {},
   "outputs": [],
   "source": [
    "from urllib.request import urlopen\n",
    "from bs4 import BeautifulSoup"
   ]
  },
  {
   "cell_type": "code",
   "execution_count": 2,
   "metadata": {},
   "outputs": [],
   "source": [
    "#Syntax of find:\n",
    "#find(tag,attribures,recursive,text,ketwords)\n",
    "#Syntax of find_all:\n",
    "#find_all(tag,attributes,recursive,text,limit,keywords)\n",
    "#Tags: {h1,h2...}\n",
    "#attributes: (\"span\",{'class':{...}})\n",
    "#text: text=\"something...\"\n",
    "#recursive: Boolean\n",
    "#limit: is set to 1 already\n",
    "#Keywords: helps to select perticular attribute"
   ]
  },
  {
   "cell_type": "code",
   "execution_count": null,
   "metadata": {},
   "outputs": [],
   "source": []
  }
 ],
 "metadata": {
  "kernelspec": {
   "display_name": "Python 3",
   "language": "python",
   "name": "python3"
  },
  "language_info": {
   "codemirror_mode": {
    "name": "ipython",
    "version": 3
   },
   "file_extension": ".py",
   "mimetype": "text/x-python",
   "name": "python",
   "nbconvert_exporter": "python",
   "pygments_lexer": "ipython3",
   "version": "3.7.6"
  }
 },
 "nbformat": 4,
 "nbformat_minor": 4
}
